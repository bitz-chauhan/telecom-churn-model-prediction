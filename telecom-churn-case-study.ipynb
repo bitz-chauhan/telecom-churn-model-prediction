{
 "cells": [
  {
   "cell_type": "markdown",
   "id": "2cc3b915",
   "metadata": {},
   "source": [
    "# Business Problem Overview\n",
    "In the telecommunications industry, customer retention is crucial due to the high competition and the significant costs associated with acquiring new customers. Customers often switch to different operators that offer better tariffs, improved network coverage, or superior customer service. This phenomenon of customers leaving one company for another is known as \"churn.\"\n",
    "\n",
    "## Objective: \n",
    "The primary objective is to develop a machine learning model that can predict whether a customer will churn in a given month based on historical data. This predictive capability can enable telecom operators to implement proactive strategies to retain customers at higher risk of churning by offering personalized incentives, improving service quality, or addressing specific grievances.\n",
    "\n",
    "## Business Impact:\n",
    "By accurately predicting potential churn, the company can reduce customer acquisition costs by retaining existing customers. Increase customer lifetime value through targeted retention strategies. Enhance overall customer satisfaction and loyalty by addressing issues preemptively. Optimize marketing spend by focusing on high-risk customers. Steps to Address the Business Problem\n",
    "\n",
    "## Understanding the Problem Statement and Business Requirements:\n",
    "* Define churn in the context of the business. Identify key factors that influence churn.\n",
    "\n",
    "* Collect historical data on customer behavior, service usage, billing information, customer interactions, and demographic details. Ensure the data includes a target variable indicating whether the customer churned.\n",
    "\n",
    "* Perform exploratory data analysis to understand the patterns and distributions. Clean the data by handling missing values, outliers, and incorrect entries. Feature engineering to create meaningful variables from the data. Split the data into training and testing sets to evaluate the model's performance.\n",
    "\n",
    "*  Choose appropriate machine learning algorithms (e.g. decision trees, random forests, Extreme gradient boosting Alogorithom).\n",
    "* Train the models on the training dataset. Tune the models to find the optimal parameters and model Evaluation.\n",
    "* Evaluate the models using appropriate metrics i.e. accuracy_score and Select the best-performing model based on the evaluation. \n",
    "\n",
    "* Continuously monitor the model's performance and make adjustments as needed. Update the model periodically with new data to adapt to changes in customer behavior and market conditions. By following these steps, the telecom operator can develop a robust mechanism to predict churn and implement effective retention strategies, thereby stabilizing their customer base and enhancing profitability."
   ]
  },
  {
   "cell_type": "markdown",
   "id": "c1e4ebe6",
   "metadata": {},
   "source": [
    "## Data understanding, preparation & pre-processing\n",
    "Here we are going to do the analysis on test dataset to understand its characteristics and prepare it further for analysis or model training.\n",
    "\n",
    "As part of Data Understanding we will cover below points:\n",
    "\n",
    "### Descriptive statistics to summarize the data.\n",
    "Distribution of key variables.\n",
    "Correlation analysis to understand relationships between variables.\n",
    "As part of Data Preparation & Pre-processing we will cover below steps:\n",
    "\n",
    "### Handling outliers if necessary.\n",
    "Encoding categorical variables.\n",
    "Feature scaling."
   ]
  },
  {
   "cell_type": "markdown",
   "id": "a45ee715",
   "metadata": {},
   "source": [
    "## Import Libraries: \n",
    "\n",
    "Import all required liberaries."
   ]
  },
  {
   "cell_type": "code",
   "execution_count": 1,
   "id": "558c2f16",
   "metadata": {},
   "outputs": [],
   "source": [
    "import warnings\n",
    "warnings.filterwarnings('ignore')\n",
    "import pandas as pd, numpy as np\n",
    "from sklearn.model_selection import train_test_split\n",
    "import matplotlib.pyplot as plt \n",
    "import seaborn as sns\n",
    "from sklearn.preprocessing import MinMaxScaler\n",
    "import statsmodels.api as sm\n",
    "from sklearn.tree import DecisionTreeClassifier\n",
    "from sklearn.metrics import classification_report\n",
    "from sklearn.model_selection import GridSearchCV\n",
    "from sklearn.ensemble import RandomForestClassifier\n",
    "from sklearn.metrics import accuracy_score\n",
    "from sklearn.metrics import confusion_matrix\n",
    "import xgboost as xgb\n",
    "from sklearn.model_selection import RandomizedSearchCV\n",
    "import re"
   ]
  },
  {
   "cell_type": "markdown",
   "id": "65ac3b5d",
   "metadata": {},
   "source": [
    "## Load Data:\n",
    "\n",
    "Load data using pd.read_csv() method."
   ]
  },
  {
   "cell_type": "code",
   "execution_count": 2,
   "id": "af4146e2",
   "metadata": {},
   "outputs": [
    {
     "name": "stdout",
     "output_type": "stream",
     "text": [
      "(69999, 172)\n",
      "(30000, 171)\n",
      "(30000, 2)\n",
      "(36, 2)\n"
     ]
    }
   ],
   "source": [
    "data = pd.read_csv(\"train.csv\")\n",
    "unseen = pd.read_csv(\"test.csv\")\n",
    "sample = pd.read_csv(\"sample.csv\")\n",
    "data_dict = pd.read_csv(\"data_dictionary.csv\")\n",
    "\n",
    "print(data.shape)\n",
    "print(unseen.shape)\n",
    "print(sample.shape)\n",
    "print(data_dict.shape)"
   ]
  },
  {
   "cell_type": "markdown",
   "id": "4085f574",
   "metadata": {},
   "source": [
    "## Data Enrichment: \n",
    "\n",
    "Transforming Raw Data into Meaningful Insights"
   ]
  },
  {
   "cell_type": "code",
   "execution_count": 3,
   "id": "6ce7f93c",
   "metadata": {},
   "outputs": [],
   "source": [
    "ids = ['id','circle_id']\n",
    "total_amounts = [i for i in list(data.columns) if re.search('total.+amt',i)]\n",
    "total_outgoing_minutes = [i for i in list(data.columns) if re.search('total.+og.+mou',i)]\n",
    "offnetwork_minutes = [i for i in list(data.columns) if re.search('offnet',i)]\n",
    "average_revenue_3g = [i for i in list(data.columns) if re.search('arpu.+3g',i)]\n",
    "average_revenue_2g = [i for i in list(data.columns) if re.search('arpu.+2g',i)]\n",
    "volume_3g = [i for i in list(data.columns) if re.search('vol.+3g',i)]\n",
    "volume_2g = [i for i in list(data.columns) if re.search('vol.+2g',i)]\n",
    "age_on_network = [i for i in list(data.columns) if re.search('aon',i)]\n",
    "\n",
    "#Storing them in a single flat list\n",
    "variables = [*ids, \n",
    "             *total_amounts, \n",
    "             *total_outgoing_minutes, \n",
    "             *offnetwork_minutes, \n",
    "             *average_revenue_3g, \n",
    "             *average_revenue_2g,\n",
    "             *volume_3g,\n",
    "             *volume_2g,\n",
    "             *age_on_network, \n",
    "             'churn_probability']\n",
    "\n",
    "telecom = data[variables].set_index('id')"
   ]
  },
  {
   "cell_type": "markdown",
   "id": "06b915e5",
   "metadata": {},
   "source": [
    "## Snapshot Analysis: \n",
    "\n",
    "Average Statistics for a Rapid Data Overview"
   ]
  },
  {
   "cell_type": "code",
   "execution_count": 4,
   "id": "52cfa63f",
   "metadata": {},
   "outputs": [
    {
     "data": {
      "text/html": [
       "<div>\n",
       "<style scoped>\n",
       "    .dataframe tbody tr th:only-of-type {\n",
       "        vertical-align: middle;\n",
       "    }\n",
       "\n",
       "    .dataframe tbody tr th {\n",
       "        vertical-align: top;\n",
       "    }\n",
       "\n",
       "    .dataframe thead th {\n",
       "        text-align: right;\n",
       "    }\n",
       "</style>\n",
       "<table border=\"1\" class=\"dataframe\">\n",
       "  <thead>\n",
       "    <tr style=\"text-align: right;\">\n",
       "      <th></th>\n",
       "      <th>circle_id</th>\n",
       "      <th>total_rech_amt_6</th>\n",
       "      <th>total_rech_amt_7</th>\n",
       "      <th>total_rech_amt_8</th>\n",
       "      <th>total_og_mou_6</th>\n",
       "      <th>total_og_mou_7</th>\n",
       "      <th>total_og_mou_8</th>\n",
       "      <th>offnet_mou_6</th>\n",
       "      <th>offnet_mou_7</th>\n",
       "      <th>offnet_mou_8</th>\n",
       "      <th>...</th>\n",
       "      <th>arpu_2g_7</th>\n",
       "      <th>arpu_2g_8</th>\n",
       "      <th>vol_3g_mb_6</th>\n",
       "      <th>vol_3g_mb_7</th>\n",
       "      <th>vol_3g_mb_8</th>\n",
       "      <th>vol_2g_mb_6</th>\n",
       "      <th>vol_2g_mb_7</th>\n",
       "      <th>vol_2g_mb_8</th>\n",
       "      <th>aon</th>\n",
       "      <th>churn_probability</th>\n",
       "    </tr>\n",
       "  </thead>\n",
       "  <tbody>\n",
       "    <tr>\n",
       "      <th>count</th>\n",
       "      <td>69999.0</td>\n",
       "      <td>69999.000000</td>\n",
       "      <td>69999.000000</td>\n",
       "      <td>69999.000000</td>\n",
       "      <td>69999.000000</td>\n",
       "      <td>69999.000000</td>\n",
       "      <td>69999.000000</td>\n",
       "      <td>67231.000000</td>\n",
       "      <td>67312.000000</td>\n",
       "      <td>66296.000000</td>\n",
       "      <td>...</td>\n",
       "      <td>17865.000000</td>\n",
       "      <td>18417.000000</td>\n",
       "      <td>69999.000000</td>\n",
       "      <td>69999.000000</td>\n",
       "      <td>69999.000000</td>\n",
       "      <td>69999.000000</td>\n",
       "      <td>69999.000000</td>\n",
       "      <td>69999.000000</td>\n",
       "      <td>69999.000000</td>\n",
       "      <td>69999.000000</td>\n",
       "    </tr>\n",
       "    <tr>\n",
       "      <th>mean</th>\n",
       "      <td>109.0</td>\n",
       "      <td>328.139788</td>\n",
       "      <td>322.376363</td>\n",
       "      <td>323.846355</td>\n",
       "      <td>306.451436</td>\n",
       "      <td>310.572674</td>\n",
       "      <td>304.513065</td>\n",
       "      <td>198.874771</td>\n",
       "      <td>197.153383</td>\n",
       "      <td>196.543577</td>\n",
       "      <td>...</td>\n",
       "      <td>85.846074</td>\n",
       "      <td>86.348404</td>\n",
       "      <td>122.171882</td>\n",
       "      <td>128.934444</td>\n",
       "      <td>135.486541</td>\n",
       "      <td>51.773924</td>\n",
       "      <td>51.240204</td>\n",
       "      <td>50.127506</td>\n",
       "      <td>1220.639709</td>\n",
       "      <td>0.101887</td>\n",
       "    </tr>\n",
       "    <tr>\n",
       "      <th>std</th>\n",
       "      <td>0.0</td>\n",
       "      <td>404.211068</td>\n",
       "      <td>411.070120</td>\n",
       "      <td>426.181405</td>\n",
       "      <td>465.502866</td>\n",
       "      <td>479.131770</td>\n",
       "      <td>477.936832</td>\n",
       "      <td>316.818355</td>\n",
       "      <td>322.482226</td>\n",
       "      <td>324.089234</td>\n",
       "      <td>...</td>\n",
       "      <td>178.067280</td>\n",
       "      <td>170.297094</td>\n",
       "      <td>554.869965</td>\n",
       "      <td>554.096072</td>\n",
       "      <td>568.310234</td>\n",
       "      <td>212.513909</td>\n",
       "      <td>211.114667</td>\n",
       "      <td>213.101403</td>\n",
       "      <td>952.426321</td>\n",
       "      <td>0.302502</td>\n",
       "    </tr>\n",
       "    <tr>\n",
       "      <th>min</th>\n",
       "      <td>109.0</td>\n",
       "      <td>0.000000</td>\n",
       "      <td>0.000000</td>\n",
       "      <td>0.000000</td>\n",
       "      <td>0.000000</td>\n",
       "      <td>0.000000</td>\n",
       "      <td>0.000000</td>\n",
       "      <td>0.000000</td>\n",
       "      <td>0.000000</td>\n",
       "      <td>0.000000</td>\n",
       "      <td>...</td>\n",
       "      <td>-13.090000</td>\n",
       "      <td>-55.830000</td>\n",
       "      <td>0.000000</td>\n",
       "      <td>0.000000</td>\n",
       "      <td>0.000000</td>\n",
       "      <td>0.000000</td>\n",
       "      <td>0.000000</td>\n",
       "      <td>0.000000</td>\n",
       "      <td>180.000000</td>\n",
       "      <td>0.000000</td>\n",
       "    </tr>\n",
       "    <tr>\n",
       "      <th>25%</th>\n",
       "      <td>109.0</td>\n",
       "      <td>110.000000</td>\n",
       "      <td>100.000000</td>\n",
       "      <td>90.000000</td>\n",
       "      <td>44.780000</td>\n",
       "      <td>42.910000</td>\n",
       "      <td>38.710000</td>\n",
       "      <td>34.860000</td>\n",
       "      <td>32.240000</td>\n",
       "      <td>31.575000</td>\n",
       "      <td>...</td>\n",
       "      <td>0.000000</td>\n",
       "      <td>0.000000</td>\n",
       "      <td>0.000000</td>\n",
       "      <td>0.000000</td>\n",
       "      <td>0.000000</td>\n",
       "      <td>0.000000</td>\n",
       "      <td>0.000000</td>\n",
       "      <td>0.000000</td>\n",
       "      <td>468.000000</td>\n",
       "      <td>0.000000</td>\n",
       "    </tr>\n",
       "    <tr>\n",
       "      <th>50%</th>\n",
       "      <td>109.0</td>\n",
       "      <td>229.000000</td>\n",
       "      <td>220.000000</td>\n",
       "      <td>225.000000</td>\n",
       "      <td>145.280000</td>\n",
       "      <td>141.230000</td>\n",
       "      <td>138.360000</td>\n",
       "      <td>96.480000</td>\n",
       "      <td>91.885000</td>\n",
       "      <td>91.800000</td>\n",
       "      <td>...</td>\n",
       "      <td>8.800000</td>\n",
       "      <td>9.090000</td>\n",
       "      <td>0.000000</td>\n",
       "      <td>0.000000</td>\n",
       "      <td>0.000000</td>\n",
       "      <td>0.000000</td>\n",
       "      <td>0.000000</td>\n",
       "      <td>0.000000</td>\n",
       "      <td>868.000000</td>\n",
       "      <td>0.000000</td>\n",
       "    </tr>\n",
       "    <tr>\n",
       "      <th>75%</th>\n",
       "      <td>109.0</td>\n",
       "      <td>438.000000</td>\n",
       "      <td>430.000000</td>\n",
       "      <td>436.000000</td>\n",
       "      <td>374.305000</td>\n",
       "      <td>380.045000</td>\n",
       "      <td>370.895000</td>\n",
       "      <td>232.990000</td>\n",
       "      <td>227.630000</td>\n",
       "      <td>229.345000</td>\n",
       "      <td>...</td>\n",
       "      <td>122.070000</td>\n",
       "      <td>122.070000</td>\n",
       "      <td>0.000000</td>\n",
       "      <td>0.000000</td>\n",
       "      <td>0.000000</td>\n",
       "      <td>0.000000</td>\n",
       "      <td>0.000000</td>\n",
       "      <td>0.000000</td>\n",
       "      <td>1813.000000</td>\n",
       "      <td>0.000000</td>\n",
       "    </tr>\n",
       "    <tr>\n",
       "      <th>max</th>\n",
       "      <td>109.0</td>\n",
       "      <td>35190.000000</td>\n",
       "      <td>40335.000000</td>\n",
       "      <td>45320.000000</td>\n",
       "      <td>10674.030000</td>\n",
       "      <td>8285.640000</td>\n",
       "      <td>14043.060000</td>\n",
       "      <td>8362.360000</td>\n",
       "      <td>7043.980000</td>\n",
       "      <td>14007.340000</td>\n",
       "      <td>...</td>\n",
       "      <td>4809.360000</td>\n",
       "      <td>3483.170000</td>\n",
       "      <td>45735.400000</td>\n",
       "      <td>28144.120000</td>\n",
       "      <td>30036.060000</td>\n",
       "      <td>10285.900000</td>\n",
       "      <td>7873.550000</td>\n",
       "      <td>11117.610000</td>\n",
       "      <td>4337.000000</td>\n",
       "      <td>1.000000</td>\n",
       "    </tr>\n",
       "  </tbody>\n",
       "</table>\n",
       "<p>8 rows × 24 columns</p>\n",
       "</div>"
      ],
      "text/plain": [
       "       circle_id  total_rech_amt_6  total_rech_amt_7  total_rech_amt_8  \\\n",
       "count    69999.0      69999.000000      69999.000000      69999.000000   \n",
       "mean       109.0        328.139788        322.376363        323.846355   \n",
       "std          0.0        404.211068        411.070120        426.181405   \n",
       "min        109.0          0.000000          0.000000          0.000000   \n",
       "25%        109.0        110.000000        100.000000         90.000000   \n",
       "50%        109.0        229.000000        220.000000        225.000000   \n",
       "75%        109.0        438.000000        430.000000        436.000000   \n",
       "max        109.0      35190.000000      40335.000000      45320.000000   \n",
       "\n",
       "       total_og_mou_6  total_og_mou_7  total_og_mou_8  offnet_mou_6  \\\n",
       "count    69999.000000    69999.000000    69999.000000  67231.000000   \n",
       "mean       306.451436      310.572674      304.513065    198.874771   \n",
       "std        465.502866      479.131770      477.936832    316.818355   \n",
       "min          0.000000        0.000000        0.000000      0.000000   \n",
       "25%         44.780000       42.910000       38.710000     34.860000   \n",
       "50%        145.280000      141.230000      138.360000     96.480000   \n",
       "75%        374.305000      380.045000      370.895000    232.990000   \n",
       "max      10674.030000     8285.640000    14043.060000   8362.360000   \n",
       "\n",
       "       offnet_mou_7  offnet_mou_8  ...     arpu_2g_7     arpu_2g_8  \\\n",
       "count  67312.000000  66296.000000  ...  17865.000000  18417.000000   \n",
       "mean     197.153383    196.543577  ...     85.846074     86.348404   \n",
       "std      322.482226    324.089234  ...    178.067280    170.297094   \n",
       "min        0.000000      0.000000  ...    -13.090000    -55.830000   \n",
       "25%       32.240000     31.575000  ...      0.000000      0.000000   \n",
       "50%       91.885000     91.800000  ...      8.800000      9.090000   \n",
       "75%      227.630000    229.345000  ...    122.070000    122.070000   \n",
       "max     7043.980000  14007.340000  ...   4809.360000   3483.170000   \n",
       "\n",
       "        vol_3g_mb_6   vol_3g_mb_7   vol_3g_mb_8   vol_2g_mb_6   vol_2g_mb_7  \\\n",
       "count  69999.000000  69999.000000  69999.000000  69999.000000  69999.000000   \n",
       "mean     122.171882    128.934444    135.486541     51.773924     51.240204   \n",
       "std      554.869965    554.096072    568.310234    212.513909    211.114667   \n",
       "min        0.000000      0.000000      0.000000      0.000000      0.000000   \n",
       "25%        0.000000      0.000000      0.000000      0.000000      0.000000   \n",
       "50%        0.000000      0.000000      0.000000      0.000000      0.000000   \n",
       "75%        0.000000      0.000000      0.000000      0.000000      0.000000   \n",
       "max    45735.400000  28144.120000  30036.060000  10285.900000   7873.550000   \n",
       "\n",
       "        vol_2g_mb_8           aon  churn_probability  \n",
       "count  69999.000000  69999.000000       69999.000000  \n",
       "mean      50.127506   1220.639709           0.101887  \n",
       "std      213.101403    952.426321           0.302502  \n",
       "min        0.000000    180.000000           0.000000  \n",
       "25%        0.000000    468.000000           0.000000  \n",
       "50%        0.000000    868.000000           0.000000  \n",
       "75%        0.000000   1813.000000           0.000000  \n",
       "max    11117.610000   4337.000000           1.000000  \n",
       "\n",
       "[8 rows x 24 columns]"
      ]
     },
     "execution_count": 4,
     "metadata": {},
     "output_type": "execute_result"
    }
   ],
   "source": [
    "telecom.describe()"
   ]
  },
  {
   "cell_type": "code",
   "execution_count": 5,
   "id": "57998bcf",
   "metadata": {},
   "outputs": [
    {
     "name": "stdout",
     "output_type": "stream",
     "text": [
      "<class 'pandas.core.frame.DataFrame'>\n",
      "Index: 69999 entries, 0 to 69998\n",
      "Data columns (total 24 columns):\n",
      " #   Column             Non-Null Count  Dtype  \n",
      "---  ------             --------------  -----  \n",
      " 0   circle_id          69999 non-null  int64  \n",
      " 1   total_rech_amt_6   69999 non-null  int64  \n",
      " 2   total_rech_amt_7   69999 non-null  int64  \n",
      " 3   total_rech_amt_8   69999 non-null  int64  \n",
      " 4   total_og_mou_6     69999 non-null  float64\n",
      " 5   total_og_mou_7     69999 non-null  float64\n",
      " 6   total_og_mou_8     69999 non-null  float64\n",
      " 7   offnet_mou_6       67231 non-null  float64\n",
      " 8   offnet_mou_7       67312 non-null  float64\n",
      " 9   offnet_mou_8       66296 non-null  float64\n",
      " 10  arpu_3g_6          17568 non-null  float64\n",
      " 11  arpu_3g_7          17865 non-null  float64\n",
      " 12  arpu_3g_8          18417 non-null  float64\n",
      " 13  arpu_2g_6          17568 non-null  float64\n",
      " 14  arpu_2g_7          17865 non-null  float64\n",
      " 15  arpu_2g_8          18417 non-null  float64\n",
      " 16  vol_3g_mb_6        69999 non-null  float64\n",
      " 17  vol_3g_mb_7        69999 non-null  float64\n",
      " 18  vol_3g_mb_8        69999 non-null  float64\n",
      " 19  vol_2g_mb_6        69999 non-null  float64\n",
      " 20  vol_2g_mb_7        69999 non-null  float64\n",
      " 21  vol_2g_mb_8        69999 non-null  float64\n",
      " 22  aon                69999 non-null  int64  \n",
      " 23  churn_probability  69999 non-null  int64  \n",
      "dtypes: float64(18), int64(6)\n",
      "memory usage: 13.4 MB\n"
     ]
    }
   ],
   "source": [
    "telecom.info(verbose=1)"
   ]
  },
  {
   "cell_type": "markdown",
   "id": "ffb9cc4a",
   "metadata": {},
   "source": [
    "## Detecting Data Gaps: \n",
    "\n",
    "Exploring Missing Values in the Dataset"
   ]
  },
  {
   "cell_type": "code",
   "execution_count": 6,
   "id": "6cdbaf4a",
   "metadata": {},
   "outputs": [
    {
     "data": {
      "text/plain": [
       "circle_id             0.00\n",
       "total_rech_amt_6      0.00\n",
       "total_rech_amt_7      0.00\n",
       "total_rech_amt_8      0.00\n",
       "total_og_mou_6        0.00\n",
       "total_og_mou_7        0.00\n",
       "total_og_mou_8        0.00\n",
       "offnet_mou_6          3.95\n",
       "offnet_mou_7          3.84\n",
       "offnet_mou_8          5.29\n",
       "arpu_3g_6            74.90\n",
       "arpu_3g_7            74.48\n",
       "arpu_3g_8            73.69\n",
       "arpu_2g_6            74.90\n",
       "arpu_2g_7            74.48\n",
       "arpu_2g_8            73.69\n",
       "vol_3g_mb_6           0.00\n",
       "vol_3g_mb_7           0.00\n",
       "vol_3g_mb_8           0.00\n",
       "vol_2g_mb_6           0.00\n",
       "vol_2g_mb_7           0.00\n",
       "vol_2g_mb_8           0.00\n",
       "aon                   0.00\n",
       "churn_probability     0.00\n",
       "dtype: float64"
      ]
     },
     "execution_count": 6,
     "metadata": {},
     "output_type": "execute_result"
    }
   ],
   "source": [
    "# Checking the percentage of missing values\n",
    "round(100*(telecom.isnull().sum()/len(telecom.index)), 2)"
   ]
  },
  {
   "cell_type": "markdown",
   "id": "a30b623b",
   "metadata": {},
   "source": [
    "## Removing Sparse Features: \n",
    "\n",
    "Dropping Columns with Over 50% Missing Values"
   ]
  },
  {
   "cell_type": "code",
   "execution_count": 7,
   "id": "854e3edf",
   "metadata": {},
   "outputs": [
    {
     "data": {
      "text/plain": [
       "(69999, 18)"
      ]
     },
     "execution_count": 7,
     "metadata": {},
     "output_type": "execute_result"
    }
   ],
   "source": [
    "#removing columns which have 50% data missing.\n",
    "missing_data_percent = round(100*(telecom.isnull().sum()/len(telecom.index)), 2)\n",
    "new_vars = missing_data_percent[missing_data_percent.le(50)].index\n",
    "telecom = telecom[new_vars]\n",
    "telecom.shape"
   ]
  },
  {
   "cell_type": "code",
   "execution_count": 8,
   "id": "17fc1475",
   "metadata": {},
   "outputs": [
    {
     "data": {
      "text/html": [
       "<div>\n",
       "<style scoped>\n",
       "    .dataframe tbody tr th:only-of-type {\n",
       "        vertical-align: middle;\n",
       "    }\n",
       "\n",
       "    .dataframe tbody tr th {\n",
       "        vertical-align: top;\n",
       "    }\n",
       "\n",
       "    .dataframe thead th {\n",
       "        text-align: right;\n",
       "    }\n",
       "</style>\n",
       "<table border=\"1\" class=\"dataframe\">\n",
       "  <thead>\n",
       "    <tr style=\"text-align: right;\">\n",
       "      <th></th>\n",
       "      <th>total_rech_amt_6</th>\n",
       "      <th>total_rech_amt_7</th>\n",
       "      <th>total_rech_amt_8</th>\n",
       "      <th>total_og_mou_6</th>\n",
       "      <th>total_og_mou_7</th>\n",
       "      <th>total_og_mou_8</th>\n",
       "      <th>offnet_mou_6</th>\n",
       "      <th>offnet_mou_7</th>\n",
       "      <th>offnet_mou_8</th>\n",
       "      <th>vol_3g_mb_6</th>\n",
       "      <th>vol_3g_mb_7</th>\n",
       "      <th>vol_3g_mb_8</th>\n",
       "      <th>vol_2g_mb_6</th>\n",
       "      <th>vol_2g_mb_7</th>\n",
       "      <th>vol_2g_mb_8</th>\n",
       "      <th>aon</th>\n",
       "      <th>churn_probability</th>\n",
       "    </tr>\n",
       "    <tr>\n",
       "      <th>id</th>\n",
       "      <th></th>\n",
       "      <th></th>\n",
       "      <th></th>\n",
       "      <th></th>\n",
       "      <th></th>\n",
       "      <th></th>\n",
       "      <th></th>\n",
       "      <th></th>\n",
       "      <th></th>\n",
       "      <th></th>\n",
       "      <th></th>\n",
       "      <th></th>\n",
       "      <th></th>\n",
       "      <th></th>\n",
       "      <th></th>\n",
       "      <th></th>\n",
       "      <th></th>\n",
       "    </tr>\n",
       "  </thead>\n",
       "  <tbody>\n",
       "    <tr>\n",
       "      <th>0</th>\n",
       "      <td>77</td>\n",
       "      <td>65</td>\n",
       "      <td>10</td>\n",
       "      <td>81.21</td>\n",
       "      <td>221.68</td>\n",
       "      <td>3.63</td>\n",
       "      <td>32.24</td>\n",
       "      <td>96.68</td>\n",
       "      <td>2.33</td>\n",
       "      <td>0.0</td>\n",
       "      <td>0.00</td>\n",
       "      <td>0.0</td>\n",
       "      <td>0.0</td>\n",
       "      <td>0.00</td>\n",
       "      <td>0.00</td>\n",
       "      <td>1958</td>\n",
       "      <td>0</td>\n",
       "    </tr>\n",
       "    <tr>\n",
       "      <th>1</th>\n",
       "      <td>0</td>\n",
       "      <td>145</td>\n",
       "      <td>50</td>\n",
       "      <td>0.00</td>\n",
       "      <td>30.73</td>\n",
       "      <td>31.66</td>\n",
       "      <td>0.00</td>\n",
       "      <td>25.99</td>\n",
       "      <td>30.89</td>\n",
       "      <td>0.0</td>\n",
       "      <td>3.96</td>\n",
       "      <td>0.0</td>\n",
       "      <td>0.0</td>\n",
       "      <td>352.91</td>\n",
       "      <td>0.00</td>\n",
       "      <td>710</td>\n",
       "      <td>0</td>\n",
       "    </tr>\n",
       "    <tr>\n",
       "      <th>2</th>\n",
       "      <td>70</td>\n",
       "      <td>120</td>\n",
       "      <td>0</td>\n",
       "      <td>56.49</td>\n",
       "      <td>99.36</td>\n",
       "      <td>0.00</td>\n",
       "      <td>53.99</td>\n",
       "      <td>82.05</td>\n",
       "      <td>0.00</td>\n",
       "      <td>0.0</td>\n",
       "      <td>0.00</td>\n",
       "      <td>0.0</td>\n",
       "      <td>0.0</td>\n",
       "      <td>0.00</td>\n",
       "      <td>0.00</td>\n",
       "      <td>882</td>\n",
       "      <td>0</td>\n",
       "    </tr>\n",
       "    <tr>\n",
       "      <th>3</th>\n",
       "      <td>160</td>\n",
       "      <td>240</td>\n",
       "      <td>130</td>\n",
       "      <td>76.03</td>\n",
       "      <td>95.98</td>\n",
       "      <td>53.84</td>\n",
       "      <td>68.76</td>\n",
       "      <td>78.48</td>\n",
       "      <td>50.23</td>\n",
       "      <td>0.0</td>\n",
       "      <td>0.00</td>\n",
       "      <td>0.0</td>\n",
       "      <td>0.0</td>\n",
       "      <td>0.00</td>\n",
       "      <td>0.00</td>\n",
       "      <td>982</td>\n",
       "      <td>0</td>\n",
       "    </tr>\n",
       "    <tr>\n",
       "      <th>4</th>\n",
       "      <td>290</td>\n",
       "      <td>136</td>\n",
       "      <td>122</td>\n",
       "      <td>63.26</td>\n",
       "      <td>42.94</td>\n",
       "      <td>15.76</td>\n",
       "      <td>56.99</td>\n",
       "      <td>38.11</td>\n",
       "      <td>9.63</td>\n",
       "      <td>0.0</td>\n",
       "      <td>0.00</td>\n",
       "      <td>0.0</td>\n",
       "      <td>390.8</td>\n",
       "      <td>308.89</td>\n",
       "      <td>213.47</td>\n",
       "      <td>647</td>\n",
       "      <td>0</td>\n",
       "    </tr>\n",
       "  </tbody>\n",
       "</table>\n",
       "</div>"
      ],
      "text/plain": [
       "    total_rech_amt_6  total_rech_amt_7  total_rech_amt_8  total_og_mou_6  \\\n",
       "id                                                                         \n",
       "0                 77                65                10           81.21   \n",
       "1                  0               145                50            0.00   \n",
       "2                 70               120                 0           56.49   \n",
       "3                160               240               130           76.03   \n",
       "4                290               136               122           63.26   \n",
       "\n",
       "    total_og_mou_7  total_og_mou_8  offnet_mou_6  offnet_mou_7  offnet_mou_8  \\\n",
       "id                                                                             \n",
       "0           221.68            3.63         32.24         96.68          2.33   \n",
       "1            30.73           31.66          0.00         25.99         30.89   \n",
       "2            99.36            0.00         53.99         82.05          0.00   \n",
       "3            95.98           53.84         68.76         78.48         50.23   \n",
       "4            42.94           15.76         56.99         38.11          9.63   \n",
       "\n",
       "    vol_3g_mb_6  vol_3g_mb_7  vol_3g_mb_8  vol_2g_mb_6  vol_2g_mb_7  \\\n",
       "id                                                                    \n",
       "0           0.0         0.00          0.0          0.0         0.00   \n",
       "1           0.0         3.96          0.0          0.0       352.91   \n",
       "2           0.0         0.00          0.0          0.0         0.00   \n",
       "3           0.0         0.00          0.0          0.0         0.00   \n",
       "4           0.0         0.00          0.0        390.8       308.89   \n",
       "\n",
       "    vol_2g_mb_8   aon  churn_probability  \n",
       "id                                        \n",
       "0          0.00  1958                  0  \n",
       "1          0.00   710                  0  \n",
       "2          0.00   882                  0  \n",
       "3          0.00   982                  0  \n",
       "4        213.47   647                  0  "
      ]
     },
     "execution_count": 8,
     "metadata": {},
     "output_type": "execute_result"
    }
   ],
   "source": [
    "#dropping irrelevant column\n",
    "telecom.drop(['circle_id'], axis=1, inplace=True)\n",
    "telecom.head()"
   ]
  },
  {
   "cell_type": "code",
   "execution_count": 9,
   "id": "c1602d2f",
   "metadata": {},
   "outputs": [
    {
     "data": {
      "text/plain": [
       "total_rech_amt_6     0.00\n",
       "total_rech_amt_7     0.00\n",
       "total_rech_amt_8     0.00\n",
       "total_og_mou_6       0.00\n",
       "total_og_mou_7       0.00\n",
       "total_og_mou_8       0.00\n",
       "offnet_mou_6         3.95\n",
       "offnet_mou_7         3.84\n",
       "offnet_mou_8         5.29\n",
       "vol_3g_mb_6          0.00\n",
       "vol_3g_mb_7          0.00\n",
       "vol_3g_mb_8          0.00\n",
       "vol_2g_mb_6          0.00\n",
       "vol_2g_mb_7          0.00\n",
       "vol_2g_mb_8          0.00\n",
       "aon                  0.00\n",
       "churn_probability    0.00\n",
       "dtype: float64"
      ]
     },
     "execution_count": 9,
     "metadata": {},
     "output_type": "execute_result"
    }
   ],
   "source": [
    "#checking missing values (in percent)\n",
    "round(100*(telecom.isnull().sum()/len(telecom.index)), 2)"
   ]
  },
  {
   "cell_type": "markdown",
   "id": "051fff07",
   "metadata": {},
   "source": [
    "<b>we still have blank columns with some percent, we can fill it with the mean value of the column</b>"
   ]
  },
  {
   "cell_type": "code",
   "execution_count": 10,
   "id": "7c976991",
   "metadata": {},
   "outputs": [],
   "source": [
    "#filling data with mean values\n",
    "for col in telecom.columns:\n",
    "    telecom[col].fillna(telecom[col].mean(), inplace=True)"
   ]
  },
  {
   "cell_type": "code",
   "execution_count": 11,
   "id": "83da568e",
   "metadata": {},
   "outputs": [
    {
     "data": {
      "text/plain": [
       "total_rech_amt_6     0.0\n",
       "total_rech_amt_7     0.0\n",
       "total_rech_amt_8     0.0\n",
       "total_og_mou_6       0.0\n",
       "total_og_mou_7       0.0\n",
       "total_og_mou_8       0.0\n",
       "offnet_mou_6         0.0\n",
       "offnet_mou_7         0.0\n",
       "offnet_mou_8         0.0\n",
       "vol_3g_mb_6          0.0\n",
       "vol_3g_mb_7          0.0\n",
       "vol_3g_mb_8          0.0\n",
       "vol_2g_mb_6          0.0\n",
       "vol_2g_mb_7          0.0\n",
       "vol_2g_mb_8          0.0\n",
       "aon                  0.0\n",
       "churn_probability    0.0\n",
       "dtype: float64"
      ]
     },
     "execution_count": 11,
     "metadata": {},
     "output_type": "execute_result"
    }
   ],
   "source": [
    "round(100*(telecom.isnull().sum()/len(telecom.index)), 2)"
   ]
  },
  {
   "cell_type": "markdown",
   "id": "aee7925a",
   "metadata": {},
   "source": [
    "<b>now we can proceed, as there is no null/blank valules in the dataset.</b>"
   ]
  },
  {
   "cell_type": "markdown",
   "id": "7b005e6c",
   "metadata": {},
   "source": [
    "## Data Dimensions: \n",
    "\n",
    "Exploring the Shape of the Dataset"
   ]
  },
  {
   "cell_type": "code",
   "execution_count": 12,
   "id": "e0574f68",
   "metadata": {},
   "outputs": [
    {
     "data": {
      "text/plain": [
       "(69999, 17)"
      ]
     },
     "execution_count": 12,
     "metadata": {},
     "output_type": "execute_result"
    }
   ],
   "source": [
    "telecom.shape"
   ]
  },
  {
   "cell_type": "markdown",
   "id": "c0831579",
   "metadata": {},
   "source": [
    "## Exploratory Data Analysis & Preprocessing:\n",
    "\n",
    "Lets analysing the univariate distributions of each feature.\n"
   ]
  },
  {
   "cell_type": "code",
   "execution_count": 13,
   "id": "5836bb95",
   "metadata": {},
   "outputs": [
    {
     "data": {
      "text/plain": [
       "<Axes: >"
      ]
     },
     "execution_count": 13,
     "metadata": {},
     "output_type": "execute_result"
    },
    {
     "data": {
      "image/png": "[encoded data removed]",
      "text/plain": [
       "<Figure size 1500x800 with 1 Axes>"
      ]
     },
     "metadata": {},
     "output_type": "display_data"
    }
   ],
   "source": [
    "plt.figure(figsize=(15,8))\n",
    "plt.xticks(rotation=45)\n",
    "sns.boxplot(data = telecom)"
   ]
  },
  {
   "cell_type": "markdown",
   "id": "305280c5",
   "metadata": {},
   "source": [
    "## Handling outliers:\n",
    "\n",
    "The box plots of these features show there a lot of outliers. These can be capped with k-sigma method."
   ]
  },
  {
   "cell_type": "code",
   "execution_count": 14,
   "id": "9bc569a9",
   "metadata": {},
   "outputs": [],
   "source": [
    "def cap_outliers(array, k=3):\n",
    "    upper_limit = array.mean() + k*array.std()\n",
    "    lower_limit = array.mean() - k*array.std()\n",
    "    array[array<lower_limit] = lower_limit\n",
    "    array[array>upper_limit] = upper_limit\n",
    "    return array"
   ]
  },
  {
   "cell_type": "code",
   "execution_count": 15,
   "id": "60e2c1df",
   "metadata": {},
   "outputs": [
    {
     "data": {
      "text/plain": [
       "<Axes: >"
      ]
     },
     "execution_count": 15,
     "metadata": {},
     "output_type": "execute_result"
    },
    {
     "data": {
      "image/png": "[encoded data removed]",
      "text/plain": [
       "<Figure size 1500x800 with 1 Axes>"
      ]
     },
     "metadata": {},
     "output_type": "display_data"
    }
   ],
   "source": [
    "num_vars = ['total_rech_amt_6','total_rech_amt_7','total_rech_amt_8','total_og_mou_6','total_og_mou_7','total_og_mou_8','offnet_mou_6','offnet_mou_7','offnet_mou_8','vol_3g_mb_6','vol_3g_mb_7','vol_3g_mb_8','vol_2g_mb_6','vol_2g_mb_7','vol_2g_mb_8','aon']\n",
    "X = telecom[num_vars]\n",
    "y = telecom['churn_probability']\n",
    "#applying function to handle outliers\n",
    "X = X.apply(cap_outliers, axis=0)\n",
    "plt.figure(figsize=(15,8))\n",
    "plt.xticks(rotation=45)\n",
    "sns.boxplot(data = X)"
   ]
  },
  {
   "cell_type": "markdown",
   "id": "65447455",
   "metadata": {},
   "source": [
    "  "
   ]
  },
  {
   "cell_type": "markdown",
   "id": "f7d13067",
   "metadata": {},
   "source": [
    "## Scaling for Normalization: \n",
    "\n",
    "Utilizing MinMaxScaler() to Rescale Values within the Range of 0 to 1"
   ]
  },
  {
   "cell_type": "code",
   "execution_count": 16,
   "id": "cab13af9",
   "metadata": {},
   "outputs": [
    {
     "data": {
      "text/html": [
       "<div>\n",
       "<style scoped>\n",
       "    .dataframe tbody tr th:only-of-type {\n",
       "        vertical-align: middle;\n",
       "    }\n",
       "\n",
       "    .dataframe tbody tr th {\n",
       "        vertical-align: top;\n",
       "    }\n",
       "\n",
       "    .dataframe thead th {\n",
       "        text-align: right;\n",
       "    }\n",
       "</style>\n",
       "<table border=\"1\" class=\"dataframe\">\n",
       "  <thead>\n",
       "    <tr style=\"text-align: right;\">\n",
       "      <th></th>\n",
       "      <th>total_rech_amt_6</th>\n",
       "      <th>total_rech_amt_7</th>\n",
       "      <th>total_rech_amt_8</th>\n",
       "      <th>total_og_mou_6</th>\n",
       "      <th>total_og_mou_7</th>\n",
       "      <th>total_og_mou_8</th>\n",
       "      <th>offnet_mou_6</th>\n",
       "      <th>offnet_mou_7</th>\n",
       "      <th>offnet_mou_8</th>\n",
       "      <th>vol_3g_mb_6</th>\n",
       "      <th>vol_3g_mb_7</th>\n",
       "      <th>vol_3g_mb_8</th>\n",
       "      <th>vol_2g_mb_6</th>\n",
       "      <th>vol_2g_mb_7</th>\n",
       "      <th>vol_2g_mb_8</th>\n",
       "      <th>aon</th>\n",
       "      <th>churn_probability</th>\n",
       "    </tr>\n",
       "    <tr>\n",
       "      <th>id</th>\n",
       "      <th></th>\n",
       "      <th></th>\n",
       "      <th></th>\n",
       "      <th></th>\n",
       "      <th></th>\n",
       "      <th></th>\n",
       "      <th></th>\n",
       "      <th></th>\n",
       "      <th></th>\n",
       "      <th></th>\n",
       "      <th></th>\n",
       "      <th></th>\n",
       "      <th></th>\n",
       "      <th></th>\n",
       "      <th></th>\n",
       "      <th></th>\n",
       "      <th></th>\n",
       "    </tr>\n",
       "  </thead>\n",
       "  <tbody>\n",
       "    <tr>\n",
       "      <th>0</th>\n",
       "      <td>77.0</td>\n",
       "      <td>65.0</td>\n",
       "      <td>10.0</td>\n",
       "      <td>81.21</td>\n",
       "      <td>221.68</td>\n",
       "      <td>3.63</td>\n",
       "      <td>32.24</td>\n",
       "      <td>96.68</td>\n",
       "      <td>2.33</td>\n",
       "      <td>0.0</td>\n",
       "      <td>0.00</td>\n",
       "      <td>0.0</td>\n",
       "      <td>0.0</td>\n",
       "      <td>0.00</td>\n",
       "      <td>0.00</td>\n",
       "      <td>1958.0</td>\n",
       "      <td>0</td>\n",
       "    </tr>\n",
       "    <tr>\n",
       "      <th>1</th>\n",
       "      <td>0.0</td>\n",
       "      <td>145.0</td>\n",
       "      <td>50.0</td>\n",
       "      <td>0.00</td>\n",
       "      <td>30.73</td>\n",
       "      <td>31.66</td>\n",
       "      <td>0.00</td>\n",
       "      <td>25.99</td>\n",
       "      <td>30.89</td>\n",
       "      <td>0.0</td>\n",
       "      <td>3.96</td>\n",
       "      <td>0.0</td>\n",
       "      <td>0.0</td>\n",
       "      <td>352.91</td>\n",
       "      <td>0.00</td>\n",
       "      <td>710.0</td>\n",
       "      <td>0</td>\n",
       "    </tr>\n",
       "    <tr>\n",
       "      <th>2</th>\n",
       "      <td>70.0</td>\n",
       "      <td>120.0</td>\n",
       "      <td>0.0</td>\n",
       "      <td>56.49</td>\n",
       "      <td>99.36</td>\n",
       "      <td>0.00</td>\n",
       "      <td>53.99</td>\n",
       "      <td>82.05</td>\n",
       "      <td>0.00</td>\n",
       "      <td>0.0</td>\n",
       "      <td>0.00</td>\n",
       "      <td>0.0</td>\n",
       "      <td>0.0</td>\n",
       "      <td>0.00</td>\n",
       "      <td>0.00</td>\n",
       "      <td>882.0</td>\n",
       "      <td>0</td>\n",
       "    </tr>\n",
       "    <tr>\n",
       "      <th>3</th>\n",
       "      <td>160.0</td>\n",
       "      <td>240.0</td>\n",
       "      <td>130.0</td>\n",
       "      <td>76.03</td>\n",
       "      <td>95.98</td>\n",
       "      <td>53.84</td>\n",
       "      <td>68.76</td>\n",
       "      <td>78.48</td>\n",
       "      <td>50.23</td>\n",
       "      <td>0.0</td>\n",
       "      <td>0.00</td>\n",
       "      <td>0.0</td>\n",
       "      <td>0.0</td>\n",
       "      <td>0.00</td>\n",
       "      <td>0.00</td>\n",
       "      <td>982.0</td>\n",
       "      <td>0</td>\n",
       "    </tr>\n",
       "    <tr>\n",
       "      <th>4</th>\n",
       "      <td>290.0</td>\n",
       "      <td>136.0</td>\n",
       "      <td>122.0</td>\n",
       "      <td>63.26</td>\n",
       "      <td>42.94</td>\n",
       "      <td>15.76</td>\n",
       "      <td>56.99</td>\n",
       "      <td>38.11</td>\n",
       "      <td>9.63</td>\n",
       "      <td>0.0</td>\n",
       "      <td>0.00</td>\n",
       "      <td>0.0</td>\n",
       "      <td>390.8</td>\n",
       "      <td>308.89</td>\n",
       "      <td>213.47</td>\n",
       "      <td>647.0</td>\n",
       "      <td>0</td>\n",
       "    </tr>\n",
       "  </tbody>\n",
       "</table>\n",
       "</div>"
      ],
      "text/plain": [
       "    total_rech_amt_6  total_rech_amt_7  total_rech_amt_8  total_og_mou_6  \\\n",
       "id                                                                         \n",
       "0               77.0              65.0              10.0           81.21   \n",
       "1                0.0             145.0              50.0            0.00   \n",
       "2               70.0             120.0               0.0           56.49   \n",
       "3              160.0             240.0             130.0           76.03   \n",
       "4              290.0             136.0             122.0           63.26   \n",
       "\n",
       "    total_og_mou_7  total_og_mou_8  offnet_mou_6  offnet_mou_7  offnet_mou_8  \\\n",
       "id                                                                             \n",
       "0           221.68            3.63         32.24         96.68          2.33   \n",
       "1            30.73           31.66          0.00         25.99         30.89   \n",
       "2            99.36            0.00         53.99         82.05          0.00   \n",
       "3            95.98           53.84         68.76         78.48         50.23   \n",
       "4            42.94           15.76         56.99         38.11          9.63   \n",
       "\n",
       "    vol_3g_mb_6  vol_3g_mb_7  vol_3g_mb_8  vol_2g_mb_6  vol_2g_mb_7  \\\n",
       "id                                                                    \n",
       "0           0.0         0.00          0.0          0.0         0.00   \n",
       "1           0.0         3.96          0.0          0.0       352.91   \n",
       "2           0.0         0.00          0.0          0.0         0.00   \n",
       "3           0.0         0.00          0.0          0.0         0.00   \n",
       "4           0.0         0.00          0.0        390.8       308.89   \n",
       "\n",
       "    vol_2g_mb_8     aon  churn_probability  \n",
       "id                                          \n",
       "0          0.00  1958.0                  0  \n",
       "1          0.00   710.0                  0  \n",
       "2          0.00   882.0                  0  \n",
       "3          0.00   982.0                  0  \n",
       "4        213.47   647.0                  0  "
      ]
     },
     "execution_count": 16,
     "metadata": {},
     "output_type": "execute_result"
    }
   ],
   "source": [
    "#merging outlier handle back to telecom var\n",
    "telecom[num_vars]=X\n",
    "telecom.head()"
   ]
  },
  {
   "cell_type": "code",
   "execution_count": 17,
   "id": "8074f3b8",
   "metadata": {},
   "outputs": [
    {
     "data": {
      "text/html": [
       "<div>\n",
       "<style scoped>\n",
       "    .dataframe tbody tr th:only-of-type {\n",
       "        vertical-align: middle;\n",
       "    }\n",
       "\n",
       "    .dataframe tbody tr th {\n",
       "        vertical-align: top;\n",
       "    }\n",
       "\n",
       "    .dataframe thead th {\n",
       "        text-align: right;\n",
       "    }\n",
       "</style>\n",
       "<table border=\"1\" class=\"dataframe\">\n",
       "  <thead>\n",
       "    <tr style=\"text-align: right;\">\n",
       "      <th></th>\n",
       "      <th>count</th>\n",
       "      <th>mean</th>\n",
       "      <th>std</th>\n",
       "      <th>min</th>\n",
       "      <th>25%</th>\n",
       "      <th>50%</th>\n",
       "      <th>75%</th>\n",
       "      <th>max</th>\n",
       "    </tr>\n",
       "  </thead>\n",
       "  <tbody>\n",
       "    <tr>\n",
       "      <th>total_rech_amt_6</th>\n",
       "      <td>69999.0</td>\n",
       "      <td>0.206826</td>\n",
       "      <td>0.205696</td>\n",
       "      <td>0.0</td>\n",
       "      <td>0.071393</td>\n",
       "      <td>0.148627</td>\n",
       "      <td>0.284273</td>\n",
       "      <td>1.0</td>\n",
       "    </tr>\n",
       "    <tr>\n",
       "      <th>total_rech_amt_7</th>\n",
       "      <td>69999.0</td>\n",
       "      <td>0.201211</td>\n",
       "      <td>0.205075</td>\n",
       "      <td>0.0</td>\n",
       "      <td>0.064284</td>\n",
       "      <td>0.141426</td>\n",
       "      <td>0.276423</td>\n",
       "      <td>1.0</td>\n",
       "    </tr>\n",
       "    <tr>\n",
       "      <th>total_rech_amt_8</th>\n",
       "      <td>69999.0</td>\n",
       "      <td>0.196422</td>\n",
       "      <td>0.201840</td>\n",
       "      <td>0.0</td>\n",
       "      <td>0.056166</td>\n",
       "      <td>0.140415</td>\n",
       "      <td>0.272093</td>\n",
       "      <td>1.0</td>\n",
       "    </tr>\n",
       "    <tr>\n",
       "      <th>total_og_mou_6</th>\n",
       "      <td>69999.0</td>\n",
       "      <td>0.170395</td>\n",
       "      <td>0.221878</td>\n",
       "      <td>0.0</td>\n",
       "      <td>0.026295</td>\n",
       "      <td>0.085310</td>\n",
       "      <td>0.219797</td>\n",
       "      <td>1.0</td>\n",
       "    </tr>\n",
       "    <tr>\n",
       "      <th>total_og_mou_7</th>\n",
       "      <td>69999.0</td>\n",
       "      <td>0.168103</td>\n",
       "      <td>0.221681</td>\n",
       "      <td>0.0</td>\n",
       "      <td>0.024549</td>\n",
       "      <td>0.080797</td>\n",
       "      <td>0.217421</td>\n",
       "      <td>1.0</td>\n",
       "    </tr>\n",
       "    <tr>\n",
       "      <th>total_og_mou_8</th>\n",
       "      <td>69999.0</td>\n",
       "      <td>0.165682</td>\n",
       "      <td>0.220674</td>\n",
       "      <td>0.0</td>\n",
       "      <td>0.022269</td>\n",
       "      <td>0.079594</td>\n",
       "      <td>0.213364</td>\n",
       "      <td>1.0</td>\n",
       "    </tr>\n",
       "    <tr>\n",
       "      <th>offnet_mou_6</th>\n",
       "      <td>69999.0</td>\n",
       "      <td>0.165004</td>\n",
       "      <td>0.208789</td>\n",
       "      <td>0.0</td>\n",
       "      <td>0.032627</td>\n",
       "      <td>0.091857</td>\n",
       "      <td>0.197762</td>\n",
       "      <td>1.0</td>\n",
       "    </tr>\n",
       "    <tr>\n",
       "      <th>offnet_mou_7</th>\n",
       "      <td>69999.0</td>\n",
       "      <td>0.161164</td>\n",
       "      <td>0.208960</td>\n",
       "      <td>0.0</td>\n",
       "      <td>0.029655</td>\n",
       "      <td>0.086032</td>\n",
       "      <td>0.190557</td>\n",
       "      <td>1.0</td>\n",
       "    </tr>\n",
       "    <tr>\n",
       "      <th>offnet_mou_8</th>\n",
       "      <td>69999.0</td>\n",
       "      <td>0.161484</td>\n",
       "      <td>0.206907</td>\n",
       "      <td>0.0</td>\n",
       "      <td>0.030094</td>\n",
       "      <td>0.088979</td>\n",
       "      <td>0.189377</td>\n",
       "      <td>1.0</td>\n",
       "    </tr>\n",
       "    <tr>\n",
       "      <th>vol_3g_mb_6</th>\n",
       "      <td>69999.0</td>\n",
       "      <td>0.056169</td>\n",
       "      <td>0.181062</td>\n",
       "      <td>0.0</td>\n",
       "      <td>0.000000</td>\n",
       "      <td>0.000000</td>\n",
       "      <td>0.000000</td>\n",
       "      <td>1.0</td>\n",
       "    </tr>\n",
       "    <tr>\n",
       "      <th>vol_3g_mb_7</th>\n",
       "      <td>69999.0</td>\n",
       "      <td>0.059075</td>\n",
       "      <td>0.186111</td>\n",
       "      <td>0.0</td>\n",
       "      <td>0.000000</td>\n",
       "      <td>0.000000</td>\n",
       "      <td>0.000000</td>\n",
       "      <td>1.0</td>\n",
       "    </tr>\n",
       "    <tr>\n",
       "      <th>vol_3g_mb_8</th>\n",
       "      <td>69999.0</td>\n",
       "      <td>0.060805</td>\n",
       "      <td>0.187192</td>\n",
       "      <td>0.0</td>\n",
       "      <td>0.000000</td>\n",
       "      <td>0.000000</td>\n",
       "      <td>0.000000</td>\n",
       "      <td>1.0</td>\n",
       "    </tr>\n",
       "    <tr>\n",
       "      <th>vol_2g_mb_6</th>\n",
       "      <td>69999.0</td>\n",
       "      <td>0.060141</td>\n",
       "      <td>0.191019</td>\n",
       "      <td>0.0</td>\n",
       "      <td>0.000000</td>\n",
       "      <td>0.000000</td>\n",
       "      <td>0.000000</td>\n",
       "      <td>1.0</td>\n",
       "    </tr>\n",
       "    <tr>\n",
       "      <th>vol_2g_mb_7</th>\n",
       "      <td>69999.0</td>\n",
       "      <td>0.059257</td>\n",
       "      <td>0.189378</td>\n",
       "      <td>0.0</td>\n",
       "      <td>0.000000</td>\n",
       "      <td>0.000000</td>\n",
       "      <td>0.000000</td>\n",
       "      <td>1.0</td>\n",
       "    </tr>\n",
       "    <tr>\n",
       "      <th>vol_2g_mb_8</th>\n",
       "      <td>69999.0</td>\n",
       "      <td>0.057505</td>\n",
       "      <td>0.186073</td>\n",
       "      <td>0.0</td>\n",
       "      <td>0.000000</td>\n",
       "      <td>0.000000</td>\n",
       "      <td>0.000000</td>\n",
       "      <td>1.0</td>\n",
       "    </tr>\n",
       "    <tr>\n",
       "      <th>aon</th>\n",
       "      <td>69999.0</td>\n",
       "      <td>0.266953</td>\n",
       "      <td>0.244279</td>\n",
       "      <td>0.0</td>\n",
       "      <td>0.073886</td>\n",
       "      <td>0.176504</td>\n",
       "      <td>0.418942</td>\n",
       "      <td>1.0</td>\n",
       "    </tr>\n",
       "    <tr>\n",
       "      <th>churn_probability</th>\n",
       "      <td>69999.0</td>\n",
       "      <td>0.101887</td>\n",
       "      <td>0.302502</td>\n",
       "      <td>0.0</td>\n",
       "      <td>0.000000</td>\n",
       "      <td>0.000000</td>\n",
       "      <td>0.000000</td>\n",
       "      <td>1.0</td>\n",
       "    </tr>\n",
       "  </tbody>\n",
       "</table>\n",
       "</div>"
      ],
      "text/plain": [
       "                     count      mean       std  min       25%       50%  \\\n",
       "total_rech_amt_6   69999.0  0.206826  0.205696  0.0  0.071393  0.148627   \n",
       "total_rech_amt_7   69999.0  0.201211  0.205075  0.0  0.064284  0.141426   \n",
       "total_rech_amt_8   69999.0  0.196422  0.201840  0.0  0.056166  0.140415   \n",
       "total_og_mou_6     69999.0  0.170395  0.221878  0.0  0.026295  0.085310   \n",
       "total_og_mou_7     69999.0  0.168103  0.221681  0.0  0.024549  0.080797   \n",
       "total_og_mou_8     69999.0  0.165682  0.220674  0.0  0.022269  0.079594   \n",
       "offnet_mou_6       69999.0  0.165004  0.208789  0.0  0.032627  0.091857   \n",
       "offnet_mou_7       69999.0  0.161164  0.208960  0.0  0.029655  0.086032   \n",
       "offnet_mou_8       69999.0  0.161484  0.206907  0.0  0.030094  0.088979   \n",
       "vol_3g_mb_6        69999.0  0.056169  0.181062  0.0  0.000000  0.000000   \n",
       "vol_3g_mb_7        69999.0  0.059075  0.186111  0.0  0.000000  0.000000   \n",
       "vol_3g_mb_8        69999.0  0.060805  0.187192  0.0  0.000000  0.000000   \n",
       "vol_2g_mb_6        69999.0  0.060141  0.191019  0.0  0.000000  0.000000   \n",
       "vol_2g_mb_7        69999.0  0.059257  0.189378  0.0  0.000000  0.000000   \n",
       "vol_2g_mb_8        69999.0  0.057505  0.186073  0.0  0.000000  0.000000   \n",
       "aon                69999.0  0.266953  0.244279  0.0  0.073886  0.176504   \n",
       "churn_probability  69999.0  0.101887  0.302502  0.0  0.000000  0.000000   \n",
       "\n",
       "                        75%  max  \n",
       "total_rech_amt_6   0.284273  1.0  \n",
       "total_rech_amt_7   0.276423  1.0  \n",
       "total_rech_amt_8   0.272093  1.0  \n",
       "total_og_mou_6     0.219797  1.0  \n",
       "total_og_mou_7     0.217421  1.0  \n",
       "total_og_mou_8     0.213364  1.0  \n",
       "offnet_mou_6       0.197762  1.0  \n",
       "offnet_mou_7       0.190557  1.0  \n",
       "offnet_mou_8       0.189377  1.0  \n",
       "vol_3g_mb_6        0.000000  1.0  \n",
       "vol_3g_mb_7        0.000000  1.0  \n",
       "vol_3g_mb_8        0.000000  1.0  \n",
       "vol_2g_mb_6        0.000000  1.0  \n",
       "vol_2g_mb_7        0.000000  1.0  \n",
       "vol_2g_mb_8        0.000000  1.0  \n",
       "aon                0.418942  1.0  \n",
       "churn_probability  0.000000  1.0  "
      ]
     },
     "execution_count": 17,
     "metadata": {},
     "output_type": "execute_result"
    }
   ],
   "source": [
    "#MinMax scaler to scale data\n",
    "scaler = MinMaxScaler()\n",
    "telecom[num_vars]=scaler.fit_transform(telecom[num_vars])\n",
    "telecom.describe().T"
   ]
  },
  {
   "cell_type": "markdown",
   "id": "d0e473bb",
   "metadata": {},
   "source": [
    " "
   ]
  },
  {
   "cell_type": "markdown",
   "id": "71d1790b",
   "metadata": {},
   "source": [
    "## Visualizing Relationships: \n",
    "\n",
    "Utilizing Heatmaps to Display Variable Correlations"
   ]
  },
  {
   "cell_type": "code",
   "execution_count": 18,
   "id": "fce3b793",
   "metadata": {},
   "outputs": [
    {
     "data": {
      "image/png": "[encoded data removed]",
      "text/plain": [
       "<Figure size 2000x2000 with 2 Axes>"
      ]
     },
     "metadata": {},
     "output_type": "display_data"
    }
   ],
   "source": [
    "plt.figure(figsize = (20,20))\n",
    "sns.heatmap(telecom[num_vars].corr(),cmap='OrRd',annot =True)\n",
    "plt.show()"
   ]
  },
  {
   "cell_type": "markdown",
   "id": "ec0d6047",
   "metadata": {},
   "source": [
    " "
   ]
  },
  {
   "cell_type": "markdown",
   "id": "bd18ba9d",
   "metadata": {},
   "source": [
    "## Partitioning Data: \n",
    "\n",
    "Splitting into Training and Testing Sets"
   ]
  },
  {
   "cell_type": "code",
   "execution_count": 19,
   "id": "f6f8bb3a",
   "metadata": {},
   "outputs": [],
   "source": [
    "X = telecom.drop(['churn_probability'], axis=1)\n",
    "y = telecom['churn_probability']\n",
    "# X_train, X_test, y_train, y_test split to build model and test on the dataset, after good build we will predict on test dataset which give in different file.\n",
    "X_train, X_test, y_train, y_test = train_test_split(X, y, train_size=0.8, random_state=100)"
   ]
  },
  {
   "cell_type": "markdown",
   "id": "c84cc5e4",
   "metadata": {},
   "source": [
    "## Implementing Decision Trees: \n",
    "\n",
    "Applying the Model with <b>Default Parameters</b>"
   ]
  },
  {
   "cell_type": "code",
   "execution_count": 20,
   "id": "0c42fa19",
   "metadata": {},
   "outputs": [
    {
     "data": {
      "text/html": [
       "<style>#sk-container-id-1 {color: black;}#sk-container-id-1 pre{padding: 0;}#sk-container-id-1 div.sk-toggleable {background-color: white;}#sk-container-id-1 label.sk-toggleable__label {cursor: pointer;display: block;width: 100%;margin-bottom: 0;padding: 0.3em;box-sizing: border-box;text-align: center;}#sk-container-id-1 label.sk-toggleable__label-arrow:before {content: \"▸\";float: left;margin-right: 0.25em;color: #696969;}#sk-container-id-1 label.sk-toggleable__label-arrow:hover:before {color: black;}#sk-container-id-1 div.sk-estimator:hover label.sk-toggleable__label-arrow:before {color: black;}#sk-container-id-1 div.sk-toggleable__content {max-height: 0;max-width: 0;overflow: hidden;text-align: left;background-color: #f0f8ff;}#sk-container-id-1 div.sk-toggleable__content pre {margin: 0.2em;color: black;border-radius: 0.25em;background-color: #f0f8ff;}#sk-container-id-1 input.sk-toggleable__control:checked~div.sk-toggleable__content {max-height: 200px;max-width: 100%;overflow: auto;}#sk-container-id-1 input.sk-toggleable__control:checked~label.sk-toggleable__label-arrow:before {content: \"▾\";}#sk-container-id-1 div.sk-estimator input.sk-toggleable__control:checked~label.sk-toggleable__label {background-color: #d4ebff;}#sk-container-id-1 div.sk-label input.sk-toggleable__control:checked~label.sk-toggleable__label {background-color: #d4ebff;}#sk-container-id-1 input.sk-hidden--visually {border: 0;clip: rect(1px 1px 1px 1px);clip: rect(1px, 1px, 1px, 1px);height: 1px;margin: -1px;overflow: hidden;padding: 0;position: absolute;width: 1px;}#sk-container-id-1 div.sk-estimator {font-family: monospace;background-color: #f0f8ff;border: 1px dotted black;border-radius: 0.25em;box-sizing: border-box;margin-bottom: 0.5em;}#sk-container-id-1 div.sk-estimator:hover {background-color: #d4ebff;}#sk-container-id-1 div.sk-parallel-item::after {content: \"\";width: 100%;border-bottom: 1px solid gray;flex-grow: 1;}#sk-container-id-1 div.sk-label:hover label.sk-toggleable__label {background-color: #d4ebff;}#sk-container-id-1 div.sk-serial::before {content: \"\";position: absolute;border-left: 1px solid gray;box-sizing: border-box;top: 0;bottom: 0;left: 50%;z-index: 0;}#sk-container-id-1 div.sk-serial {display: flex;flex-direction: column;align-items: center;background-color: white;padding-right: 0.2em;padding-left: 0.2em;position: relative;}#sk-container-id-1 div.sk-item {position: relative;z-index: 1;}#sk-container-id-1 div.sk-parallel {display: flex;align-items: stretch;justify-content: center;background-color: white;position: relative;}#sk-container-id-1 div.sk-item::before, #sk-container-id-1 div.sk-parallel-item::before {content: \"\";position: absolute;border-left: 1px solid gray;box-sizing: border-box;top: 0;bottom: 0;left: 50%;z-index: -1;}#sk-container-id-1 div.sk-parallel-item {display: flex;flex-direction: column;z-index: 1;position: relative;background-color: white;}#sk-container-id-1 div.sk-parallel-item:first-child::after {align-self: flex-end;width: 50%;}#sk-container-id-1 div.sk-parallel-item:last-child::after {align-self: flex-start;width: 50%;}#sk-container-id-1 div.sk-parallel-item:only-child::after {width: 0;}#sk-container-id-1 div.sk-dashed-wrapped {border: 1px dashed gray;margin: 0 0.4em 0.5em 0.4em;box-sizing: border-box;padding-bottom: 0.4em;background-color: white;}#sk-container-id-1 div.sk-label label {font-family: monospace;font-weight: bold;display: inline-block;line-height: 1.2em;}#sk-container-id-1 div.sk-label-container {text-align: center;}#sk-container-id-1 div.sk-container {/* jupyter's `normalize.less` sets `[hidden] { display: none; }` but bootstrap.min.css set `[hidden] { display: none !important; }` so we also need the `!important` here to be able to override the default hidden behavior on the sphinx rendered scikit-learn.org. See: https://github.com/scikit-learn/scikit-learn/issues/21755 */display: inline-block !important;position: relative;}#sk-container-id-1 div.sk-text-repr-fallback {display: none;}</style><div id=\"sk-container-id-1\" class=\"sk-top-container\"><div class=\"sk-text-repr-fallback\"><pre>DecisionTreeClassifier(random_state=42)</pre><b>In a Jupyter environment, please rerun this cell to show the HTML representation or trust the notebook. <br />On GitHub, the HTML representation is unable to render, please try loading this page with nbviewer.org.</b></div><div class=\"sk-container\" hidden><div class=\"sk-item\"><div class=\"sk-estimator sk-toggleable\"><input class=\"sk-toggleable__control sk-hidden--visually\" id=\"sk-estimator-id-1\" type=\"checkbox\" checked><label for=\"sk-estimator-id-1\" class=\"sk-toggleable__label sk-toggleable__label-arrow\">DecisionTreeClassifier</label><div class=\"sk-toggleable__content\"><pre>DecisionTreeClassifier(random_state=42)</pre></div></div></div></div></div>"
      ],
      "text/plain": [
       "DecisionTreeClassifier(random_state=42)"
      ]
     },
     "execution_count": 20,
     "metadata": {},
     "output_type": "execute_result"
    }
   ],
   "source": [
    "dt = DecisionTreeClassifier(random_state=42)\n",
    "dt.fit(X_train, y_train)"
   ]
  },
  {
   "cell_type": "code",
   "execution_count": 21,
   "id": "2aca8ac8",
   "metadata": {},
   "outputs": [
    {
     "name": "stdout",
     "output_type": "stream",
     "text": [
      "0.8992142857142857\n"
     ]
    }
   ],
   "source": [
    "y_pred = dt.predict(X_test)\n",
    "print(accuracy_score(y_pred, y_test))"
   ]
  },
  {
   "cell_type": "markdown",
   "id": "87992fc7",
   "metadata": {},
   "source": [
    "<b> accuracy scrore is 90%, lets try with hyper-parameter tuning </b>"
   ]
  },
  {
   "cell_type": "markdown",
   "id": "a6b9889d",
   "metadata": {},
   "source": [
    "## Optimizing Decision Tree Performance: \n",
    "\n",
    "Fine-Tuning Hyperparameters for Improved Model Performance"
   ]
  },
  {
   "cell_type": "code",
   "execution_count": 22,
   "id": "aa89447a",
   "metadata": {},
   "outputs": [],
   "source": [
    "params = {\n",
    "    \"max_depth\": [6,7,8],\n",
    "    \"min_samples_leaf\": [120,130,140],\n",
    "    \"criterion\": ['gini','entropy']\n",
    "}\n",
    "\n",
    "dt_hyp = DecisionTreeClassifier(random_state=42)\n",
    "\n",
    "grid_search = GridSearchCV(estimator=dt_hyp,\n",
    "                           param_grid=params,\n",
    "                           cv=4,\n",
    "                           n_jobs=-1, \n",
    "                           verbose=1, \n",
    "                           scoring=\"accuracy\")"
   ]
  },
  {
   "cell_type": "code",
   "execution_count": 23,
   "id": "14fc71e4",
   "metadata": {},
   "outputs": [
    {
     "name": "stdout",
     "output_type": "stream",
     "text": [
      "Fitting 4 folds for each of 18 candidates, totalling 72 fits\n",
      "CPU times: total: 8.81 s\n",
      "Wall time: 1min 5s\n"
     ]
    },
    {
     "data": {
      "text/plain": [
       "0.9361596070637699"
      ]
     },
     "execution_count": 23,
     "metadata": {},
     "output_type": "execute_result"
    }
   ],
   "source": [
    "%%time\n",
    "grid_search.fit(X_train, y_train)\n",
    "grid_search.best_score_"
   ]
  },
  {
   "cell_type": "code",
   "execution_count": 24,
   "id": "0151f495",
   "metadata": {},
   "outputs": [
    {
     "data": {
      "text/html": [
       "<style>#sk-container-id-2 {color: black;}#sk-container-id-2 pre{padding: 0;}#sk-container-id-2 div.sk-toggleable {background-color: white;}#sk-container-id-2 label.sk-toggleable__label {cursor: pointer;display: block;width: 100%;margin-bottom: 0;padding: 0.3em;box-sizing: border-box;text-align: center;}#sk-container-id-2 label.sk-toggleable__label-arrow:before {content: \"▸\";float: left;margin-right: 0.25em;color: #696969;}#sk-container-id-2 label.sk-toggleable__label-arrow:hover:before {color: black;}#sk-container-id-2 div.sk-estimator:hover label.sk-toggleable__label-arrow:before {color: black;}#sk-container-id-2 div.sk-toggleable__content {max-height: 0;max-width: 0;overflow: hidden;text-align: left;background-color: #f0f8ff;}#sk-container-id-2 div.sk-toggleable__content pre {margin: 0.2em;color: black;border-radius: 0.25em;background-color: #f0f8ff;}#sk-container-id-2 input.sk-toggleable__control:checked~div.sk-toggleable__content {max-height: 200px;max-width: 100%;overflow: auto;}#sk-container-id-2 input.sk-toggleable__control:checked~label.sk-toggleable__label-arrow:before {content: \"▾\";}#sk-container-id-2 div.sk-estimator input.sk-toggleable__control:checked~label.sk-toggleable__label {background-color: #d4ebff;}#sk-container-id-2 div.sk-label input.sk-toggleable__control:checked~label.sk-toggleable__label {background-color: #d4ebff;}#sk-container-id-2 input.sk-hidden--visually {border: 0;clip: rect(1px 1px 1px 1px);clip: rect(1px, 1px, 1px, 1px);height: 1px;margin: -1px;overflow: hidden;padding: 0;position: absolute;width: 1px;}#sk-container-id-2 div.sk-estimator {font-family: monospace;background-color: #f0f8ff;border: 1px dotted black;border-radius: 0.25em;box-sizing: border-box;margin-bottom: 0.5em;}#sk-container-id-2 div.sk-estimator:hover {background-color: #d4ebff;}#sk-container-id-2 div.sk-parallel-item::after {content: \"\";width: 100%;border-bottom: 1px solid gray;flex-grow: 1;}#sk-container-id-2 div.sk-label:hover label.sk-toggleable__label {background-color: #d4ebff;}#sk-container-id-2 div.sk-serial::before {content: \"\";position: absolute;border-left: 1px solid gray;box-sizing: border-box;top: 0;bottom: 0;left: 50%;z-index: 0;}#sk-container-id-2 div.sk-serial {display: flex;flex-direction: column;align-items: center;background-color: white;padding-right: 0.2em;padding-left: 0.2em;position: relative;}#sk-container-id-2 div.sk-item {position: relative;z-index: 1;}#sk-container-id-2 div.sk-parallel {display: flex;align-items: stretch;justify-content: center;background-color: white;position: relative;}#sk-container-id-2 div.sk-item::before, #sk-container-id-2 div.sk-parallel-item::before {content: \"\";position: absolute;border-left: 1px solid gray;box-sizing: border-box;top: 0;bottom: 0;left: 50%;z-index: -1;}#sk-container-id-2 div.sk-parallel-item {display: flex;flex-direction: column;z-index: 1;position: relative;background-color: white;}#sk-container-id-2 div.sk-parallel-item:first-child::after {align-self: flex-end;width: 50%;}#sk-container-id-2 div.sk-parallel-item:last-child::after {align-self: flex-start;width: 50%;}#sk-container-id-2 div.sk-parallel-item:only-child::after {width: 0;}#sk-container-id-2 div.sk-dashed-wrapped {border: 1px dashed gray;margin: 0 0.4em 0.5em 0.4em;box-sizing: border-box;padding-bottom: 0.4em;background-color: white;}#sk-container-id-2 div.sk-label label {font-family: monospace;font-weight: bold;display: inline-block;line-height: 1.2em;}#sk-container-id-2 div.sk-label-container {text-align: center;}#sk-container-id-2 div.sk-container {/* jupyter's `normalize.less` sets `[hidden] { display: none; }` but bootstrap.min.css set `[hidden] { display: none !important; }` so we also need the `!important` here to be able to override the default hidden behavior on the sphinx rendered scikit-learn.org. See: https://github.com/scikit-learn/scikit-learn/issues/21755 */display: inline-block !important;position: relative;}#sk-container-id-2 div.sk-text-repr-fallback {display: none;}</style><div id=\"sk-container-id-2\" class=\"sk-top-container\"><div class=\"sk-text-repr-fallback\"><pre>DecisionTreeClassifier(max_depth=7, min_samples_leaf=140, random_state=42)</pre><b>In a Jupyter environment, please rerun this cell to show the HTML representation or trust the notebook. <br />On GitHub, the HTML representation is unable to render, please try loading this page with nbviewer.org.</b></div><div class=\"sk-container\" hidden><div class=\"sk-item\"><div class=\"sk-estimator sk-toggleable\"><input class=\"sk-toggleable__control sk-hidden--visually\" id=\"sk-estimator-id-2\" type=\"checkbox\" checked><label for=\"sk-estimator-id-2\" class=\"sk-toggleable__label sk-toggleable__label-arrow\">DecisionTreeClassifier</label><div class=\"sk-toggleable__content\"><pre>DecisionTreeClassifier(max_depth=7, min_samples_leaf=140, random_state=42)</pre></div></div></div></div></div>"
      ],
      "text/plain": [
       "DecisionTreeClassifier(max_depth=7, min_samples_leaf=140, random_state=42)"
      ]
     },
     "execution_count": 24,
     "metadata": {},
     "output_type": "execute_result"
    }
   ],
   "source": [
    "dt_best = grid_search.best_estimator_\n",
    "dt_best"
   ]
  },
  {
   "cell_type": "code",
   "execution_count": 25,
   "id": "3dd785f4",
   "metadata": {},
   "outputs": [
    {
     "data": {
      "text/plain": [
       "0.9402142857142857"
      ]
     },
     "execution_count": 25,
     "metadata": {},
     "output_type": "execute_result"
    }
   ],
   "source": [
    "y_pred = dt_best.predict(X_test)\n",
    "dt_best_acc = accuracy_score(y_pred, y_test)\n",
    "dt_best_acc"
   ]
  },
  {
   "cell_type": "markdown",
   "id": "10569521",
   "metadata": {},
   "source": [
    "<b>Achieved 94.02% Accuracy After Hyperparameter Tuning</b>"
   ]
  },
  {
   "cell_type": "markdown",
   "id": "5de203a3",
   "metadata": {},
   "source": [
    "## Implementing Random Forest: \n",
    "\n",
    "Applying the Model with <b>Default Parameters</b>"
   ]
  },
  {
   "cell_type": "code",
   "execution_count": 26,
   "id": "64f64f6d",
   "metadata": {},
   "outputs": [
    {
     "data": {
      "text/plain": [
       "0.9233914891337345"
      ]
     },
     "execution_count": 26,
     "metadata": {},
     "output_type": "execute_result"
    }
   ],
   "source": [
    "rf = RandomForestClassifier(n_estimators=10, oob_score=True)\n",
    "rf.fit(X_train, y_train)\n",
    "rf.oob_score_"
   ]
  },
  {
   "cell_type": "markdown",
   "id": "7221699b",
   "metadata": {},
   "source": [
    "## Optimizing Random Forest Performance: \n",
    "\n",
    "Fine-Tuning Hyperparameters for Improved Model Performance"
   ]
  },
  {
   "cell_type": "code",
   "execution_count": 27,
   "id": "9907399b",
   "metadata": {},
   "outputs": [],
   "source": [
    "rf = RandomForestClassifier(random_state=42, n_jobs=-1)\n",
    "params = {\n",
    "    'max_depth': [9,10,11],\n",
    "    'min_samples_leaf': [31,33,35],\n",
    "    'n_estimators': [9,10,11],\n",
    "    'max_features': [10,12,15]\n",
    "}\n",
    "\n",
    "grid_search = GridSearchCV(estimator=rf,\n",
    "                           param_grid=params,\n",
    "                           cv = 4,\n",
    "                           n_jobs=-1, \n",
    "                           verbose=1, \n",
    "                           scoring=\"accuracy\")"
   ]
  },
  {
   "cell_type": "code",
   "execution_count": 28,
   "id": "20cb67de",
   "metadata": {},
   "outputs": [
    {
     "name": "stdout",
     "output_type": "stream",
     "text": [
      "Fitting 4 folds for each of 81 candidates, totalling 324 fits\n",
      "CPU times: total: 42.4 s\n",
      "Wall time: 16min 35s\n"
     ]
    },
    {
     "data": {
      "text/plain": [
       "0.9382132167603808"
      ]
     },
     "execution_count": 28,
     "metadata": {},
     "output_type": "execute_result"
    }
   ],
   "source": [
    "%%time\n",
    "grid_search.fit(X_train, y_train)\n",
    "grid_search.best_score_"
   ]
  },
  {
   "cell_type": "code",
   "execution_count": 29,
   "id": "a9b8f3a7",
   "metadata": {},
   "outputs": [
    {
     "data": {
      "text/html": [
       "<style>#sk-container-id-3 {color: black;}#sk-container-id-3 pre{padding: 0;}#sk-container-id-3 div.sk-toggleable {background-color: white;}#sk-container-id-3 label.sk-toggleable__label {cursor: pointer;display: block;width: 100%;margin-bottom: 0;padding: 0.3em;box-sizing: border-box;text-align: center;}#sk-container-id-3 label.sk-toggleable__label-arrow:before {content: \"▸\";float: left;margin-right: 0.25em;color: #696969;}#sk-container-id-3 label.sk-toggleable__label-arrow:hover:before {color: black;}#sk-container-id-3 div.sk-estimator:hover label.sk-toggleable__label-arrow:before {color: black;}#sk-container-id-3 div.sk-toggleable__content {max-height: 0;max-width: 0;overflow: hidden;text-align: left;background-color: #f0f8ff;}#sk-container-id-3 div.sk-toggleable__content pre {margin: 0.2em;color: black;border-radius: 0.25em;background-color: #f0f8ff;}#sk-container-id-3 input.sk-toggleable__control:checked~div.sk-toggleable__content {max-height: 200px;max-width: 100%;overflow: auto;}#sk-container-id-3 input.sk-toggleable__control:checked~label.sk-toggleable__label-arrow:before {content: \"▾\";}#sk-container-id-3 div.sk-estimator input.sk-toggleable__control:checked~label.sk-toggleable__label {background-color: #d4ebff;}#sk-container-id-3 div.sk-label input.sk-toggleable__control:checked~label.sk-toggleable__label {background-color: #d4ebff;}#sk-container-id-3 input.sk-hidden--visually {border: 0;clip: rect(1px 1px 1px 1px);clip: rect(1px, 1px, 1px, 1px);height: 1px;margin: -1px;overflow: hidden;padding: 0;position: absolute;width: 1px;}#sk-container-id-3 div.sk-estimator {font-family: monospace;background-color: #f0f8ff;border: 1px dotted black;border-radius: 0.25em;box-sizing: border-box;margin-bottom: 0.5em;}#sk-container-id-3 div.sk-estimator:hover {background-color: #d4ebff;}#sk-container-id-3 div.sk-parallel-item::after {content: \"\";width: 100%;border-bottom: 1px solid gray;flex-grow: 1;}#sk-container-id-3 div.sk-label:hover label.sk-toggleable__label {background-color: #d4ebff;}#sk-container-id-3 div.sk-serial::before {content: \"\";position: absolute;border-left: 1px solid gray;box-sizing: border-box;top: 0;bottom: 0;left: 50%;z-index: 0;}#sk-container-id-3 div.sk-serial {display: flex;flex-direction: column;align-items: center;background-color: white;padding-right: 0.2em;padding-left: 0.2em;position: relative;}#sk-container-id-3 div.sk-item {position: relative;z-index: 1;}#sk-container-id-3 div.sk-parallel {display: flex;align-items: stretch;justify-content: center;background-color: white;position: relative;}#sk-container-id-3 div.sk-item::before, #sk-container-id-3 div.sk-parallel-item::before {content: \"\";position: absolute;border-left: 1px solid gray;box-sizing: border-box;top: 0;bottom: 0;left: 50%;z-index: -1;}#sk-container-id-3 div.sk-parallel-item {display: flex;flex-direction: column;z-index: 1;position: relative;background-color: white;}#sk-container-id-3 div.sk-parallel-item:first-child::after {align-self: flex-end;width: 50%;}#sk-container-id-3 div.sk-parallel-item:last-child::after {align-self: flex-start;width: 50%;}#sk-container-id-3 div.sk-parallel-item:only-child::after {width: 0;}#sk-container-id-3 div.sk-dashed-wrapped {border: 1px dashed gray;margin: 0 0.4em 0.5em 0.4em;box-sizing: border-box;padding-bottom: 0.4em;background-color: white;}#sk-container-id-3 div.sk-label label {font-family: monospace;font-weight: bold;display: inline-block;line-height: 1.2em;}#sk-container-id-3 div.sk-label-container {text-align: center;}#sk-container-id-3 div.sk-container {/* jupyter's `normalize.less` sets `[hidden] { display: none; }` but bootstrap.min.css set `[hidden] { display: none !important; }` so we also need the `!important` here to be able to override the default hidden behavior on the sphinx rendered scikit-learn.org. See: https://github.com/scikit-learn/scikit-learn/issues/21755 */display: inline-block !important;position: relative;}#sk-container-id-3 div.sk-text-repr-fallback {display: none;}</style><div id=\"sk-container-id-3\" class=\"sk-top-container\"><div class=\"sk-text-repr-fallback\"><pre>RandomForestClassifier(max_depth=11, max_features=12, min_samples_leaf=35,\n",
       "                       n_estimators=9, n_jobs=-1, random_state=42)</pre><b>In a Jupyter environment, please rerun this cell to show the HTML representation or trust the notebook. <br />On GitHub, the HTML representation is unable to render, please try loading this page with nbviewer.org.</b></div><div class=\"sk-container\" hidden><div class=\"sk-item\"><div class=\"sk-estimator sk-toggleable\"><input class=\"sk-toggleable__control sk-hidden--visually\" id=\"sk-estimator-id-3\" type=\"checkbox\" checked><label for=\"sk-estimator-id-3\" class=\"sk-toggleable__label sk-toggleable__label-arrow\">RandomForestClassifier</label><div class=\"sk-toggleable__content\"><pre>RandomForestClassifier(max_depth=11, max_features=12, min_samples_leaf=35,\n",
       "                       n_estimators=9, n_jobs=-1, random_state=42)</pre></div></div></div></div></div>"
      ],
      "text/plain": [
       "RandomForestClassifier(max_depth=11, max_features=12, min_samples_leaf=35,\n",
       "                       n_estimators=9, n_jobs=-1, random_state=42)"
      ]
     },
     "execution_count": 29,
     "metadata": {},
     "output_type": "execute_result"
    }
   ],
   "source": [
    "rf_best = grid_search.best_estimator_\n",
    "rf_best"
   ]
  },
  {
   "cell_type": "code",
   "execution_count": 30,
   "id": "786ca822",
   "metadata": {},
   "outputs": [
    {
     "data": {
      "text/plain": [
       "0.9424285714285714"
      ]
     },
     "execution_count": 30,
     "metadata": {},
     "output_type": "execute_result"
    }
   ],
   "source": [
    "y_pred = rf_best.predict(X_test)\n",
    "rf_best_acc = accuracy_score(y_pred, y_test)\n",
    "rf_best_acc"
   ]
  },
  {
   "cell_type": "markdown",
   "id": "7b2cdf1d",
   "metadata": {},
   "source": [
    "<b>Achieved 94.24% Accuracy After Hyperparameter Tuning</b>"
   ]
  },
  {
   "cell_type": "markdown",
   "id": "06e56b16",
   "metadata": {},
   "source": [
    "## Implementing XGBoost Algorithm for Enhanced Predictive Performance:\n",
    "\n",
    "Applying the Model with <b>Default Parameters</b>"
   ]
  },
  {
   "cell_type": "code",
   "execution_count": 31,
   "id": "cb8834a6",
   "metadata": {},
   "outputs": [
    {
     "data": {
      "text/plain": [
       "0.9397857142857143"
      ]
     },
     "execution_count": 31,
     "metadata": {},
     "output_type": "execute_result"
    }
   ],
   "source": [
    "xgb_cl = xgb.XGBClassifier(n_jobs=-1, objective='binary:logistic')\n",
    "xgb_cl.fit(X_train, y_train)\n",
    "y_pred = xgb_cl.predict(X_test)\n",
    "accuracy_score(y_pred, y_test)"
   ]
  },
  {
   "cell_type": "markdown",
   "id": "b61ec18d",
   "metadata": {},
   "source": [
    "## Optimizing XGBoost Performance: \n",
    "\n",
    "Fine-Tuning Hyperparameters for Improved Model Performance"
   ]
  },
  {
   "cell_type": "code",
   "execution_count": 32,
   "id": "0c6dff2f",
   "metadata": {},
   "outputs": [
    {
     "name": "stdout",
     "output_type": "stream",
     "text": [
      "Fitting 5 folds for each of 50 candidates, totalling 250 fits\n"
     ]
    },
    {
     "data": {
      "text/plain": [
       "{'subsample': 0.5,\n",
       " 'reg_lambda': 0.1,\n",
       " 'reg_alpha': 0.1,\n",
       " 'n_estimators': 130,\n",
       " 'min_child_weight': 0.5,\n",
       " 'max_depth': 3,\n",
       " 'learning_rate': 0.1,\n",
       " 'gamma': 0.1,\n",
       " 'colsample_bytree': 0.3}"
      ]
     },
     "execution_count": 32,
     "metadata": {},
     "output_type": "execute_result"
    }
   ],
   "source": [
    "param_grid = {\n",
    "    'learning_rate': [0.08,0.09,0.1],\n",
    "    'n_estimators': [100,130,150],\n",
    "    'max_depth': [3,4,5],\n",
    "    'min_child_weight': [0.5,0.6],\n",
    "    'gamma': [0.1,0.2,0.3],\n",
    "    'subsample': [0.2,0.3,0.5],\n",
    "    'colsample_bytree': [0.3,0.4,0.5],\n",
    "    'reg_alpha': [ 0.1,0.2,0.3],\n",
    "    'reg_lambda': [0.09,0.1,0.2]\n",
    "}\n",
    "\n",
    "xgb_cl_hyp = xgb.XGBClassifier(n_jobs=-1, objective='binary:logistic')\n",
    "random_search = RandomizedSearchCV(estimator=xgb_cl_hyp, param_distributions=param_grid, \n",
    "                                   n_iter=50, scoring='accuracy', cv=5, verbose=1, n_jobs=-1)\n",
    "\n",
    "random_search.fit(X_train, y_train)\n",
    "best_params = random_search.best_params_\n",
    "best_params"
   ]
  },
  {
   "cell_type": "code",
   "execution_count": 33,
   "id": "78ad0b03",
   "metadata": {},
   "outputs": [
    {
     "data": {
      "text/plain": [
       "0.9382846555177121"
      ]
     },
     "execution_count": 33,
     "metadata": {},
     "output_type": "execute_result"
    }
   ],
   "source": [
    "random_search.best_score_"
   ]
  },
  {
   "cell_type": "code",
   "execution_count": 34,
   "id": "0f350f2d",
   "metadata": {},
   "outputs": [
    {
     "data": {
      "text/plain": [
       "0.9416428571428571"
      ]
     },
     "execution_count": 34,
     "metadata": {},
     "output_type": "execute_result"
    }
   ],
   "source": [
    "xgb_cl_best = random_search.best_estimator_\n",
    "y_pred = xgb_cl_best.predict(X_test)\n",
    "xgb_best_acc = accuracy_score(y_pred, y_test)\n",
    "xgb_best_acc"
   ]
  },
  {
   "cell_type": "markdown",
   "id": "69fc9c3d",
   "metadata": {},
   "source": [
    "<b>Achieved 94.16% Accuracy After Hyperparameter Tuning</b>"
   ]
  },
  {
   "cell_type": "markdown",
   "id": "0e355c9b",
   "metadata": {},
   "source": [
    "## Visualizing Model Performance: \n",
    "\n",
    "Plotting Results for Decision Tree, Random Forest, and XGBoost"
   ]
  },
  {
   "cell_type": "code",
   "execution_count": 35,
   "id": "af381058",
   "metadata": {},
   "outputs": [
    {
     "data": {
      "image/png": "[encoded data removed]",
      "text/plain": [
       "<Figure size 700x600 with 1 Axes>"
      ]
     },
     "metadata": {},
     "output_type": "display_data"
    }
   ],
   "source": [
    "plt.figure(figsize=(7, 6))\n",
    "\n",
    "plt.barh(['Decision Tree','Random Forest', 'XGBoost'], [dt_best_acc,rf_best_acc,xgb_best_acc])\n",
    "plt.xlim(0.940, 0.943)\n",
    "plt.xlabel('Accuracy')\n",
    "plt.title('Accuracy by Model')\n",
    "\n",
    "plt.show()"
   ]
  },
  {
   "cell_type": "markdown",
   "id": "10148528",
   "metadata": {},
   "source": [
    "All models are performing approximatly same, however <b>xgboost performed best with 94.14% accuracy</b>, thefore choosing xgboost to predict values from test.csv"
   ]
  },
  {
   "cell_type": "markdown",
   "id": "952f4867",
   "metadata": {},
   "source": [
    "#### Replicating Data Preprocessing and Model Building Steps for Test Data (test.csv)"
   ]
  },
  {
   "cell_type": "code",
   "execution_count": 36,
   "id": "a5cf6e5c",
   "metadata": {},
   "outputs": [
    {
     "data": {
      "text/html": [
       "<div>\n",
       "<style scoped>\n",
       "    .dataframe tbody tr th:only-of-type {\n",
       "        vertical-align: middle;\n",
       "    }\n",
       "\n",
       "    .dataframe tbody tr th {\n",
       "        vertical-align: top;\n",
       "    }\n",
       "\n",
       "    .dataframe thead th {\n",
       "        text-align: right;\n",
       "    }\n",
       "</style>\n",
       "<table border=\"1\" class=\"dataframe\">\n",
       "  <thead>\n",
       "    <tr style=\"text-align: right;\">\n",
       "      <th></th>\n",
       "      <th>circle_id</th>\n",
       "      <th>total_rech_amt_6</th>\n",
       "      <th>total_rech_amt_7</th>\n",
       "      <th>total_rech_amt_8</th>\n",
       "      <th>total_og_mou_6</th>\n",
       "      <th>total_og_mou_7</th>\n",
       "      <th>total_og_mou_8</th>\n",
       "      <th>offnet_mou_6</th>\n",
       "      <th>offnet_mou_7</th>\n",
       "      <th>offnet_mou_8</th>\n",
       "      <th>...</th>\n",
       "      <th>arpu_2g_6</th>\n",
       "      <th>arpu_2g_7</th>\n",
       "      <th>arpu_2g_8</th>\n",
       "      <th>vol_3g_mb_6</th>\n",
       "      <th>vol_3g_mb_7</th>\n",
       "      <th>vol_3g_mb_8</th>\n",
       "      <th>vol_2g_mb_6</th>\n",
       "      <th>vol_2g_mb_7</th>\n",
       "      <th>vol_2g_mb_8</th>\n",
       "      <th>aon</th>\n",
       "    </tr>\n",
       "    <tr>\n",
       "      <th>id</th>\n",
       "      <th></th>\n",
       "      <th></th>\n",
       "      <th></th>\n",
       "      <th></th>\n",
       "      <th></th>\n",
       "      <th></th>\n",
       "      <th></th>\n",
       "      <th></th>\n",
       "      <th></th>\n",
       "      <th></th>\n",
       "      <th></th>\n",
       "      <th></th>\n",
       "      <th></th>\n",
       "      <th></th>\n",
       "      <th></th>\n",
       "      <th></th>\n",
       "      <th></th>\n",
       "      <th></th>\n",
       "      <th></th>\n",
       "      <th></th>\n",
       "      <th></th>\n",
       "    </tr>\n",
       "  </thead>\n",
       "  <tbody>\n",
       "    <tr>\n",
       "      <th>69999</th>\n",
       "      <td>109</td>\n",
       "      <td>103</td>\n",
       "      <td>90</td>\n",
       "      <td>60</td>\n",
       "      <td>91.94</td>\n",
       "      <td>52.39</td>\n",
       "      <td>57.94</td>\n",
       "      <td>60.16</td>\n",
       "      <td>32.16</td>\n",
       "      <td>34.83</td>\n",
       "      <td>...</td>\n",
       "      <td>NaN</td>\n",
       "      <td>NaN</td>\n",
       "      <td>NaN</td>\n",
       "      <td>0.0</td>\n",
       "      <td>0.0</td>\n",
       "      <td>0.0</td>\n",
       "      <td>0.0</td>\n",
       "      <td>0.0</td>\n",
       "      <td>0.0</td>\n",
       "      <td>1692</td>\n",
       "    </tr>\n",
       "    <tr>\n",
       "      <th>70000</th>\n",
       "      <td>109</td>\n",
       "      <td>500</td>\n",
       "      <td>500</td>\n",
       "      <td>500</td>\n",
       "      <td>549.86</td>\n",
       "      <td>663.06</td>\n",
       "      <td>415.59</td>\n",
       "      <td>474.34</td>\n",
       "      <td>621.84</td>\n",
       "      <td>394.94</td>\n",
       "      <td>...</td>\n",
       "      <td>NaN</td>\n",
       "      <td>NaN</td>\n",
       "      <td>NaN</td>\n",
       "      <td>0.0</td>\n",
       "      <td>0.0</td>\n",
       "      <td>0.0</td>\n",
       "      <td>0.0</td>\n",
       "      <td>0.0</td>\n",
       "      <td>0.0</td>\n",
       "      <td>2533</td>\n",
       "    </tr>\n",
       "    <tr>\n",
       "      <th>70001</th>\n",
       "      <td>109</td>\n",
       "      <td>500</td>\n",
       "      <td>1000</td>\n",
       "      <td>1000</td>\n",
       "      <td>0.00</td>\n",
       "      <td>0.00</td>\n",
       "      <td>0.00</td>\n",
       "      <td>16.98</td>\n",
       "      <td>45.81</td>\n",
       "      <td>45.04</td>\n",
       "      <td>...</td>\n",
       "      <td>NaN</td>\n",
       "      <td>NaN</td>\n",
       "      <td>NaN</td>\n",
       "      <td>0.0</td>\n",
       "      <td>0.0</td>\n",
       "      <td>0.0</td>\n",
       "      <td>0.0</td>\n",
       "      <td>0.0</td>\n",
       "      <td>0.0</td>\n",
       "      <td>277</td>\n",
       "    </tr>\n",
       "    <tr>\n",
       "      <th>70002</th>\n",
       "      <td>109</td>\n",
       "      <td>110</td>\n",
       "      <td>260</td>\n",
       "      <td>0</td>\n",
       "      <td>45.36</td>\n",
       "      <td>207.18</td>\n",
       "      <td>24.01</td>\n",
       "      <td>40.04</td>\n",
       "      <td>205.01</td>\n",
       "      <td>24.01</td>\n",
       "      <td>...</td>\n",
       "      <td>NaN</td>\n",
       "      <td>NaN</td>\n",
       "      <td>NaN</td>\n",
       "      <td>0.0</td>\n",
       "      <td>0.0</td>\n",
       "      <td>0.0</td>\n",
       "      <td>0.0</td>\n",
       "      <td>0.0</td>\n",
       "      <td>0.0</td>\n",
       "      <td>1244</td>\n",
       "    </tr>\n",
       "    <tr>\n",
       "      <th>70003</th>\n",
       "      <td>109</td>\n",
       "      <td>356</td>\n",
       "      <td>490</td>\n",
       "      <td>546</td>\n",
       "      <td>514.79</td>\n",
       "      <td>638.28</td>\n",
       "      <td>779.78</td>\n",
       "      <td>60.94</td>\n",
       "      <td>23.84</td>\n",
       "      <td>74.16</td>\n",
       "      <td>...</td>\n",
       "      <td>NaN</td>\n",
       "      <td>NaN</td>\n",
       "      <td>NaN</td>\n",
       "      <td>0.0</td>\n",
       "      <td>0.0</td>\n",
       "      <td>0.0</td>\n",
       "      <td>0.0</td>\n",
       "      <td>0.0</td>\n",
       "      <td>0.0</td>\n",
       "      <td>462</td>\n",
       "    </tr>\n",
       "  </tbody>\n",
       "</table>\n",
       "<p>5 rows × 23 columns</p>\n",
       "</div>"
      ],
      "text/plain": [
       "       circle_id  total_rech_amt_6  total_rech_amt_7  total_rech_amt_8  \\\n",
       "id                                                                       \n",
       "69999        109               103                90                60   \n",
       "70000        109               500               500               500   \n",
       "70001        109               500              1000              1000   \n",
       "70002        109               110               260                 0   \n",
       "70003        109               356               490               546   \n",
       "\n",
       "       total_og_mou_6  total_og_mou_7  total_og_mou_8  offnet_mou_6  \\\n",
       "id                                                                    \n",
       "69999           91.94           52.39           57.94         60.16   \n",
       "70000          549.86          663.06          415.59        474.34   \n",
       "70001            0.00            0.00            0.00         16.98   \n",
       "70002           45.36          207.18           24.01         40.04   \n",
       "70003          514.79          638.28          779.78         60.94   \n",
       "\n",
       "       offnet_mou_7  offnet_mou_8  ...  arpu_2g_6  arpu_2g_7  arpu_2g_8  \\\n",
       "id                                 ...                                    \n",
       "69999         32.16         34.83  ...        NaN        NaN        NaN   \n",
       "70000        621.84        394.94  ...        NaN        NaN        NaN   \n",
       "70001         45.81         45.04  ...        NaN        NaN        NaN   \n",
       "70002        205.01         24.01  ...        NaN        NaN        NaN   \n",
       "70003         23.84         74.16  ...        NaN        NaN        NaN   \n",
       "\n",
       "       vol_3g_mb_6  vol_3g_mb_7  vol_3g_mb_8  vol_2g_mb_6  vol_2g_mb_7  \\\n",
       "id                                                                       \n",
       "69999          0.0          0.0          0.0          0.0          0.0   \n",
       "70000          0.0          0.0          0.0          0.0          0.0   \n",
       "70001          0.0          0.0          0.0          0.0          0.0   \n",
       "70002          0.0          0.0          0.0          0.0          0.0   \n",
       "70003          0.0          0.0          0.0          0.0          0.0   \n",
       "\n",
       "       vol_2g_mb_8   aon  \n",
       "id                        \n",
       "69999          0.0  1692  \n",
       "70000          0.0  2533  \n",
       "70001          0.0   277  \n",
       "70002          0.0  1244  \n",
       "70003          0.0   462  \n",
       "\n",
       "[5 rows x 23 columns]"
      ]
     },
     "execution_count": 36,
     "metadata": {},
     "output_type": "execute_result"
    }
   ],
   "source": [
    "#performing all feature cleanup which were performed during model building\n",
    "data = pd.read_csv(\"test.csv\")\n",
    "ids = ['id','circle_id']\n",
    "total_amounts = [i for i in list(data.columns) if re.search('total.+amt',i)]\n",
    "total_outgoing_minutes = [i for i in list(data.columns) if re.search('total.+og.+mou',i)]\n",
    "offnetwork_minutes = [i for i in list(data.columns) if re.search('offnet',i)]\n",
    "average_revenue_3g = [i for i in list(data.columns) if re.search('arpu.+3g',i)]\n",
    "average_revenue_2g = [i for i in list(data.columns) if re.search('arpu.+2g',i)]\n",
    "volume_3g = [i for i in list(data.columns) if re.search('vol.+3g',i)]\n",
    "volume_2g = [i for i in list(data.columns) if re.search('vol.+2g',i)]\n",
    "age_on_network = [i for i in list(data.columns) if re.search('aon',i)]\n",
    "\n",
    "#Storing them in a single flat list\n",
    "variables = [*ids, \n",
    "             *total_amounts, \n",
    "             *total_outgoing_minutes, \n",
    "             *offnetwork_minutes, \n",
    "             *average_revenue_3g, \n",
    "             *average_revenue_2g,\n",
    "             *volume_3g,\n",
    "             *volume_2g,\n",
    "             *age_on_network]\n",
    "\n",
    "telecom_test = data[variables].set_index('id')\n",
    "telecom_test.head()"
   ]
  },
  {
   "cell_type": "code",
   "execution_count": 37,
   "id": "a69df71a",
   "metadata": {},
   "outputs": [
    {
     "data": {
      "text/plain": [
       "total_rech_amt_6    0.00\n",
       "total_rech_amt_7    0.00\n",
       "total_rech_amt_8    0.00\n",
       "total_og_mou_6      0.00\n",
       "total_og_mou_7      0.00\n",
       "total_og_mou_8      0.00\n",
       "offnet_mou_6        3.90\n",
       "offnet_mou_7        3.91\n",
       "offnet_mou_8        5.58\n",
       "vol_3g_mb_6         0.00\n",
       "vol_3g_mb_7         0.00\n",
       "vol_3g_mb_8         0.00\n",
       "vol_2g_mb_6         0.00\n",
       "vol_2g_mb_7         0.00\n",
       "vol_2g_mb_8         0.00\n",
       "aon                 0.00\n",
       "dtype: float64"
      ]
     },
     "execution_count": 37,
     "metadata": {},
     "output_type": "execute_result"
    }
   ],
   "source": [
    "telecom_test.drop(['circle_id','arpu_3g_6', 'arpu_3g_7', 'arpu_3g_8','arpu_2g_6', 'arpu_2g_7', 'arpu_2g_8' ], axis=1, inplace=True)\n",
    "round(100*(telecom_test.isnull().sum()/len(telecom_test.index)), 2)"
   ]
  },
  {
   "cell_type": "code",
   "execution_count": 38,
   "id": "67e3f37e",
   "metadata": {},
   "outputs": [
    {
     "data": {
      "text/plain": [
       "total_rech_amt_6    0.0\n",
       "total_rech_amt_7    0.0\n",
       "total_rech_amt_8    0.0\n",
       "total_og_mou_6      0.0\n",
       "total_og_mou_7      0.0\n",
       "total_og_mou_8      0.0\n",
       "offnet_mou_6        0.0\n",
       "offnet_mou_7        0.0\n",
       "offnet_mou_8        0.0\n",
       "vol_3g_mb_6         0.0\n",
       "vol_3g_mb_7         0.0\n",
       "vol_3g_mb_8         0.0\n",
       "vol_2g_mb_6         0.0\n",
       "vol_2g_mb_7         0.0\n",
       "vol_2g_mb_8         0.0\n",
       "aon                 0.0\n",
       "dtype: float64"
      ]
     },
     "execution_count": 38,
     "metadata": {},
     "output_type": "execute_result"
    }
   ],
   "source": [
    "#filling null values with mean values\n",
    "for col in telecom_test.columns:\n",
    "    telecom_test[col].fillna(telecom_test[col].mean(), inplace=True)\n",
    "\n",
    "round(100*(telecom_test.isnull().sum()/len(telecom_test.index)), 2)"
   ]
  },
  {
   "cell_type": "code",
   "execution_count": 39,
   "id": "1d01a201",
   "metadata": {},
   "outputs": [
    {
     "data": {
      "text/html": [
       "<div>\n",
       "<style scoped>\n",
       "    .dataframe tbody tr th:only-of-type {\n",
       "        vertical-align: middle;\n",
       "    }\n",
       "\n",
       "    .dataframe tbody tr th {\n",
       "        vertical-align: top;\n",
       "    }\n",
       "\n",
       "    .dataframe thead th {\n",
       "        text-align: right;\n",
       "    }\n",
       "</style>\n",
       "<table border=\"1\" class=\"dataframe\">\n",
       "  <thead>\n",
       "    <tr style=\"text-align: right;\">\n",
       "      <th></th>\n",
       "      <th>total_rech_amt_6</th>\n",
       "      <th>total_rech_amt_7</th>\n",
       "      <th>total_rech_amt_8</th>\n",
       "      <th>total_og_mou_6</th>\n",
       "      <th>total_og_mou_7</th>\n",
       "      <th>total_og_mou_8</th>\n",
       "      <th>offnet_mou_6</th>\n",
       "      <th>offnet_mou_7</th>\n",
       "      <th>offnet_mou_8</th>\n",
       "      <th>vol_3g_mb_6</th>\n",
       "      <th>vol_3g_mb_7</th>\n",
       "      <th>vol_3g_mb_8</th>\n",
       "      <th>vol_2g_mb_6</th>\n",
       "      <th>vol_2g_mb_7</th>\n",
       "      <th>vol_2g_mb_8</th>\n",
       "      <th>aon</th>\n",
       "    </tr>\n",
       "    <tr>\n",
       "      <th>id</th>\n",
       "      <th></th>\n",
       "      <th></th>\n",
       "      <th></th>\n",
       "      <th></th>\n",
       "      <th></th>\n",
       "      <th></th>\n",
       "      <th></th>\n",
       "      <th></th>\n",
       "      <th></th>\n",
       "      <th></th>\n",
       "      <th></th>\n",
       "      <th></th>\n",
       "      <th></th>\n",
       "      <th></th>\n",
       "      <th></th>\n",
       "      <th></th>\n",
       "    </tr>\n",
       "  </thead>\n",
       "  <tbody>\n",
       "    <tr>\n",
       "      <th>69999</th>\n",
       "      <td>103</td>\n",
       "      <td>90</td>\n",
       "      <td>60</td>\n",
       "      <td>91.94</td>\n",
       "      <td>52.39</td>\n",
       "      <td>57.94</td>\n",
       "      <td>60.16</td>\n",
       "      <td>32.16</td>\n",
       "      <td>34.83</td>\n",
       "      <td>0.0</td>\n",
       "      <td>0.0</td>\n",
       "      <td>0.0</td>\n",
       "      <td>0.0</td>\n",
       "      <td>0.0</td>\n",
       "      <td>0.0</td>\n",
       "      <td>1692</td>\n",
       "    </tr>\n",
       "    <tr>\n",
       "      <th>70000</th>\n",
       "      <td>500</td>\n",
       "      <td>500</td>\n",
       "      <td>500</td>\n",
       "      <td>549.86</td>\n",
       "      <td>663.06</td>\n",
       "      <td>415.59</td>\n",
       "      <td>474.34</td>\n",
       "      <td>621.84</td>\n",
       "      <td>394.94</td>\n",
       "      <td>0.0</td>\n",
       "      <td>0.0</td>\n",
       "      <td>0.0</td>\n",
       "      <td>0.0</td>\n",
       "      <td>0.0</td>\n",
       "      <td>0.0</td>\n",
       "      <td>2533</td>\n",
       "    </tr>\n",
       "    <tr>\n",
       "      <th>70001</th>\n",
       "      <td>500</td>\n",
       "      <td>1000</td>\n",
       "      <td>1000</td>\n",
       "      <td>0.00</td>\n",
       "      <td>0.00</td>\n",
       "      <td>0.00</td>\n",
       "      <td>16.98</td>\n",
       "      <td>45.81</td>\n",
       "      <td>45.04</td>\n",
       "      <td>0.0</td>\n",
       "      <td>0.0</td>\n",
       "      <td>0.0</td>\n",
       "      <td>0.0</td>\n",
       "      <td>0.0</td>\n",
       "      <td>0.0</td>\n",
       "      <td>277</td>\n",
       "    </tr>\n",
       "    <tr>\n",
       "      <th>70002</th>\n",
       "      <td>110</td>\n",
       "      <td>260</td>\n",
       "      <td>0</td>\n",
       "      <td>45.36</td>\n",
       "      <td>207.18</td>\n",
       "      <td>24.01</td>\n",
       "      <td>40.04</td>\n",
       "      <td>205.01</td>\n",
       "      <td>24.01</td>\n",
       "      <td>0.0</td>\n",
       "      <td>0.0</td>\n",
       "      <td>0.0</td>\n",
       "      <td>0.0</td>\n",
       "      <td>0.0</td>\n",
       "      <td>0.0</td>\n",
       "      <td>1244</td>\n",
       "    </tr>\n",
       "    <tr>\n",
       "      <th>70003</th>\n",
       "      <td>356</td>\n",
       "      <td>490</td>\n",
       "      <td>546</td>\n",
       "      <td>514.79</td>\n",
       "      <td>638.28</td>\n",
       "      <td>779.78</td>\n",
       "      <td>60.94</td>\n",
       "      <td>23.84</td>\n",
       "      <td>74.16</td>\n",
       "      <td>0.0</td>\n",
       "      <td>0.0</td>\n",
       "      <td>0.0</td>\n",
       "      <td>0.0</td>\n",
       "      <td>0.0</td>\n",
       "      <td>0.0</td>\n",
       "      <td>462</td>\n",
       "    </tr>\n",
       "  </tbody>\n",
       "</table>\n",
       "</div>"
      ],
      "text/plain": [
       "       total_rech_amt_6  total_rech_amt_7  total_rech_amt_8  total_og_mou_6  \\\n",
       "id                                                                            \n",
       "69999               103                90                60           91.94   \n",
       "70000               500               500               500          549.86   \n",
       "70001               500              1000              1000            0.00   \n",
       "70002               110               260                 0           45.36   \n",
       "70003               356               490               546          514.79   \n",
       "\n",
       "       total_og_mou_7  total_og_mou_8  offnet_mou_6  offnet_mou_7  \\\n",
       "id                                                                  \n",
       "69999           52.39           57.94         60.16         32.16   \n",
       "70000          663.06          415.59        474.34        621.84   \n",
       "70001            0.00            0.00         16.98         45.81   \n",
       "70002          207.18           24.01         40.04        205.01   \n",
       "70003          638.28          779.78         60.94         23.84   \n",
       "\n",
       "       offnet_mou_8  vol_3g_mb_6  vol_3g_mb_7  vol_3g_mb_8  vol_2g_mb_6  \\\n",
       "id                                                                        \n",
       "69999         34.83          0.0          0.0          0.0          0.0   \n",
       "70000        394.94          0.0          0.0          0.0          0.0   \n",
       "70001         45.04          0.0          0.0          0.0          0.0   \n",
       "70002         24.01          0.0          0.0          0.0          0.0   \n",
       "70003         74.16          0.0          0.0          0.0          0.0   \n",
       "\n",
       "       vol_2g_mb_7  vol_2g_mb_8   aon  \n",
       "id                                     \n",
       "69999          0.0          0.0  1692  \n",
       "70000          0.0          0.0  2533  \n",
       "70001          0.0          0.0   277  \n",
       "70002          0.0          0.0  1244  \n",
       "70003          0.0          0.0   462  "
      ]
     },
     "execution_count": 39,
     "metadata": {},
     "output_type": "execute_result"
    }
   ],
   "source": [
    "telecom_test.head()"
   ]
  },
  {
   "cell_type": "code",
   "execution_count": 40,
   "id": "aa8905e4",
   "metadata": {},
   "outputs": [
    {
     "data": {
      "text/html": [
       "<div>\n",
       "<style scoped>\n",
       "    .dataframe tbody tr th:only-of-type {\n",
       "        vertical-align: middle;\n",
       "    }\n",
       "\n",
       "    .dataframe tbody tr th {\n",
       "        vertical-align: top;\n",
       "    }\n",
       "\n",
       "    .dataframe thead th {\n",
       "        text-align: right;\n",
       "    }\n",
       "</style>\n",
       "<table border=\"1\" class=\"dataframe\">\n",
       "  <thead>\n",
       "    <tr style=\"text-align: right;\">\n",
       "      <th></th>\n",
       "      <th>count</th>\n",
       "      <th>mean</th>\n",
       "      <th>std</th>\n",
       "      <th>min</th>\n",
       "      <th>25%</th>\n",
       "      <th>50%</th>\n",
       "      <th>75%</th>\n",
       "      <th>max</th>\n",
       "    </tr>\n",
       "  </thead>\n",
       "  <tbody>\n",
       "    <tr>\n",
       "      <th>total_rech_amt_6</th>\n",
       "      <td>30000.0</td>\n",
       "      <td>0.017625</td>\n",
       "      <td>0.020713</td>\n",
       "      <td>0.0</td>\n",
       "      <td>0.005622</td>\n",
       "      <td>0.012432</td>\n",
       "      <td>0.023581</td>\n",
       "      <td>1.0</td>\n",
       "    </tr>\n",
       "    <tr>\n",
       "      <th>total_rech_amt_7</th>\n",
       "      <td>30000.0</td>\n",
       "      <td>0.017070</td>\n",
       "      <td>0.021112</td>\n",
       "      <td>0.0</td>\n",
       "      <td>0.005263</td>\n",
       "      <td>0.011579</td>\n",
       "      <td>0.022421</td>\n",
       "      <td>1.0</td>\n",
       "    </tr>\n",
       "    <tr>\n",
       "      <th>total_rech_amt_8</th>\n",
       "      <td>30000.0</td>\n",
       "      <td>0.023206</td>\n",
       "      <td>0.028081</td>\n",
       "      <td>0.0</td>\n",
       "      <td>0.006429</td>\n",
       "      <td>0.016071</td>\n",
       "      <td>0.030857</td>\n",
       "      <td>1.0</td>\n",
       "    </tr>\n",
       "    <tr>\n",
       "      <th>total_og_mou_6</th>\n",
       "      <td>30000.0</td>\n",
       "      <td>0.040888</td>\n",
       "      <td>0.062066</td>\n",
       "      <td>0.0</td>\n",
       "      <td>0.006039</td>\n",
       "      <td>0.019609</td>\n",
       "      <td>0.050171</td>\n",
       "      <td>1.0</td>\n",
       "    </tr>\n",
       "    <tr>\n",
       "      <th>total_og_mou_7</th>\n",
       "      <td>30000.0</td>\n",
       "      <td>0.027226</td>\n",
       "      <td>0.042421</td>\n",
       "      <td>0.0</td>\n",
       "      <td>0.003812</td>\n",
       "      <td>0.012510</td>\n",
       "      <td>0.033132</td>\n",
       "      <td>1.0</td>\n",
       "    </tr>\n",
       "    <tr>\n",
       "      <th>total_og_mou_8</th>\n",
       "      <td>30000.0</td>\n",
       "      <td>0.021895</td>\n",
       "      <td>0.034564</td>\n",
       "      <td>0.0</td>\n",
       "      <td>0.002754</td>\n",
       "      <td>0.010071</td>\n",
       "      <td>0.026567</td>\n",
       "      <td>1.0</td>\n",
       "    </tr>\n",
       "    <tr>\n",
       "      <th>offnet_mou_6</th>\n",
       "      <td>30000.0</td>\n",
       "      <td>0.028114</td>\n",
       "      <td>0.044623</td>\n",
       "      <td>0.0</td>\n",
       "      <td>0.005222</td>\n",
       "      <td>0.014736</td>\n",
       "      <td>0.031620</td>\n",
       "      <td>1.0</td>\n",
       "    </tr>\n",
       "    <tr>\n",
       "      <th>offnet_mou_7</th>\n",
       "      <td>30000.0</td>\n",
       "      <td>0.020357</td>\n",
       "      <td>0.033831</td>\n",
       "      <td>0.0</td>\n",
       "      <td>0.003506</td>\n",
       "      <td>0.010175</td>\n",
       "      <td>0.022440</td>\n",
       "      <td>1.0</td>\n",
       "    </tr>\n",
       "    <tr>\n",
       "      <th>offnet_mou_8</th>\n",
       "      <td>30000.0</td>\n",
       "      <td>0.014515</td>\n",
       "      <td>0.023975</td>\n",
       "      <td>0.0</td>\n",
       "      <td>0.002564</td>\n",
       "      <td>0.007566</td>\n",
       "      <td>0.015777</td>\n",
       "      <td>1.0</td>\n",
       "    </tr>\n",
       "    <tr>\n",
       "      <th>vol_3g_mb_6</th>\n",
       "      <td>30000.0</td>\n",
       "      <td>0.004458</td>\n",
       "      <td>0.019333</td>\n",
       "      <td>0.0</td>\n",
       "      <td>0.000000</td>\n",
       "      <td>0.000000</td>\n",
       "      <td>0.000000</td>\n",
       "      <td>1.0</td>\n",
       "    </tr>\n",
       "    <tr>\n",
       "      <th>vol_3g_mb_7</th>\n",
       "      <td>30000.0</td>\n",
       "      <td>0.007583</td>\n",
       "      <td>0.029999</td>\n",
       "      <td>0.0</td>\n",
       "      <td>0.000000</td>\n",
       "      <td>0.000000</td>\n",
       "      <td>0.000000</td>\n",
       "      <td>1.0</td>\n",
       "    </tr>\n",
       "    <tr>\n",
       "      <th>vol_3g_mb_8</th>\n",
       "      <td>30000.0</td>\n",
       "      <td>0.004818</td>\n",
       "      <td>0.019094</td>\n",
       "      <td>0.0</td>\n",
       "      <td>0.000000</td>\n",
       "      <td>0.000000</td>\n",
       "      <td>0.000000</td>\n",
       "      <td>1.0</td>\n",
       "    </tr>\n",
       "    <tr>\n",
       "      <th>vol_2g_mb_6</th>\n",
       "      <td>30000.0</td>\n",
       "      <td>0.006732</td>\n",
       "      <td>0.027764</td>\n",
       "      <td>0.0</td>\n",
       "      <td>0.000000</td>\n",
       "      <td>0.000000</td>\n",
       "      <td>0.000000</td>\n",
       "      <td>1.0</td>\n",
       "    </tr>\n",
       "    <tr>\n",
       "      <th>vol_2g_mb_7</th>\n",
       "      <td>30000.0</td>\n",
       "      <td>0.007578</td>\n",
       "      <td>0.031827</td>\n",
       "      <td>0.0</td>\n",
       "      <td>0.000000</td>\n",
       "      <td>0.000000</td>\n",
       "      <td>0.000000</td>\n",
       "      <td>1.0</td>\n",
       "    </tr>\n",
       "    <tr>\n",
       "      <th>vol_2g_mb_8</th>\n",
       "      <td>30000.0</td>\n",
       "      <td>0.006817</td>\n",
       "      <td>0.028557</td>\n",
       "      <td>0.0</td>\n",
       "      <td>0.000000</td>\n",
       "      <td>0.000000</td>\n",
       "      <td>0.000000</td>\n",
       "      <td>1.0</td>\n",
       "    </tr>\n",
       "    <tr>\n",
       "      <th>aon</th>\n",
       "      <td>30000.0</td>\n",
       "      <td>0.258408</td>\n",
       "      <td>0.239012</td>\n",
       "      <td>0.0</td>\n",
       "      <td>0.071197</td>\n",
       "      <td>0.167538</td>\n",
       "      <td>0.402041</td>\n",
       "      <td>1.0</td>\n",
       "    </tr>\n",
       "  </tbody>\n",
       "</table>\n",
       "</div>"
      ],
      "text/plain": [
       "                    count      mean       std  min       25%       50%  \\\n",
       "total_rech_amt_6  30000.0  0.017625  0.020713  0.0  0.005622  0.012432   \n",
       "total_rech_amt_7  30000.0  0.017070  0.021112  0.0  0.005263  0.011579   \n",
       "total_rech_amt_8  30000.0  0.023206  0.028081  0.0  0.006429  0.016071   \n",
       "total_og_mou_6    30000.0  0.040888  0.062066  0.0  0.006039  0.019609   \n",
       "total_og_mou_7    30000.0  0.027226  0.042421  0.0  0.003812  0.012510   \n",
       "total_og_mou_8    30000.0  0.021895  0.034564  0.0  0.002754  0.010071   \n",
       "offnet_mou_6      30000.0  0.028114  0.044623  0.0  0.005222  0.014736   \n",
       "offnet_mou_7      30000.0  0.020357  0.033831  0.0  0.003506  0.010175   \n",
       "offnet_mou_8      30000.0  0.014515  0.023975  0.0  0.002564  0.007566   \n",
       "vol_3g_mb_6       30000.0  0.004458  0.019333  0.0  0.000000  0.000000   \n",
       "vol_3g_mb_7       30000.0  0.007583  0.029999  0.0  0.000000  0.000000   \n",
       "vol_3g_mb_8       30000.0  0.004818  0.019094  0.0  0.000000  0.000000   \n",
       "vol_2g_mb_6       30000.0  0.006732  0.027764  0.0  0.000000  0.000000   \n",
       "vol_2g_mb_7       30000.0  0.007578  0.031827  0.0  0.000000  0.000000   \n",
       "vol_2g_mb_8       30000.0  0.006817  0.028557  0.0  0.000000  0.000000   \n",
       "aon               30000.0  0.258408  0.239012  0.0  0.071197  0.167538   \n",
       "\n",
       "                       75%  max  \n",
       "total_rech_amt_6  0.023581  1.0  \n",
       "total_rech_amt_7  0.022421  1.0  \n",
       "total_rech_amt_8  0.030857  1.0  \n",
       "total_og_mou_6    0.050171  1.0  \n",
       "total_og_mou_7    0.033132  1.0  \n",
       "total_og_mou_8    0.026567  1.0  \n",
       "offnet_mou_6      0.031620  1.0  \n",
       "offnet_mou_7      0.022440  1.0  \n",
       "offnet_mou_8      0.015777  1.0  \n",
       "vol_3g_mb_6       0.000000  1.0  \n",
       "vol_3g_mb_7       0.000000  1.0  \n",
       "vol_3g_mb_8       0.000000  1.0  \n",
       "vol_2g_mb_6       0.000000  1.0  \n",
       "vol_2g_mb_7       0.000000  1.0  \n",
       "vol_2g_mb_8       0.000000  1.0  \n",
       "aon               0.402041  1.0  "
      ]
     },
     "execution_count": 40,
     "metadata": {},
     "output_type": "execute_result"
    }
   ],
   "source": [
    "#scalling data using minmax scaler\n",
    "scaler = MinMaxScaler()\n",
    "telecom_test[num_vars]=scaler.fit_transform(telecom_test[num_vars])\n",
    "telecom_test.describe().T"
   ]
  },
  {
   "cell_type": "markdown",
   "id": "bec262ca",
   "metadata": {},
   "source": [
    "## Applying Hyper-Tuned Random Forest for Test Dataset Prediction"
   ]
  },
  {
   "cell_type": "code",
   "execution_count": 41,
   "id": "17b4efa9",
   "metadata": {},
   "outputs": [
    {
     "data": {
      "text/plain": [
       "array([0, 0, 1, ..., 0, 0, 0], dtype=int64)"
      ]
     },
     "execution_count": 41,
     "metadata": {},
     "output_type": "execute_result"
    }
   ],
   "source": [
    "#predicting values from the test dataset\n",
    "y_pred = rf_best.predict(telecom_test)\n",
    "y_pred"
   ]
  },
  {
   "cell_type": "markdown",
   "id": "2d271305",
   "metadata": {},
   "source": [
    "### Exporting Predictions to sample.csv File"
   ]
  },
  {
   "cell_type": "code",
   "execution_count": 42,
   "id": "a843cd7a",
   "metadata": {},
   "outputs": [],
   "source": [
    "summary = pd.read_csv(\"sample.csv\")\n",
    "summary['churn_probability']=y_pred"
   ]
  },
  {
   "cell_type": "code",
   "execution_count": 43,
   "id": "65a394a4",
   "metadata": {},
   "outputs": [],
   "source": [
    "summary.to_csv('sample.csv', index=False)"
   ]
  },
  {
   "cell_type": "code",
   "execution_count": null,
   "id": "4b66455b",
   "metadata": {},
   "outputs": [],
   "source": []
  }
 ],
 "metadata": {
  "kernelspec": {
   "display_name": "Python 3 (ipykernel)",
   "language": "python",
   "name": "python3"
  },
  "language_info": {
   "codemirror_mode": {
    "name": "ipython",
    "version": 3
   },
   "file_extension": ".py",
   "mimetype": "text/x-python",
   "name": "python",
   "nbconvert_exporter": "python",
   "pygments_lexer": "ipython3",
   "version": "3.11.5"
  }
 },
 "nbformat": 4,
 "nbformat_minor": 5
}
