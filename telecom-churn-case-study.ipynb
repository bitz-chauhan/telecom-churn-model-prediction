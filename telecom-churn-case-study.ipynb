{
 "cells": [
  {
   "cell_type": "code",
   "execution_count": 1,
   "id": "558c2f16",
   "metadata": {},
   "outputs": [],
   "source": [
    "import warnings\n",
    "warnings.filterwarnings('ignore')\n",
    "import pandas as pd, numpy as np\n",
    "from sklearn.model_selection import train_test_split\n",
    "import matplotlib.pyplot as plt \n",
    "import seaborn as sns\n",
    "from sklearn.preprocessing import MinMaxScaler\n",
    "import statsmodels.api as sm\n",
    "from sklearn.tree import DecisionTreeClassifier\n",
    "from sklearn.metrics import classification_report\n",
    "from sklearn.model_selection import GridSearchCV\n",
    "from sklearn.ensemble import RandomForestClassifier\n",
    "from sklearn.metrics import accuracy_score\n",
    "from sklearn.metrics import confusion_matrix\n",
    "import xgboost as xgb\n",
    "from sklearn.model_selection import RandomizedSearchCV"
   ]
  },
  {
   "cell_type": "code",
   "execution_count": 2,
   "id": "af4146e2",
   "metadata": {},
   "outputs": [
    {
     "data": {
      "text/html": [
       "<div>\n",
       "<style scoped>\n",
       "    .dataframe tbody tr th:only-of-type {\n",
       "        vertical-align: middle;\n",
       "    }\n",
       "\n",
       "    .dataframe tbody tr th {\n",
       "        vertical-align: top;\n",
       "    }\n",
       "\n",
       "    .dataframe thead th {\n",
       "        text-align: right;\n",
       "    }\n",
       "</style>\n",
       "<table border=\"1\" class=\"dataframe\">\n",
       "  <thead>\n",
       "    <tr style=\"text-align: right;\">\n",
       "      <th></th>\n",
       "      <th>CustomerID</th>\n",
       "      <th>Surname</th>\n",
       "      <th>NetworkScore</th>\n",
       "      <th>Region</th>\n",
       "      <th>Gender</th>\n",
       "      <th>Age</th>\n",
       "      <th>Tenure</th>\n",
       "      <th>MonthlyCharge</th>\n",
       "      <th>NumOfProducts</th>\n",
       "      <th>HasInternetService</th>\n",
       "      <th>IsActiveMember</th>\n",
       "      <th>EstimatedMonthlyUsage</th>\n",
       "      <th>Exited</th>\n",
       "    </tr>\n",
       "  </thead>\n",
       "  <tbody>\n",
       "    <tr>\n",
       "      <th>0</th>\n",
       "      <td>4971</td>\n",
       "      <td>Moreno</td>\n",
       "      <td>25.0</td>\n",
       "      <td>South</td>\n",
       "      <td>Female</td>\n",
       "      <td>26.0</td>\n",
       "      <td>11</td>\n",
       "      <td>134.20</td>\n",
       "      <td>1</td>\n",
       "      <td>0</td>\n",
       "      <td>1.0</td>\n",
       "      <td>NaN</td>\n",
       "      <td>1</td>\n",
       "    </tr>\n",
       "    <tr>\n",
       "      <th>1</th>\n",
       "      <td>2858</td>\n",
       "      <td>Bell</td>\n",
       "      <td>68.0</td>\n",
       "      <td>North</td>\n",
       "      <td>Female</td>\n",
       "      <td>60.0</td>\n",
       "      <td>17</td>\n",
       "      <td>25.72</td>\n",
       "      <td>3</td>\n",
       "      <td>1</td>\n",
       "      <td>1.0</td>\n",
       "      <td>533.40</td>\n",
       "      <td>0</td>\n",
       "    </tr>\n",
       "    <tr>\n",
       "      <th>2</th>\n",
       "      <td>5794</td>\n",
       "      <td>Baker</td>\n",
       "      <td>34.0</td>\n",
       "      <td>North</td>\n",
       "      <td>Male</td>\n",
       "      <td>28.0</td>\n",
       "      <td>7</td>\n",
       "      <td>131.03</td>\n",
       "      <td>2</td>\n",
       "      <td>0</td>\n",
       "      <td>0.0</td>\n",
       "      <td>509.04</td>\n",
       "      <td>0</td>\n",
       "    </tr>\n",
       "    <tr>\n",
       "      <th>3</th>\n",
       "      <td>3996</td>\n",
       "      <td>Jackson</td>\n",
       "      <td>13.0</td>\n",
       "      <td>South</td>\n",
       "      <td>Male</td>\n",
       "      <td>65.0</td>\n",
       "      <td>2</td>\n",
       "      <td>64.27</td>\n",
       "      <td>3</td>\n",
       "      <td>0</td>\n",
       "      <td>1.0</td>\n",
       "      <td>246.48</td>\n",
       "      <td>0</td>\n",
       "    </tr>\n",
       "    <tr>\n",
       "      <th>4</th>\n",
       "      <td>2680</td>\n",
       "      <td>Craig</td>\n",
       "      <td>50.0</td>\n",
       "      <td>East</td>\n",
       "      <td>Female</td>\n",
       "      <td>60.0</td>\n",
       "      <td>16</td>\n",
       "      <td>41.26</td>\n",
       "      <td>3</td>\n",
       "      <td>1</td>\n",
       "      <td>1.0</td>\n",
       "      <td>902.28</td>\n",
       "      <td>1</td>\n",
       "    </tr>\n",
       "  </tbody>\n",
       "</table>\n",
       "</div>"
      ],
      "text/plain": [
       "   CustomerID  Surname  NetworkScore Region  Gender   Age  Tenure  \\\n",
       "0        4971   Moreno          25.0  South  Female  26.0      11   \n",
       "1        2858     Bell          68.0  North  Female  60.0      17   \n",
       "2        5794    Baker          34.0  North    Male  28.0       7   \n",
       "3        3996  Jackson          13.0  South    Male  65.0       2   \n",
       "4        2680    Craig          50.0   East  Female  60.0      16   \n",
       "\n",
       "   MonthlyCharge  NumOfProducts  HasInternetService  IsActiveMember  \\\n",
       "0         134.20              1                   0             1.0   \n",
       "1          25.72              3                   1             1.0   \n",
       "2         131.03              2                   0             0.0   \n",
       "3          64.27              3                   0             1.0   \n",
       "4          41.26              3                   1             1.0   \n",
       "\n",
       "   EstimatedMonthlyUsage  Exited  \n",
       "0                    NaN       1  \n",
       "1                 533.40       0  \n",
       "2                 509.04       0  \n",
       "3                 246.48       0  \n",
       "4                 902.28       1  "
      ]
     },
     "execution_count": 2,
     "metadata": {},
     "output_type": "execute_result"
    }
   ],
   "source": [
    "telecom = pd.read_csv(\"train_data.csv\")\n",
    "telecom.head()"
   ]
  },
  {
   "cell_type": "code",
   "execution_count": 3,
   "id": "6ce7f93c",
   "metadata": {},
   "outputs": [
    {
     "data": {
      "text/plain": [
       "(4020, 13)"
      ]
     },
     "execution_count": 3,
     "metadata": {},
     "output_type": "execute_result"
    }
   ],
   "source": [
    "telecom.shape"
   ]
  },
  {
   "cell_type": "code",
   "execution_count": 4,
   "id": "52cfa63f",
   "metadata": {},
   "outputs": [
    {
     "data": {
      "text/html": [
       "<div>\n",
       "<style scoped>\n",
       "    .dataframe tbody tr th:only-of-type {\n",
       "        vertical-align: middle;\n",
       "    }\n",
       "\n",
       "    .dataframe tbody tr th {\n",
       "        vertical-align: top;\n",
       "    }\n",
       "\n",
       "    .dataframe thead th {\n",
       "        text-align: right;\n",
       "    }\n",
       "</style>\n",
       "<table border=\"1\" class=\"dataframe\">\n",
       "  <thead>\n",
       "    <tr style=\"text-align: right;\">\n",
       "      <th></th>\n",
       "      <th>CustomerID</th>\n",
       "      <th>NetworkScore</th>\n",
       "      <th>Age</th>\n",
       "      <th>Tenure</th>\n",
       "      <th>MonthlyCharge</th>\n",
       "      <th>NumOfProducts</th>\n",
       "      <th>HasInternetService</th>\n",
       "      <th>IsActiveMember</th>\n",
       "      <th>EstimatedMonthlyUsage</th>\n",
       "      <th>Exited</th>\n",
       "    </tr>\n",
       "  </thead>\n",
       "  <tbody>\n",
       "    <tr>\n",
       "      <th>count</th>\n",
       "      <td>4020.000000</td>\n",
       "      <td>3821.000000</td>\n",
       "      <td>3812.000000</td>\n",
       "      <td>4020.000000</td>\n",
       "      <td>4020.000000</td>\n",
       "      <td>4020.000000</td>\n",
       "      <td>4020.000000</td>\n",
       "      <td>3822.000000</td>\n",
       "      <td>3823.000000</td>\n",
       "      <td>4020.000000</td>\n",
       "    </tr>\n",
       "    <tr>\n",
       "      <th>mean</th>\n",
       "      <td>2985.333333</td>\n",
       "      <td>51.172468</td>\n",
       "      <td>43.961962</td>\n",
       "      <td>10.092786</td>\n",
       "      <td>109.808458</td>\n",
       "      <td>2.479104</td>\n",
       "      <td>0.507463</td>\n",
       "      <td>0.490581</td>\n",
       "      <td>548.373380</td>\n",
       "      <td>0.485572</td>\n",
       "    </tr>\n",
       "    <tr>\n",
       "      <th>std</th>\n",
       "      <td>1729.892759</td>\n",
       "      <td>28.975876</td>\n",
       "      <td>15.300416</td>\n",
       "      <td>6.076202</td>\n",
       "      <td>52.417745</td>\n",
       "      <td>1.122198</td>\n",
       "      <td>0.500006</td>\n",
       "      <td>0.499977</td>\n",
       "      <td>258.494824</td>\n",
       "      <td>0.499854</td>\n",
       "    </tr>\n",
       "    <tr>\n",
       "      <th>min</th>\n",
       "      <td>3.000000</td>\n",
       "      <td>1.000000</td>\n",
       "      <td>18.000000</td>\n",
       "      <td>0.000000</td>\n",
       "      <td>20.030000</td>\n",
       "      <td>1.000000</td>\n",
       "      <td>0.000000</td>\n",
       "      <td>0.000000</td>\n",
       "      <td>100.090000</td>\n",
       "      <td>0.000000</td>\n",
       "    </tr>\n",
       "    <tr>\n",
       "      <th>25%</th>\n",
       "      <td>1481.750000</td>\n",
       "      <td>26.000000</td>\n",
       "      <td>31.000000</td>\n",
       "      <td>5.000000</td>\n",
       "      <td>64.652500</td>\n",
       "      <td>1.000000</td>\n",
       "      <td>0.000000</td>\n",
       "      <td>0.000000</td>\n",
       "      <td>329.485000</td>\n",
       "      <td>0.000000</td>\n",
       "    </tr>\n",
       "    <tr>\n",
       "      <th>50%</th>\n",
       "      <td>2981.500000</td>\n",
       "      <td>52.000000</td>\n",
       "      <td>44.000000</td>\n",
       "      <td>10.000000</td>\n",
       "      <td>109.335000</td>\n",
       "      <td>2.000000</td>\n",
       "      <td>1.000000</td>\n",
       "      <td>0.000000</td>\n",
       "      <td>546.250000</td>\n",
       "      <td>0.000000</td>\n",
       "    </tr>\n",
       "    <tr>\n",
       "      <th>75%</th>\n",
       "      <td>4467.500000</td>\n",
       "      <td>77.000000</td>\n",
       "      <td>57.000000</td>\n",
       "      <td>15.000000</td>\n",
       "      <td>155.782500</td>\n",
       "      <td>3.000000</td>\n",
       "      <td>1.000000</td>\n",
       "      <td>1.000000</td>\n",
       "      <td>772.725000</td>\n",
       "      <td>1.000000</td>\n",
       "    </tr>\n",
       "    <tr>\n",
       "      <th>max</th>\n",
       "      <td>6000.000000</td>\n",
       "      <td>100.000000</td>\n",
       "      <td>70.000000</td>\n",
       "      <td>20.000000</td>\n",
       "      <td>199.960000</td>\n",
       "      <td>4.000000</td>\n",
       "      <td>1.000000</td>\n",
       "      <td>1.000000</td>\n",
       "      <td>999.820000</td>\n",
       "      <td>1.000000</td>\n",
       "    </tr>\n",
       "  </tbody>\n",
       "</table>\n",
       "</div>"
      ],
      "text/plain": [
       "        CustomerID  NetworkScore          Age       Tenure  MonthlyCharge  \\\n",
       "count  4020.000000   3821.000000  3812.000000  4020.000000    4020.000000   \n",
       "mean   2985.333333     51.172468    43.961962    10.092786     109.808458   \n",
       "std    1729.892759     28.975876    15.300416     6.076202      52.417745   \n",
       "min       3.000000      1.000000    18.000000     0.000000      20.030000   \n",
       "25%    1481.750000     26.000000    31.000000     5.000000      64.652500   \n",
       "50%    2981.500000     52.000000    44.000000    10.000000     109.335000   \n",
       "75%    4467.500000     77.000000    57.000000    15.000000     155.782500   \n",
       "max    6000.000000    100.000000    70.000000    20.000000     199.960000   \n",
       "\n",
       "       NumOfProducts  HasInternetService  IsActiveMember  \\\n",
       "count    4020.000000         4020.000000     3822.000000   \n",
       "mean        2.479104            0.507463        0.490581   \n",
       "std         1.122198            0.500006        0.499977   \n",
       "min         1.000000            0.000000        0.000000   \n",
       "25%         1.000000            0.000000        0.000000   \n",
       "50%         2.000000            1.000000        0.000000   \n",
       "75%         3.000000            1.000000        1.000000   \n",
       "max         4.000000            1.000000        1.000000   \n",
       "\n",
       "       EstimatedMonthlyUsage       Exited  \n",
       "count            3823.000000  4020.000000  \n",
       "mean              548.373380     0.485572  \n",
       "std               258.494824     0.499854  \n",
       "min               100.090000     0.000000  \n",
       "25%               329.485000     0.000000  \n",
       "50%               546.250000     0.000000  \n",
       "75%               772.725000     1.000000  \n",
       "max               999.820000     1.000000  "
      ]
     },
     "execution_count": 4,
     "metadata": {},
     "output_type": "execute_result"
    }
   ],
   "source": [
    "telecom.describe()"
   ]
  },
  {
   "cell_type": "code",
   "execution_count": 5,
   "id": "57998bcf",
   "metadata": {},
   "outputs": [
    {
     "name": "stdout",
     "output_type": "stream",
     "text": [
      "<class 'pandas.core.frame.DataFrame'>\n",
      "RangeIndex: 4020 entries, 0 to 4019\n",
      "Data columns (total 13 columns):\n",
      " #   Column                 Non-Null Count  Dtype  \n",
      "---  ------                 --------------  -----  \n",
      " 0   CustomerID             4020 non-null   int64  \n",
      " 1   Surname                4020 non-null   object \n",
      " 2   NetworkScore           3821 non-null   float64\n",
      " 3   Region                 4020 non-null   object \n",
      " 4   Gender                 4020 non-null   object \n",
      " 5   Age                    3812 non-null   float64\n",
      " 6   Tenure                 4020 non-null   int64  \n",
      " 7   MonthlyCharge          4020 non-null   float64\n",
      " 8   NumOfProducts          4020 non-null   int64  \n",
      " 9   HasInternetService     4020 non-null   int64  \n",
      " 10  IsActiveMember         3822 non-null   float64\n",
      " 11  EstimatedMonthlyUsage  3823 non-null   float64\n",
      " 12  Exited                 4020 non-null   int64  \n",
      "dtypes: float64(5), int64(5), object(3)\n",
      "memory usage: 408.4+ KB\n"
     ]
    }
   ],
   "source": [
    "telecom.info()"
   ]
  },
  {
   "cell_type": "code",
   "execution_count": 6,
   "id": "e7b0e329",
   "metadata": {},
   "outputs": [
    {
     "data": {
      "text/html": [
       "<div>\n",
       "<style scoped>\n",
       "    .dataframe tbody tr th:only-of-type {\n",
       "        vertical-align: middle;\n",
       "    }\n",
       "\n",
       "    .dataframe tbody tr th {\n",
       "        vertical-align: top;\n",
       "    }\n",
       "\n",
       "    .dataframe thead th {\n",
       "        text-align: right;\n",
       "    }\n",
       "</style>\n",
       "<table border=\"1\" class=\"dataframe\">\n",
       "  <thead>\n",
       "    <tr style=\"text-align: right;\">\n",
       "      <th></th>\n",
       "      <th>NetworkScore</th>\n",
       "      <th>Region</th>\n",
       "      <th>Gender</th>\n",
       "      <th>Age</th>\n",
       "      <th>Tenure</th>\n",
       "      <th>MonthlyCharge</th>\n",
       "      <th>NumOfProducts</th>\n",
       "      <th>HasInternetService</th>\n",
       "      <th>IsActiveMember</th>\n",
       "      <th>EstimatedMonthlyUsage</th>\n",
       "      <th>Exited</th>\n",
       "    </tr>\n",
       "  </thead>\n",
       "  <tbody>\n",
       "    <tr>\n",
       "      <th>0</th>\n",
       "      <td>25.0</td>\n",
       "      <td>South</td>\n",
       "      <td>Female</td>\n",
       "      <td>26.0</td>\n",
       "      <td>11</td>\n",
       "      <td>134.20</td>\n",
       "      <td>1</td>\n",
       "      <td>0</td>\n",
       "      <td>1.0</td>\n",
       "      <td>NaN</td>\n",
       "      <td>1</td>\n",
       "    </tr>\n",
       "    <tr>\n",
       "      <th>1</th>\n",
       "      <td>68.0</td>\n",
       "      <td>North</td>\n",
       "      <td>Female</td>\n",
       "      <td>60.0</td>\n",
       "      <td>17</td>\n",
       "      <td>25.72</td>\n",
       "      <td>3</td>\n",
       "      <td>1</td>\n",
       "      <td>1.0</td>\n",
       "      <td>533.40</td>\n",
       "      <td>0</td>\n",
       "    </tr>\n",
       "    <tr>\n",
       "      <th>2</th>\n",
       "      <td>34.0</td>\n",
       "      <td>North</td>\n",
       "      <td>Male</td>\n",
       "      <td>28.0</td>\n",
       "      <td>7</td>\n",
       "      <td>131.03</td>\n",
       "      <td>2</td>\n",
       "      <td>0</td>\n",
       "      <td>0.0</td>\n",
       "      <td>509.04</td>\n",
       "      <td>0</td>\n",
       "    </tr>\n",
       "    <tr>\n",
       "      <th>3</th>\n",
       "      <td>13.0</td>\n",
       "      <td>South</td>\n",
       "      <td>Male</td>\n",
       "      <td>65.0</td>\n",
       "      <td>2</td>\n",
       "      <td>64.27</td>\n",
       "      <td>3</td>\n",
       "      <td>0</td>\n",
       "      <td>1.0</td>\n",
       "      <td>246.48</td>\n",
       "      <td>0</td>\n",
       "    </tr>\n",
       "    <tr>\n",
       "      <th>4</th>\n",
       "      <td>50.0</td>\n",
       "      <td>East</td>\n",
       "      <td>Female</td>\n",
       "      <td>60.0</td>\n",
       "      <td>16</td>\n",
       "      <td>41.26</td>\n",
       "      <td>3</td>\n",
       "      <td>1</td>\n",
       "      <td>1.0</td>\n",
       "      <td>902.28</td>\n",
       "      <td>1</td>\n",
       "    </tr>\n",
       "  </tbody>\n",
       "</table>\n",
       "</div>"
      ],
      "text/plain": [
       "   NetworkScore Region  Gender   Age  Tenure  MonthlyCharge  NumOfProducts  \\\n",
       "0          25.0  South  Female  26.0      11         134.20              1   \n",
       "1          68.0  North  Female  60.0      17          25.72              3   \n",
       "2          34.0  North    Male  28.0       7         131.03              2   \n",
       "3          13.0  South    Male  65.0       2          64.27              3   \n",
       "4          50.0   East  Female  60.0      16          41.26              3   \n",
       "\n",
       "   HasInternetService  IsActiveMember  EstimatedMonthlyUsage  Exited  \n",
       "0                   0             1.0                    NaN       1  \n",
       "1                   1             1.0                 533.40       0  \n",
       "2                   0             0.0                 509.04       0  \n",
       "3                   0             1.0                 246.48       0  \n",
       "4                   1             1.0                 902.28       1  "
      ]
     },
     "execution_count": 6,
     "metadata": {},
     "output_type": "execute_result"
    }
   ],
   "source": [
    "#dropping irrelevant columns\n",
    "telecom.drop(['CustomerID','Surname'],axis=1, inplace=True)\n",
    "telecom.head()"
   ]
  },
  {
   "cell_type": "code",
   "execution_count": 7,
   "id": "e0574f68",
   "metadata": {},
   "outputs": [
    {
     "data": {
      "text/plain": [
       "NetworkScore             199\n",
       "Region                     0\n",
       "Gender                     0\n",
       "Age                      208\n",
       "Tenure                     0\n",
       "MonthlyCharge              0\n",
       "NumOfProducts              0\n",
       "HasInternetService         0\n",
       "IsActiveMember           198\n",
       "EstimatedMonthlyUsage    197\n",
       "Exited                     0\n",
       "dtype: int64"
      ]
     },
     "execution_count": 7,
     "metadata": {},
     "output_type": "execute_result"
    }
   ],
   "source": [
    "#checking for missing values\n",
    "telecom.isnull().sum()"
   ]
  },
  {
   "cell_type": "code",
   "execution_count": 8,
   "id": "f1d25bc7",
   "metadata": {},
   "outputs": [
    {
     "data": {
      "text/plain": [
       "NetworkScore             4.95\n",
       "Region                   0.00\n",
       "Gender                   0.00\n",
       "Age                      5.17\n",
       "Tenure                   0.00\n",
       "MonthlyCharge            0.00\n",
       "NumOfProducts            0.00\n",
       "HasInternetService       0.00\n",
       "IsActiveMember           4.93\n",
       "EstimatedMonthlyUsage    4.90\n",
       "Exited                   0.00\n",
       "dtype: float64"
      ]
     },
     "execution_count": 8,
     "metadata": {},
     "output_type": "execute_result"
    }
   ],
   "source": [
    "# Checking the percentage of missing values\n",
    "round(100*(telecom.isnull().sum()/len(telecom.index)), 2)"
   ]
  },
  {
   "cell_type": "code",
   "execution_count": 9,
   "id": "73296d2e",
   "metadata": {},
   "outputs": [
    {
     "data": {
      "text/plain": [
       "(3282, 10)"
      ]
     },
     "execution_count": 9,
     "metadata": {},
     "output_type": "execute_result"
    }
   ],
   "source": [
    "# drop rows which contains null values, as we have plenty of rows for model building\n",
    "telecom.dropna(inplace=True)\n",
    "#dropping IsActiveMember, as wrongly assigment of value may decrease the accuracy of the model\n",
    "telecom.drop(['IsActiveMember'],axis=1,inplace=True)\n",
    "#show shape now to identify how many columns are dropped. after dropping we still have plenty of rows to build model\n",
    "telecom.shape"
   ]
  },
  {
   "cell_type": "markdown",
   "id": "c0831579",
   "metadata": {},
   "source": [
    "## Univariate Analysis\n",
    "### Gender"
   ]
  },
  {
   "cell_type": "code",
   "execution_count": 10,
   "id": "5836bb95",
   "metadata": {},
   "outputs": [
    {
     "data": {
      "image/png": "[encoded data removed]",
      "text/plain": [
       "<Figure size 640x480 with 1 Axes>"
      ]
     },
     "metadata": {},
     "output_type": "display_data"
    },
    {
     "data": {
      "text/plain": [
       "<Figure size 600x400 with 0 Axes>"
      ]
     },
     "metadata": {},
     "output_type": "display_data"
    }
   ],
   "source": [
    "gender_count = telecom['Gender'].value_counts()\n",
    "ax = gender_count.plot(kind='barh', color=['red', 'green', 'blue'])\n",
    "# Loop through the bars and annotate the actual count in the center of each bar\n",
    "for i, v in enumerate(gender_count):\n",
    "    ax.text(v/2, i, str(v), color='white', fontweight='bold', ha='center', va='center')\n",
    "\n",
    "# Adding label, title and size\n",
    "plt.title('Count of gender')\n",
    "plt.xlabel('Count')\n",
    "plt.ylabel('Gender')\n",
    "plt.figure(figsize=(6,4))\n",
    "plt.show()"
   ]
  },
  {
   "cell_type": "markdown",
   "id": "c49493be",
   "metadata": {},
   "source": [
    "### Tenure\n",
    "The code below creates a histogram plot for the 'Tenure' variable."
   ]
  },
  {
   "cell_type": "code",
   "execution_count": 11,
   "id": "f8707f91",
   "metadata": {},
   "outputs": [
    {
     "data": {
      "text/plain": [
       "<Axes: xlabel='Tenure', ylabel='Count'>"
      ]
     },
     "execution_count": 11,
     "metadata": {},
     "output_type": "execute_result"
    },
    {
     "data": {
      "image/png": "[encoded data removed]",
      "text/plain": [
       "<Figure size 640x480 with 1 Axes>"
      ]
     },
     "metadata": {},
     "output_type": "display_data"
    }
   ],
   "source": [
    "sns.histplot(telecom['Tenure'], kde=True)"
   ]
  },
  {
   "cell_type": "markdown",
   "id": "074abadd",
   "metadata": {},
   "source": [
    "### Region\n",
    "The code below creates a histogram plot for the 'Region' variable"
   ]
  },
  {
   "cell_type": "code",
   "execution_count": 12,
   "id": "4983e2d5",
   "metadata": {},
   "outputs": [
    {
     "data": {
      "image/png": "[encoded data removed]",
      "text/plain": [
       "<Figure size 640x480 with 1 Axes>"
      ]
     },
     "metadata": {},
     "output_type": "display_data"
    }
   ],
   "source": [
    "plot=sns.countplot(x = 'Region', data = telecom)\n",
    "for p in plot.patches:\n",
    "    plot.annotate(f'{p.get_height()}', (p.get_x() + p.get_width() / 2., p.get_height()), ha='center', va='center', xytext=(0, 10), textcoords='offset points')"
   ]
  },
  {
   "cell_type": "markdown",
   "id": "11a1c763",
   "metadata": {},
   "source": [
    "## Bivariate analysis"
   ]
  },
  {
   "cell_type": "code",
   "execution_count": 13,
   "id": "2d30bfd6",
   "metadata": {},
   "outputs": [
    {
     "data": {
      "text/plain": [
       "<Axes: xlabel='count', ylabel='NumOfProducts'>"
      ]
     },
     "execution_count": 13,
     "metadata": {},
     "output_type": "execute_result"
    },
    {
     "data": {
      "image/png": "[encoded data removed]",
      "text/plain": [
       "<Figure size 2000x2000 with 2 Axes>"
      ]
     },
     "metadata": {},
     "output_type": "display_data"
    }
   ],
   "source": [
    "plt.figure(figsize=(20,20))\n",
    "plt.subplot(221)\n",
    "sns.countplot(y ='NumOfProducts', data=telecom[telecom['Exited'] == 1])\n",
    "plt.subplot(222)\n",
    "sns.countplot(y ='NumOfProducts', data=telecom, hue='Exited')"
   ]
  },
  {
   "cell_type": "markdown",
   "id": "1b6337a4",
   "metadata": {},
   "source": [
    "customer with less product seems to churm more."
   ]
  },
  {
   "cell_type": "code",
   "execution_count": 14,
   "id": "ea85e52f",
   "metadata": {},
   "outputs": [
    {
     "data": {
      "image/png": "[encoded data removed]",
      "text/plain": [
       "<Figure size 3000x3000 with 2 Axes>"
      ]
     },
     "metadata": {},
     "output_type": "display_data"
    }
   ],
   "source": [
    "telecom['age_grp'] = pd.cut(telecom['Age'], bins=[10,20,30,40,50,60,70],labels=['0-10','11-20','21-30','31-40','41-50','51-60and above'])\n",
    "plt.figure(figsize=(30,30))\n",
    "plt.subplot(221)\n",
    "sns.countplot(y='age_grp', data=telecom[telecom['Exited'] == 1])\n",
    "plt.ylabel('Age')\n",
    "plt.subplot(222)\n",
    "sns.countplot(y='age_grp', data=telecom, hue='Exited')\n",
    "plt.ylabel('Age')\n",
    "telecom.drop(['age_grp'],axis=1,inplace=True)"
   ]
  },
  {
   "cell_type": "markdown",
   "id": "6ca56644",
   "metadata": {},
   "source": [
    "age group with 20-30 seems to churn more"
   ]
  },
  {
   "cell_type": "code",
   "execution_count": 15,
   "id": "5a6b0cdc",
   "metadata": {},
   "outputs": [
    {
     "data": {
      "image/png": "[encoded data removed]",
      "text/plain": [
       "<Figure size 640x480 with 1 Axes>"
      ]
     },
     "metadata": {},
     "output_type": "display_data"
    }
   ],
   "source": [
    "plot=sns.countplot(x = 'HasInternetService', data = telecom)\n",
    "for p in plot.patches:\n",
    "    plot.annotate(f'{p.get_height()}', (p.get_x() + p.get_width() / 2., p.get_height()), ha='center', va='center', xytext=(0, 10), textcoords='offset points')"
   ]
  },
  {
   "cell_type": "markdown",
   "id": "2e560aed",
   "metadata": {},
   "source": [
    "network score vs churn"
   ]
  },
  {
   "cell_type": "code",
   "execution_count": 16,
   "id": "e3536e51",
   "metadata": {},
   "outputs": [
    {
     "data": {
      "image/png": "[encoded data removed]",
      "text/plain": [
       "<Figure size 3000x3000 with 2 Axes>"
      ]
     },
     "metadata": {},
     "output_type": "display_data"
    }
   ],
   "source": [
    "telecom['NetworkScore_grp'] = pd.cut(telecom['NetworkScore'], bins=[10,20,30,40,50,60,70,80,90,100],labels=['0-10','11-20','21-30','31-40','41-50','51-60','61-70','71-80','81-90 and above'])\n",
    "plt.figure(figsize=(30,30))\n",
    "plt.subplot(221)\n",
    "sns.countplot(y='NetworkScore_grp', data=telecom[telecom['Exited'] == 1])\n",
    "plt.ylabel('NetworkScore')\n",
    "plt.subplot(222)\n",
    "sns.countplot(y='NetworkScore_grp', data=telecom, hue='Exited')\n",
    "plt.ylabel('NetworkScore')\n",
    "telecom.drop(['NetworkScore_grp'],axis=1,inplace=True)"
   ]
  },
  {
   "cell_type": "markdown",
   "id": "67d7ecc9",
   "metadata": {},
   "source": [
    "not specific insight\n"
   ]
  },
  {
   "cell_type": "code",
   "execution_count": null,
   "id": "7d96ceab",
   "metadata": {},
   "outputs": [],
   "source": []
  },
  {
   "cell_type": "code",
   "execution_count": 17,
   "id": "cc45d8d5",
   "metadata": {},
   "outputs": [
    {
     "data": {
      "text/html": [
       "<div>\n",
       "<style scoped>\n",
       "    .dataframe tbody tr th:only-of-type {\n",
       "        vertical-align: middle;\n",
       "    }\n",
       "\n",
       "    .dataframe tbody tr th {\n",
       "        vertical-align: top;\n",
       "    }\n",
       "\n",
       "    .dataframe thead th {\n",
       "        text-align: right;\n",
       "    }\n",
       "</style>\n",
       "<table border=\"1\" class=\"dataframe\">\n",
       "  <thead>\n",
       "    <tr style=\"text-align: right;\">\n",
       "      <th></th>\n",
       "      <th>NetworkScore</th>\n",
       "      <th>Age</th>\n",
       "      <th>Tenure</th>\n",
       "      <th>MonthlyCharge</th>\n",
       "      <th>NumOfProducts</th>\n",
       "      <th>HasInternetService</th>\n",
       "      <th>EstimatedMonthlyUsage</th>\n",
       "      <th>Exited</th>\n",
       "      <th>Region_North</th>\n",
       "      <th>Region_South</th>\n",
       "      <th>Region_West</th>\n",
       "      <th>Gender_Male</th>\n",
       "      <th>Gender_Other</th>\n",
       "    </tr>\n",
       "  </thead>\n",
       "  <tbody>\n",
       "    <tr>\n",
       "      <th>1</th>\n",
       "      <td>68.0</td>\n",
       "      <td>60.0</td>\n",
       "      <td>17</td>\n",
       "      <td>25.72</td>\n",
       "      <td>3</td>\n",
       "      <td>1</td>\n",
       "      <td>533.40</td>\n",
       "      <td>0</td>\n",
       "      <td>1</td>\n",
       "      <td>0</td>\n",
       "      <td>0</td>\n",
       "      <td>0</td>\n",
       "      <td>0</td>\n",
       "    </tr>\n",
       "    <tr>\n",
       "      <th>2</th>\n",
       "      <td>34.0</td>\n",
       "      <td>28.0</td>\n",
       "      <td>7</td>\n",
       "      <td>131.03</td>\n",
       "      <td>2</td>\n",
       "      <td>0</td>\n",
       "      <td>509.04</td>\n",
       "      <td>0</td>\n",
       "      <td>1</td>\n",
       "      <td>0</td>\n",
       "      <td>0</td>\n",
       "      <td>1</td>\n",
       "      <td>0</td>\n",
       "    </tr>\n",
       "    <tr>\n",
       "      <th>3</th>\n",
       "      <td>13.0</td>\n",
       "      <td>65.0</td>\n",
       "      <td>2</td>\n",
       "      <td>64.27</td>\n",
       "      <td>3</td>\n",
       "      <td>0</td>\n",
       "      <td>246.48</td>\n",
       "      <td>0</td>\n",
       "      <td>0</td>\n",
       "      <td>1</td>\n",
       "      <td>0</td>\n",
       "      <td>1</td>\n",
       "      <td>0</td>\n",
       "    </tr>\n",
       "    <tr>\n",
       "      <th>4</th>\n",
       "      <td>50.0</td>\n",
       "      <td>60.0</td>\n",
       "      <td>16</td>\n",
       "      <td>41.26</td>\n",
       "      <td>3</td>\n",
       "      <td>1</td>\n",
       "      <td>902.28</td>\n",
       "      <td>1</td>\n",
       "      <td>0</td>\n",
       "      <td>0</td>\n",
       "      <td>0</td>\n",
       "      <td>0</td>\n",
       "      <td>0</td>\n",
       "    </tr>\n",
       "    <tr>\n",
       "      <th>5</th>\n",
       "      <td>18.0</td>\n",
       "      <td>63.0</td>\n",
       "      <td>5</td>\n",
       "      <td>99.55</td>\n",
       "      <td>4</td>\n",
       "      <td>0</td>\n",
       "      <td>949.95</td>\n",
       "      <td>0</td>\n",
       "      <td>1</td>\n",
       "      <td>0</td>\n",
       "      <td>0</td>\n",
       "      <td>0</td>\n",
       "      <td>0</td>\n",
       "    </tr>\n",
       "  </tbody>\n",
       "</table>\n",
       "</div>"
      ],
      "text/plain": [
       "   NetworkScore   Age  Tenure  MonthlyCharge  NumOfProducts  \\\n",
       "1          68.0  60.0      17          25.72              3   \n",
       "2          34.0  28.0       7         131.03              2   \n",
       "3          13.0  65.0       2          64.27              3   \n",
       "4          50.0  60.0      16          41.26              3   \n",
       "5          18.0  63.0       5          99.55              4   \n",
       "\n",
       "   HasInternetService  EstimatedMonthlyUsage  Exited  Region_North  \\\n",
       "1                   1                 533.40       0             1   \n",
       "2                   0                 509.04       0             1   \n",
       "3                   0                 246.48       0             0   \n",
       "4                   1                 902.28       1             0   \n",
       "5                   0                 949.95       0             1   \n",
       "\n",
       "   Region_South  Region_West  Gender_Male  Gender_Other  \n",
       "1             0            0            0             0  \n",
       "2             0            0            1             0  \n",
       "3             1            0            1             0  \n",
       "4             0            0            0             0  \n",
       "5             0            0            0             0  "
      ]
     },
     "execution_count": 17,
     "metadata": {},
     "output_type": "execute_result"
    }
   ],
   "source": [
    "#create dummy variables for categorical variables\n",
    "telecom = pd.concat([telecom,pd.get_dummies(telecom[['Region', 'Gender']], drop_first=True).astype(int)], axis=1)\n",
    "telecom.drop(['Region', 'Gender'],axis=1, inplace=True)\n",
    "telecom.head()"
   ]
  },
  {
   "cell_type": "code",
   "execution_count": 18,
   "id": "6dee09c3",
   "metadata": {},
   "outputs": [
    {
     "name": "stdout",
     "output_type": "stream",
     "text": [
      "<class 'pandas.core.frame.DataFrame'>\n",
      "Index: 3282 entries, 1 to 4019\n",
      "Data columns (total 13 columns):\n",
      " #   Column                 Non-Null Count  Dtype  \n",
      "---  ------                 --------------  -----  \n",
      " 0   NetworkScore           3282 non-null   float64\n",
      " 1   Age                    3282 non-null   float64\n",
      " 2   Tenure                 3282 non-null   int64  \n",
      " 3   MonthlyCharge          3282 non-null   float64\n",
      " 4   NumOfProducts          3282 non-null   int64  \n",
      " 5   HasInternetService     3282 non-null   int64  \n",
      " 6   EstimatedMonthlyUsage  3282 non-null   float64\n",
      " 7   Exited                 3282 non-null   int64  \n",
      " 8   Region_North           3282 non-null   int32  \n",
      " 9   Region_South           3282 non-null   int32  \n",
      " 10  Region_West            3282 non-null   int32  \n",
      " 11  Gender_Male            3282 non-null   int32  \n",
      " 12  Gender_Other           3282 non-null   int32  \n",
      "dtypes: float64(4), int32(5), int64(4)\n",
      "memory usage: 294.9 KB\n"
     ]
    }
   ],
   "source": [
    "telecom.info()"
   ]
  },
  {
   "cell_type": "markdown",
   "id": "685ff0fa",
   "metadata": {},
   "source": [
    "### Checking for Outliers"
   ]
  },
  {
   "cell_type": "code",
   "execution_count": 19,
   "id": "27235f83",
   "metadata": {},
   "outputs": [
    {
     "data": {
      "text/html": [
       "<div>\n",
       "<style scoped>\n",
       "    .dataframe tbody tr th:only-of-type {\n",
       "        vertical-align: middle;\n",
       "    }\n",
       "\n",
       "    .dataframe tbody tr th {\n",
       "        vertical-align: top;\n",
       "    }\n",
       "\n",
       "    .dataframe thead th {\n",
       "        text-align: right;\n",
       "    }\n",
       "</style>\n",
       "<table border=\"1\" class=\"dataframe\">\n",
       "  <thead>\n",
       "    <tr style=\"text-align: right;\">\n",
       "      <th></th>\n",
       "      <th>NetworkScore</th>\n",
       "      <th>Age</th>\n",
       "      <th>Tenure</th>\n",
       "      <th>MonthlyCharge</th>\n",
       "      <th>NumOfProducts</th>\n",
       "      <th>EstimatedMonthlyUsage</th>\n",
       "    </tr>\n",
       "  </thead>\n",
       "  <tbody>\n",
       "    <tr>\n",
       "      <th>count</th>\n",
       "      <td>3282.000000</td>\n",
       "      <td>3282.000000</td>\n",
       "      <td>3282.000000</td>\n",
       "      <td>3282.000000</td>\n",
       "      <td>3282.000000</td>\n",
       "      <td>3282.000000</td>\n",
       "    </tr>\n",
       "    <tr>\n",
       "      <th>mean</th>\n",
       "      <td>51.249238</td>\n",
       "      <td>44.158745</td>\n",
       "      <td>10.058806</td>\n",
       "      <td>109.892639</td>\n",
       "      <td>2.463132</td>\n",
       "      <td>550.785442</td>\n",
       "    </tr>\n",
       "    <tr>\n",
       "      <th>std</th>\n",
       "      <td>28.946704</td>\n",
       "      <td>15.249348</td>\n",
       "      <td>6.043065</td>\n",
       "      <td>52.231583</td>\n",
       "      <td>1.117869</td>\n",
       "      <td>257.535548</td>\n",
       "    </tr>\n",
       "    <tr>\n",
       "      <th>min</th>\n",
       "      <td>1.000000</td>\n",
       "      <td>18.000000</td>\n",
       "      <td>0.000000</td>\n",
       "      <td>20.030000</td>\n",
       "      <td>1.000000</td>\n",
       "      <td>100.090000</td>\n",
       "    </tr>\n",
       "    <tr>\n",
       "      <th>25%</th>\n",
       "      <td>26.000000</td>\n",
       "      <td>31.000000</td>\n",
       "      <td>5.000000</td>\n",
       "      <td>65.147500</td>\n",
       "      <td>1.000000</td>\n",
       "      <td>332.635000</td>\n",
       "    </tr>\n",
       "    <tr>\n",
       "      <th>50%</th>\n",
       "      <td>53.000000</td>\n",
       "      <td>44.000000</td>\n",
       "      <td>10.000000</td>\n",
       "      <td>109.335000</td>\n",
       "      <td>2.000000</td>\n",
       "      <td>551.085000</td>\n",
       "    </tr>\n",
       "    <tr>\n",
       "      <th>75%</th>\n",
       "      <td>77.000000</td>\n",
       "      <td>57.000000</td>\n",
       "      <td>15.000000</td>\n",
       "      <td>155.585000</td>\n",
       "      <td>3.000000</td>\n",
       "      <td>774.660000</td>\n",
       "    </tr>\n",
       "    <tr>\n",
       "      <th>90%</th>\n",
       "      <td>91.000000</td>\n",
       "      <td>65.000000</td>\n",
       "      <td>18.000000</td>\n",
       "      <td>182.450000</td>\n",
       "      <td>4.000000</td>\n",
       "      <td>906.968000</td>\n",
       "    </tr>\n",
       "    <tr>\n",
       "      <th>95%</th>\n",
       "      <td>95.950000</td>\n",
       "      <td>68.000000</td>\n",
       "      <td>19.000000</td>\n",
       "      <td>190.240000</td>\n",
       "      <td>4.000000</td>\n",
       "      <td>954.212000</td>\n",
       "    </tr>\n",
       "    <tr>\n",
       "      <th>99%</th>\n",
       "      <td>99.000000</td>\n",
       "      <td>70.000000</td>\n",
       "      <td>20.000000</td>\n",
       "      <td>198.239000</td>\n",
       "      <td>4.000000</td>\n",
       "      <td>990.578800</td>\n",
       "    </tr>\n",
       "    <tr>\n",
       "      <th>max</th>\n",
       "      <td>100.000000</td>\n",
       "      <td>70.000000</td>\n",
       "      <td>20.000000</td>\n",
       "      <td>199.960000</td>\n",
       "      <td>4.000000</td>\n",
       "      <td>999.820000</td>\n",
       "    </tr>\n",
       "  </tbody>\n",
       "</table>\n",
       "</div>"
      ],
      "text/plain": [
       "       NetworkScore          Age       Tenure  MonthlyCharge  NumOfProducts  \\\n",
       "count   3282.000000  3282.000000  3282.000000    3282.000000    3282.000000   \n",
       "mean      51.249238    44.158745    10.058806     109.892639       2.463132   \n",
       "std       28.946704    15.249348     6.043065      52.231583       1.117869   \n",
       "min        1.000000    18.000000     0.000000      20.030000       1.000000   \n",
       "25%       26.000000    31.000000     5.000000      65.147500       1.000000   \n",
       "50%       53.000000    44.000000    10.000000     109.335000       2.000000   \n",
       "75%       77.000000    57.000000    15.000000     155.585000       3.000000   \n",
       "90%       91.000000    65.000000    18.000000     182.450000       4.000000   \n",
       "95%       95.950000    68.000000    19.000000     190.240000       4.000000   \n",
       "99%       99.000000    70.000000    20.000000     198.239000       4.000000   \n",
       "max      100.000000    70.000000    20.000000     199.960000       4.000000   \n",
       "\n",
       "       EstimatedMonthlyUsage  \n",
       "count            3282.000000  \n",
       "mean              550.785442  \n",
       "std               257.535548  \n",
       "min               100.090000  \n",
       "25%               332.635000  \n",
       "50%               551.085000  \n",
       "75%               774.660000  \n",
       "90%               906.968000  \n",
       "95%               954.212000  \n",
       "99%               990.578800  \n",
       "max               999.820000  "
      ]
     },
     "execution_count": 19,
     "metadata": {},
     "output_type": "execute_result"
    }
   ],
   "source": [
    "telecom[['NetworkScore','Age','Tenure','MonthlyCharge','NumOfProducts','EstimatedMonthlyUsage']].describe(percentiles=[.25, .5, .75, .90, .95, .99])"
   ]
  },
  {
   "cell_type": "markdown",
   "id": "d778968d",
   "metadata": {},
   "source": [
    "From the distribution shown above, you can see that there no outliers in your data. The numbers are gradually increasing."
   ]
  },
  {
   "cell_type": "markdown",
   "id": "f7d13067",
   "metadata": {},
   "source": [
    "### Feature Scaling"
   ]
  },
  {
   "cell_type": "code",
   "execution_count": 20,
   "id": "8074f3b8",
   "metadata": {},
   "outputs": [
    {
     "data": {
      "text/html": [
       "<div>\n",
       "<style scoped>\n",
       "    .dataframe tbody tr th:only-of-type {\n",
       "        vertical-align: middle;\n",
       "    }\n",
       "\n",
       "    .dataframe tbody tr th {\n",
       "        vertical-align: top;\n",
       "    }\n",
       "\n",
       "    .dataframe thead th {\n",
       "        text-align: right;\n",
       "    }\n",
       "</style>\n",
       "<table border=\"1\" class=\"dataframe\">\n",
       "  <thead>\n",
       "    <tr style=\"text-align: right;\">\n",
       "      <th></th>\n",
       "      <th>count</th>\n",
       "      <th>mean</th>\n",
       "      <th>std</th>\n",
       "      <th>min</th>\n",
       "      <th>25%</th>\n",
       "      <th>50%</th>\n",
       "      <th>75%</th>\n",
       "      <th>max</th>\n",
       "    </tr>\n",
       "  </thead>\n",
       "  <tbody>\n",
       "    <tr>\n",
       "      <th>NetworkScore</th>\n",
       "      <td>3282.0</td>\n",
       "      <td>0.507568</td>\n",
       "      <td>0.292391</td>\n",
       "      <td>0.0</td>\n",
       "      <td>0.252525</td>\n",
       "      <td>0.525253</td>\n",
       "      <td>0.767677</td>\n",
       "      <td>1.0</td>\n",
       "    </tr>\n",
       "    <tr>\n",
       "      <th>Age</th>\n",
       "      <td>3282.0</td>\n",
       "      <td>0.503053</td>\n",
       "      <td>0.293257</td>\n",
       "      <td>0.0</td>\n",
       "      <td>0.250000</td>\n",
       "      <td>0.500000</td>\n",
       "      <td>0.750000</td>\n",
       "      <td>1.0</td>\n",
       "    </tr>\n",
       "    <tr>\n",
       "      <th>Tenure</th>\n",
       "      <td>3282.0</td>\n",
       "      <td>0.502940</td>\n",
       "      <td>0.302153</td>\n",
       "      <td>0.0</td>\n",
       "      <td>0.250000</td>\n",
       "      <td>0.500000</td>\n",
       "      <td>0.750000</td>\n",
       "      <td>1.0</td>\n",
       "    </tr>\n",
       "    <tr>\n",
       "      <th>MonthlyCharge</th>\n",
       "      <td>3282.0</td>\n",
       "      <td>0.499431</td>\n",
       "      <td>0.290288</td>\n",
       "      <td>0.0</td>\n",
       "      <td>0.250750</td>\n",
       "      <td>0.496332</td>\n",
       "      <td>0.753376</td>\n",
       "      <td>1.0</td>\n",
       "    </tr>\n",
       "    <tr>\n",
       "      <th>NumOfProducts</th>\n",
       "      <td>3282.0</td>\n",
       "      <td>0.487711</td>\n",
       "      <td>0.372623</td>\n",
       "      <td>0.0</td>\n",
       "      <td>0.000000</td>\n",
       "      <td>0.333333</td>\n",
       "      <td>0.666667</td>\n",
       "      <td>1.0</td>\n",
       "    </tr>\n",
       "    <tr>\n",
       "      <th>HasInternetService</th>\n",
       "      <td>3282.0</td>\n",
       "      <td>0.513102</td>\n",
       "      <td>0.499904</td>\n",
       "      <td>0.0</td>\n",
       "      <td>0.000000</td>\n",
       "      <td>1.000000</td>\n",
       "      <td>1.000000</td>\n",
       "      <td>1.0</td>\n",
       "    </tr>\n",
       "    <tr>\n",
       "      <th>EstimatedMonthlyUsage</th>\n",
       "      <td>3282.0</td>\n",
       "      <td>0.500923</td>\n",
       "      <td>0.286236</td>\n",
       "      <td>0.0</td>\n",
       "      <td>0.258461</td>\n",
       "      <td>0.501256</td>\n",
       "      <td>0.749747</td>\n",
       "      <td>1.0</td>\n",
       "    </tr>\n",
       "    <tr>\n",
       "      <th>Exited</th>\n",
       "      <td>3282.0</td>\n",
       "      <td>0.487812</td>\n",
       "      <td>0.499928</td>\n",
       "      <td>0.0</td>\n",
       "      <td>0.000000</td>\n",
       "      <td>0.000000</td>\n",
       "      <td>1.000000</td>\n",
       "      <td>1.0</td>\n",
       "    </tr>\n",
       "    <tr>\n",
       "      <th>Region_North</th>\n",
       "      <td>3282.0</td>\n",
       "      <td>0.255637</td>\n",
       "      <td>0.436285</td>\n",
       "      <td>0.0</td>\n",
       "      <td>0.000000</td>\n",
       "      <td>0.000000</td>\n",
       "      <td>1.000000</td>\n",
       "      <td>1.0</td>\n",
       "    </tr>\n",
       "    <tr>\n",
       "      <th>Region_South</th>\n",
       "      <td>3282.0</td>\n",
       "      <td>0.250457</td>\n",
       "      <td>0.433342</td>\n",
       "      <td>0.0</td>\n",
       "      <td>0.000000</td>\n",
       "      <td>0.000000</td>\n",
       "      <td>1.000000</td>\n",
       "      <td>1.0</td>\n",
       "    </tr>\n",
       "    <tr>\n",
       "      <th>Region_West</th>\n",
       "      <td>3282.0</td>\n",
       "      <td>0.245582</td>\n",
       "      <td>0.430497</td>\n",
       "      <td>0.0</td>\n",
       "      <td>0.000000</td>\n",
       "      <td>0.000000</td>\n",
       "      <td>0.000000</td>\n",
       "      <td>1.0</td>\n",
       "    </tr>\n",
       "    <tr>\n",
       "      <th>Gender_Male</th>\n",
       "      <td>3282.0</td>\n",
       "      <td>0.333943</td>\n",
       "      <td>0.471691</td>\n",
       "      <td>0.0</td>\n",
       "      <td>0.000000</td>\n",
       "      <td>0.000000</td>\n",
       "      <td>1.000000</td>\n",
       "      <td>1.0</td>\n",
       "    </tr>\n",
       "    <tr>\n",
       "      <th>Gender_Other</th>\n",
       "      <td>3282.0</td>\n",
       "      <td>0.332724</td>\n",
       "      <td>0.471260</td>\n",
       "      <td>0.0</td>\n",
       "      <td>0.000000</td>\n",
       "      <td>0.000000</td>\n",
       "      <td>1.000000</td>\n",
       "      <td>1.0</td>\n",
       "    </tr>\n",
       "  </tbody>\n",
       "</table>\n",
       "</div>"
      ],
      "text/plain": [
       "                        count      mean       std  min       25%       50%  \\\n",
       "NetworkScore           3282.0  0.507568  0.292391  0.0  0.252525  0.525253   \n",
       "Age                    3282.0  0.503053  0.293257  0.0  0.250000  0.500000   \n",
       "Tenure                 3282.0  0.502940  0.302153  0.0  0.250000  0.500000   \n",
       "MonthlyCharge          3282.0  0.499431  0.290288  0.0  0.250750  0.496332   \n",
       "NumOfProducts          3282.0  0.487711  0.372623  0.0  0.000000  0.333333   \n",
       "HasInternetService     3282.0  0.513102  0.499904  0.0  0.000000  1.000000   \n",
       "EstimatedMonthlyUsage  3282.0  0.500923  0.286236  0.0  0.258461  0.501256   \n",
       "Exited                 3282.0  0.487812  0.499928  0.0  0.000000  0.000000   \n",
       "Region_North           3282.0  0.255637  0.436285  0.0  0.000000  0.000000   \n",
       "Region_South           3282.0  0.250457  0.433342  0.0  0.000000  0.000000   \n",
       "Region_West            3282.0  0.245582  0.430497  0.0  0.000000  0.000000   \n",
       "Gender_Male            3282.0  0.333943  0.471691  0.0  0.000000  0.000000   \n",
       "Gender_Other           3282.0  0.332724  0.471260  0.0  0.000000  0.000000   \n",
       "\n",
       "                            75%  max  \n",
       "NetworkScore           0.767677  1.0  \n",
       "Age                    0.750000  1.0  \n",
       "Tenure                 0.750000  1.0  \n",
       "MonthlyCharge          0.753376  1.0  \n",
       "NumOfProducts          0.666667  1.0  \n",
       "HasInternetService     1.000000  1.0  \n",
       "EstimatedMonthlyUsage  0.749747  1.0  \n",
       "Exited                 1.000000  1.0  \n",
       "Region_North           1.000000  1.0  \n",
       "Region_South           1.000000  1.0  \n",
       "Region_West            0.000000  1.0  \n",
       "Gender_Male            1.000000  1.0  \n",
       "Gender_Other           1.000000  1.0  "
      ]
     },
     "execution_count": 20,
     "metadata": {},
     "output_type": "execute_result"
    }
   ],
   "source": [
    "scaler = MinMaxScaler()\n",
    "num_vars = ['NetworkScore', 'Age',\"Tenure\",'MonthlyCharge','NumOfProducts','EstimatedMonthlyUsage']\n",
    "telecom[num_vars]=scaler.fit_transform(telecom[num_vars])\n",
    "telecom.describe().T"
   ]
  },
  {
   "cell_type": "markdown",
   "id": "71d1790b",
   "metadata": {},
   "source": [
    "### Looking at Correlations"
   ]
  },
  {
   "cell_type": "code",
   "execution_count": 21,
   "id": "e2510324",
   "metadata": {},
   "outputs": [
    {
     "data": {
      "image/png": "[encoded data removed]",
      "text/plain": [
       "<Figure size 2000x2000 with 2 Axes>"
      ]
     },
     "metadata": {},
     "output_type": "display_data"
    }
   ],
   "source": [
    "#heatmap to show the correlation between variables\n",
    "plt.figure(figsize = (20,20))\n",
    "sns.heatmap(telecom[['NetworkScore','Age','Tenure','MonthlyCharge','NumOfProducts','HasInternetService','EstimatedMonthlyUsage']].corr(),cmap='OrRd',annot =True)\n",
    "plt.show()"
   ]
  },
  {
   "cell_type": "markdown",
   "id": "61e8afa9",
   "metadata": {},
   "source": [
    "here, we can there is approx no correlation between variables, therefore we can goahead and build model."
   ]
  },
  {
   "cell_type": "markdown",
   "id": "7d200819",
   "metadata": {},
   "source": [
    "  "
   ]
  },
  {
   "cell_type": "code",
   "execution_count": 22,
   "id": "9b7ed60b",
   "metadata": {},
   "outputs": [
    {
     "data": {
      "text/plain": [
       "48.7812309567337"
      ]
     },
     "execution_count": 22,
     "metadata": {},
     "output_type": "execute_result"
    }
   ],
   "source": [
    "### Checking the Churn Rate\n",
    "churn = (sum(telecom['Exited'])/len(telecom['Exited'].index))*100\n",
    "churn"
   ]
  },
  {
   "cell_type": "markdown",
   "id": "5ab676ae",
   "metadata": {},
   "source": [
    "we have aprox 49% churn rate."
   ]
  },
  {
   "cell_type": "markdown",
   "id": "bd18ba9d",
   "metadata": {},
   "source": [
    "### Train test split"
   ]
  },
  {
   "cell_type": "code",
   "execution_count": 23,
   "id": "f6f8bb3a",
   "metadata": {},
   "outputs": [],
   "source": [
    "X = telecom.drop(['Exited'], axis=1)\n",
    "y = telecom['Exited']\n",
    "# X_train, X_test, y_train, y_test split to build model and test on the dataset, after good build we will predict on test dataset which give in different file.\n",
    "X_train, X_test, y_train, y_test = train_test_split(X, y, train_size=0.8, random_state=100)"
   ]
  },
  {
   "cell_type": "markdown",
   "id": "c84cc5e4",
   "metadata": {},
   "source": [
    "### Using Decision Trees (Default parameters)"
   ]
  },
  {
   "cell_type": "code",
   "execution_count": 24,
   "id": "0c42fa19",
   "metadata": {},
   "outputs": [
    {
     "data": {
      "text/html": [
       "<style>#sk-container-id-1 {color: black;}#sk-container-id-1 pre{padding: 0;}#sk-container-id-1 div.sk-toggleable {background-color: white;}#sk-container-id-1 label.sk-toggleable__label {cursor: pointer;display: block;width: 100%;margin-bottom: 0;padding: 0.3em;box-sizing: border-box;text-align: center;}#sk-container-id-1 label.sk-toggleable__label-arrow:before {content: \"▸\";float: left;margin-right: 0.25em;color: #696969;}#sk-container-id-1 label.sk-toggleable__label-arrow:hover:before {color: black;}#sk-container-id-1 div.sk-estimator:hover label.sk-toggleable__label-arrow:before {color: black;}#sk-container-id-1 div.sk-toggleable__content {max-height: 0;max-width: 0;overflow: hidden;text-align: left;background-color: #f0f8ff;}#sk-container-id-1 div.sk-toggleable__content pre {margin: 0.2em;color: black;border-radius: 0.25em;background-color: #f0f8ff;}#sk-container-id-1 input.sk-toggleable__control:checked~div.sk-toggleable__content {max-height: 200px;max-width: 100%;overflow: auto;}#sk-container-id-1 input.sk-toggleable__control:checked~label.sk-toggleable__label-arrow:before {content: \"▾\";}#sk-container-id-1 div.sk-estimator input.sk-toggleable__control:checked~label.sk-toggleable__label {background-color: #d4ebff;}#sk-container-id-1 div.sk-label input.sk-toggleable__control:checked~label.sk-toggleable__label {background-color: #d4ebff;}#sk-container-id-1 input.sk-hidden--visually {border: 0;clip: rect(1px 1px 1px 1px);clip: rect(1px, 1px, 1px, 1px);height: 1px;margin: -1px;overflow: hidden;padding: 0;position: absolute;width: 1px;}#sk-container-id-1 div.sk-estimator {font-family: monospace;background-color: #f0f8ff;border: 1px dotted black;border-radius: 0.25em;box-sizing: border-box;margin-bottom: 0.5em;}#sk-container-id-1 div.sk-estimator:hover {background-color: #d4ebff;}#sk-container-id-1 div.sk-parallel-item::after {content: \"\";width: 100%;border-bottom: 1px solid gray;flex-grow: 1;}#sk-container-id-1 div.sk-label:hover label.sk-toggleable__label {background-color: #d4ebff;}#sk-container-id-1 div.sk-serial::before {content: \"\";position: absolute;border-left: 1px solid gray;box-sizing: border-box;top: 0;bottom: 0;left: 50%;z-index: 0;}#sk-container-id-1 div.sk-serial {display: flex;flex-direction: column;align-items: center;background-color: white;padding-right: 0.2em;padding-left: 0.2em;position: relative;}#sk-container-id-1 div.sk-item {position: relative;z-index: 1;}#sk-container-id-1 div.sk-parallel {display: flex;align-items: stretch;justify-content: center;background-color: white;position: relative;}#sk-container-id-1 div.sk-item::before, #sk-container-id-1 div.sk-parallel-item::before {content: \"\";position: absolute;border-left: 1px solid gray;box-sizing: border-box;top: 0;bottom: 0;left: 50%;z-index: -1;}#sk-container-id-1 div.sk-parallel-item {display: flex;flex-direction: column;z-index: 1;position: relative;background-color: white;}#sk-container-id-1 div.sk-parallel-item:first-child::after {align-self: flex-end;width: 50%;}#sk-container-id-1 div.sk-parallel-item:last-child::after {align-self: flex-start;width: 50%;}#sk-container-id-1 div.sk-parallel-item:only-child::after {width: 0;}#sk-container-id-1 div.sk-dashed-wrapped {border: 1px dashed gray;margin: 0 0.4em 0.5em 0.4em;box-sizing: border-box;padding-bottom: 0.4em;background-color: white;}#sk-container-id-1 div.sk-label label {font-family: monospace;font-weight: bold;display: inline-block;line-height: 1.2em;}#sk-container-id-1 div.sk-label-container {text-align: center;}#sk-container-id-1 div.sk-container {/* jupyter's `normalize.less` sets `[hidden] { display: none; }` but bootstrap.min.css set `[hidden] { display: none !important; }` so we also need the `!important` here to be able to override the default hidden behavior on the sphinx rendered scikit-learn.org. See: https://github.com/scikit-learn/scikit-learn/issues/21755 */display: inline-block !important;position: relative;}#sk-container-id-1 div.sk-text-repr-fallback {display: none;}</style><div id=\"sk-container-id-1\" class=\"sk-top-container\"><div class=\"sk-text-repr-fallback\"><pre>DecisionTreeClassifier(random_state=42)</pre><b>In a Jupyter environment, please rerun this cell to show the HTML representation or trust the notebook. <br />On GitHub, the HTML representation is unable to render, please try loading this page with nbviewer.org.</b></div><div class=\"sk-container\" hidden><div class=\"sk-item\"><div class=\"sk-estimator sk-toggleable\"><input class=\"sk-toggleable__control sk-hidden--visually\" id=\"sk-estimator-id-1\" type=\"checkbox\" checked><label for=\"sk-estimator-id-1\" class=\"sk-toggleable__label sk-toggleable__label-arrow\">DecisionTreeClassifier</label><div class=\"sk-toggleable__content\"><pre>DecisionTreeClassifier(random_state=42)</pre></div></div></div></div></div>"
      ],
      "text/plain": [
       "DecisionTreeClassifier(random_state=42)"
      ]
     },
     "execution_count": 24,
     "metadata": {},
     "output_type": "execute_result"
    }
   ],
   "source": [
    "dt = DecisionTreeClassifier(random_state=42)\n",
    "dt.fit(X_train, y_train)"
   ]
  },
  {
   "cell_type": "code",
   "execution_count": 25,
   "id": "2aca8ac8",
   "metadata": {},
   "outputs": [
    {
     "name": "stdout",
     "output_type": "stream",
     "text": [
      "0.6270928462709284\n"
     ]
    }
   ],
   "source": [
    "y_pred = dt.predict(X_test)\n",
    "print(accuracy_score(y_pred, y_test))"
   ]
  },
  {
   "cell_type": "markdown",
   "id": "87992fc7",
   "metadata": {},
   "source": [
    "above accuracy scrore is 63%, lets try with hyper-parameter tuning"
   ]
  },
  {
   "cell_type": "markdown",
   "id": "a6b9889d",
   "metadata": {},
   "source": [
    "### Hyper-parameter tuning for the Decision Tree (Tuned Hyperparameters)"
   ]
  },
  {
   "cell_type": "code",
   "execution_count": 26,
   "id": "aa89447a",
   "metadata": {},
   "outputs": [],
   "source": [
    "params = {\n",
    "    \"max_depth\": [2,3,4,5,7],\n",
    "    \"min_samples_leaf\": [30,40,50,80],\n",
    "    \"criterion\": ['gini','entropy']\n",
    "}\n",
    "\n",
    "dt_hyp = DecisionTreeClassifier(random_state=42)\n",
    "\n",
    "grid_search = GridSearchCV(estimator=dt_hyp,\n",
    "                           param_grid=params,\n",
    "                           cv=4,\n",
    "                           n_jobs=-1, \n",
    "                           verbose=1, \n",
    "                           scoring=\"accuracy\")"
   ]
  },
  {
   "cell_type": "code",
   "execution_count": 27,
   "id": "14fc71e4",
   "metadata": {},
   "outputs": [
    {
     "name": "stdout",
     "output_type": "stream",
     "text": [
      "Fitting 4 folds for each of 40 candidates, totalling 160 fits\n",
      "CPU times: total: 1.08 s\n",
      "Wall time: 31 s\n"
     ]
    },
    {
     "data": {
      "text/plain": [
       "0.7561874698370271"
      ]
     },
     "execution_count": 27,
     "metadata": {},
     "output_type": "execute_result"
    }
   ],
   "source": [
    "%%time\n",
    "grid_search.fit(X_train, y_train)\n",
    "grid_search.best_score_"
   ]
  },
  {
   "cell_type": "code",
   "execution_count": 28,
   "id": "0151f495",
   "metadata": {},
   "outputs": [
    {
     "data": {
      "text/html": [
       "<style>#sk-container-id-2 {color: black;}#sk-container-id-2 pre{padding: 0;}#sk-container-id-2 div.sk-toggleable {background-color: white;}#sk-container-id-2 label.sk-toggleable__label {cursor: pointer;display: block;width: 100%;margin-bottom: 0;padding: 0.3em;box-sizing: border-box;text-align: center;}#sk-container-id-2 label.sk-toggleable__label-arrow:before {content: \"▸\";float: left;margin-right: 0.25em;color: #696969;}#sk-container-id-2 label.sk-toggleable__label-arrow:hover:before {color: black;}#sk-container-id-2 div.sk-estimator:hover label.sk-toggleable__label-arrow:before {color: black;}#sk-container-id-2 div.sk-toggleable__content {max-height: 0;max-width: 0;overflow: hidden;text-align: left;background-color: #f0f8ff;}#sk-container-id-2 div.sk-toggleable__content pre {margin: 0.2em;color: black;border-radius: 0.25em;background-color: #f0f8ff;}#sk-container-id-2 input.sk-toggleable__control:checked~div.sk-toggleable__content {max-height: 200px;max-width: 100%;overflow: auto;}#sk-container-id-2 input.sk-toggleable__control:checked~label.sk-toggleable__label-arrow:before {content: \"▾\";}#sk-container-id-2 div.sk-estimator input.sk-toggleable__control:checked~label.sk-toggleable__label {background-color: #d4ebff;}#sk-container-id-2 div.sk-label input.sk-toggleable__control:checked~label.sk-toggleable__label {background-color: #d4ebff;}#sk-container-id-2 input.sk-hidden--visually {border: 0;clip: rect(1px 1px 1px 1px);clip: rect(1px, 1px, 1px, 1px);height: 1px;margin: -1px;overflow: hidden;padding: 0;position: absolute;width: 1px;}#sk-container-id-2 div.sk-estimator {font-family: monospace;background-color: #f0f8ff;border: 1px dotted black;border-radius: 0.25em;box-sizing: border-box;margin-bottom: 0.5em;}#sk-container-id-2 div.sk-estimator:hover {background-color: #d4ebff;}#sk-container-id-2 div.sk-parallel-item::after {content: \"\";width: 100%;border-bottom: 1px solid gray;flex-grow: 1;}#sk-container-id-2 div.sk-label:hover label.sk-toggleable__label {background-color: #d4ebff;}#sk-container-id-2 div.sk-serial::before {content: \"\";position: absolute;border-left: 1px solid gray;box-sizing: border-box;top: 0;bottom: 0;left: 50%;z-index: 0;}#sk-container-id-2 div.sk-serial {display: flex;flex-direction: column;align-items: center;background-color: white;padding-right: 0.2em;padding-left: 0.2em;position: relative;}#sk-container-id-2 div.sk-item {position: relative;z-index: 1;}#sk-container-id-2 div.sk-parallel {display: flex;align-items: stretch;justify-content: center;background-color: white;position: relative;}#sk-container-id-2 div.sk-item::before, #sk-container-id-2 div.sk-parallel-item::before {content: \"\";position: absolute;border-left: 1px solid gray;box-sizing: border-box;top: 0;bottom: 0;left: 50%;z-index: -1;}#sk-container-id-2 div.sk-parallel-item {display: flex;flex-direction: column;z-index: 1;position: relative;background-color: white;}#sk-container-id-2 div.sk-parallel-item:first-child::after {align-self: flex-end;width: 50%;}#sk-container-id-2 div.sk-parallel-item:last-child::after {align-self: flex-start;width: 50%;}#sk-container-id-2 div.sk-parallel-item:only-child::after {width: 0;}#sk-container-id-2 div.sk-dashed-wrapped {border: 1px dashed gray;margin: 0 0.4em 0.5em 0.4em;box-sizing: border-box;padding-bottom: 0.4em;background-color: white;}#sk-container-id-2 div.sk-label label {font-family: monospace;font-weight: bold;display: inline-block;line-height: 1.2em;}#sk-container-id-2 div.sk-label-container {text-align: center;}#sk-container-id-2 div.sk-container {/* jupyter's `normalize.less` sets `[hidden] { display: none; }` but bootstrap.min.css set `[hidden] { display: none !important; }` so we also need the `!important` here to be able to override the default hidden behavior on the sphinx rendered scikit-learn.org. See: https://github.com/scikit-learn/scikit-learn/issues/21755 */display: inline-block !important;position: relative;}#sk-container-id-2 div.sk-text-repr-fallback {display: none;}</style><div id=\"sk-container-id-2\" class=\"sk-top-container\"><div class=\"sk-text-repr-fallback\"><pre>DecisionTreeClassifier(max_depth=4, min_samples_leaf=50, random_state=42)</pre><b>In a Jupyter environment, please rerun this cell to show the HTML representation or trust the notebook. <br />On GitHub, the HTML representation is unable to render, please try loading this page with nbviewer.org.</b></div><div class=\"sk-container\" hidden><div class=\"sk-item\"><div class=\"sk-estimator sk-toggleable\"><input class=\"sk-toggleable__control sk-hidden--visually\" id=\"sk-estimator-id-2\" type=\"checkbox\" checked><label for=\"sk-estimator-id-2\" class=\"sk-toggleable__label sk-toggleable__label-arrow\">DecisionTreeClassifier</label><div class=\"sk-toggleable__content\"><pre>DecisionTreeClassifier(max_depth=4, min_samples_leaf=50, random_state=42)</pre></div></div></div></div></div>"
      ],
      "text/plain": [
       "DecisionTreeClassifier(max_depth=4, min_samples_leaf=50, random_state=42)"
      ]
     },
     "execution_count": 28,
     "metadata": {},
     "output_type": "execute_result"
    }
   ],
   "source": [
    "dt_best = grid_search.best_estimator_\n",
    "dt_best"
   ]
  },
  {
   "cell_type": "code",
   "execution_count": 29,
   "id": "3dd785f4",
   "metadata": {},
   "outputs": [
    {
     "data": {
      "text/plain": [
       "0.7625570776255708"
      ]
     },
     "execution_count": 29,
     "metadata": {},
     "output_type": "execute_result"
    }
   ],
   "source": [
    "y_pred = dt_best.predict(X_test)\n",
    "dt_best_acc = accuracy_score(y_pred, y_test)\n",
    "dt_best_acc"
   ]
  },
  {
   "cell_type": "markdown",
   "id": "10569521",
   "metadata": {},
   "source": [
    "after hyper-parameter tunning, we can observe the accuracy is increased to 76.2%."
   ]
  },
  {
   "cell_type": "markdown",
   "id": "5de203a3",
   "metadata": {},
   "source": [
    "### Using Random Forest (Default parameters)"
   ]
  },
  {
   "cell_type": "code",
   "execution_count": 30,
   "id": "64f64f6d",
   "metadata": {},
   "outputs": [
    {
     "data": {
      "text/plain": [
       "0.6659047619047619"
      ]
     },
     "execution_count": 30,
     "metadata": {},
     "output_type": "execute_result"
    }
   ],
   "source": [
    "rf = RandomForestClassifier(n_estimators=10, oob_score=True)\n",
    "rf.fit(X_train, y_train)\n",
    "rf.oob_score_"
   ]
  },
  {
   "cell_type": "markdown",
   "id": "7221699b",
   "metadata": {},
   "source": [
    "#### Hyper-parameter tuning for the Random Forest (Tuned Hyperparameters)"
   ]
  },
  {
   "cell_type": "code",
   "execution_count": 31,
   "id": "9907399b",
   "metadata": {},
   "outputs": [],
   "source": [
    "rf = RandomForestClassifier(random_state=42, n_jobs=-1)\n",
    "params = {\n",
    "    'max_depth': [3,4,5],\n",
    "    'min_samples_leaf': [35,40,50],\n",
    "    'n_estimators': [5,6,7],\n",
    "    'max_features': [8,11,13,15]\n",
    "}\n",
    "\n",
    "grid_search = GridSearchCV(estimator=rf,\n",
    "                           param_grid=params,\n",
    "                           cv = 4,\n",
    "                           n_jobs=-1, \n",
    "                           verbose=1, \n",
    "                           scoring=\"accuracy\")"
   ]
  },
  {
   "cell_type": "code",
   "execution_count": 32,
   "id": "20cb67de",
   "metadata": {},
   "outputs": [
    {
     "name": "stdout",
     "output_type": "stream",
     "text": [
      "Fitting 4 folds for each of 108 candidates, totalling 432 fits\n",
      "CPU times: total: 4.09 s\n",
      "Wall time: 1min 1s\n"
     ]
    },
    {
     "data": {
      "text/plain": [
       "0.7565685673980027"
      ]
     },
     "execution_count": 32,
     "metadata": {},
     "output_type": "execute_result"
    }
   ],
   "source": [
    "%%time\n",
    "grid_search.fit(X_train, y_train)\n",
    "grid_search.best_score_"
   ]
  },
  {
   "cell_type": "code",
   "execution_count": 33,
   "id": "a9b8f3a7",
   "metadata": {},
   "outputs": [
    {
     "data": {
      "text/html": [
       "<style>#sk-container-id-3 {color: black;}#sk-container-id-3 pre{padding: 0;}#sk-container-id-3 div.sk-toggleable {background-color: white;}#sk-container-id-3 label.sk-toggleable__label {cursor: pointer;display: block;width: 100%;margin-bottom: 0;padding: 0.3em;box-sizing: border-box;text-align: center;}#sk-container-id-3 label.sk-toggleable__label-arrow:before {content: \"▸\";float: left;margin-right: 0.25em;color: #696969;}#sk-container-id-3 label.sk-toggleable__label-arrow:hover:before {color: black;}#sk-container-id-3 div.sk-estimator:hover label.sk-toggleable__label-arrow:before {color: black;}#sk-container-id-3 div.sk-toggleable__content {max-height: 0;max-width: 0;overflow: hidden;text-align: left;background-color: #f0f8ff;}#sk-container-id-3 div.sk-toggleable__content pre {margin: 0.2em;color: black;border-radius: 0.25em;background-color: #f0f8ff;}#sk-container-id-3 input.sk-toggleable__control:checked~div.sk-toggleable__content {max-height: 200px;max-width: 100%;overflow: auto;}#sk-container-id-3 input.sk-toggleable__control:checked~label.sk-toggleable__label-arrow:before {content: \"▾\";}#sk-container-id-3 div.sk-estimator input.sk-toggleable__control:checked~label.sk-toggleable__label {background-color: #d4ebff;}#sk-container-id-3 div.sk-label input.sk-toggleable__control:checked~label.sk-toggleable__label {background-color: #d4ebff;}#sk-container-id-3 input.sk-hidden--visually {border: 0;clip: rect(1px 1px 1px 1px);clip: rect(1px, 1px, 1px, 1px);height: 1px;margin: -1px;overflow: hidden;padding: 0;position: absolute;width: 1px;}#sk-container-id-3 div.sk-estimator {font-family: monospace;background-color: #f0f8ff;border: 1px dotted black;border-radius: 0.25em;box-sizing: border-box;margin-bottom: 0.5em;}#sk-container-id-3 div.sk-estimator:hover {background-color: #d4ebff;}#sk-container-id-3 div.sk-parallel-item::after {content: \"\";width: 100%;border-bottom: 1px solid gray;flex-grow: 1;}#sk-container-id-3 div.sk-label:hover label.sk-toggleable__label {background-color: #d4ebff;}#sk-container-id-3 div.sk-serial::before {content: \"\";position: absolute;border-left: 1px solid gray;box-sizing: border-box;top: 0;bottom: 0;left: 50%;z-index: 0;}#sk-container-id-3 div.sk-serial {display: flex;flex-direction: column;align-items: center;background-color: white;padding-right: 0.2em;padding-left: 0.2em;position: relative;}#sk-container-id-3 div.sk-item {position: relative;z-index: 1;}#sk-container-id-3 div.sk-parallel {display: flex;align-items: stretch;justify-content: center;background-color: white;position: relative;}#sk-container-id-3 div.sk-item::before, #sk-container-id-3 div.sk-parallel-item::before {content: \"\";position: absolute;border-left: 1px solid gray;box-sizing: border-box;top: 0;bottom: 0;left: 50%;z-index: -1;}#sk-container-id-3 div.sk-parallel-item {display: flex;flex-direction: column;z-index: 1;position: relative;background-color: white;}#sk-container-id-3 div.sk-parallel-item:first-child::after {align-self: flex-end;width: 50%;}#sk-container-id-3 div.sk-parallel-item:last-child::after {align-self: flex-start;width: 50%;}#sk-container-id-3 div.sk-parallel-item:only-child::after {width: 0;}#sk-container-id-3 div.sk-dashed-wrapped {border: 1px dashed gray;margin: 0 0.4em 0.5em 0.4em;box-sizing: border-box;padding-bottom: 0.4em;background-color: white;}#sk-container-id-3 div.sk-label label {font-family: monospace;font-weight: bold;display: inline-block;line-height: 1.2em;}#sk-container-id-3 div.sk-label-container {text-align: center;}#sk-container-id-3 div.sk-container {/* jupyter's `normalize.less` sets `[hidden] { display: none; }` but bootstrap.min.css set `[hidden] { display: none !important; }` so we also need the `!important` here to be able to override the default hidden behavior on the sphinx rendered scikit-learn.org. See: https://github.com/scikit-learn/scikit-learn/issues/21755 */display: inline-block !important;position: relative;}#sk-container-id-3 div.sk-text-repr-fallback {display: none;}</style><div id=\"sk-container-id-3\" class=\"sk-top-container\"><div class=\"sk-text-repr-fallback\"><pre>RandomForestClassifier(max_depth=4, max_features=13, min_samples_leaf=40,\n",
       "                       n_estimators=6, n_jobs=-1, random_state=42)</pre><b>In a Jupyter environment, please rerun this cell to show the HTML representation or trust the notebook. <br />On GitHub, the HTML representation is unable to render, please try loading this page with nbviewer.org.</b></div><div class=\"sk-container\" hidden><div class=\"sk-item\"><div class=\"sk-estimator sk-toggleable\"><input class=\"sk-toggleable__control sk-hidden--visually\" id=\"sk-estimator-id-3\" type=\"checkbox\" checked><label for=\"sk-estimator-id-3\" class=\"sk-toggleable__label sk-toggleable__label-arrow\">RandomForestClassifier</label><div class=\"sk-toggleable__content\"><pre>RandomForestClassifier(max_depth=4, max_features=13, min_samples_leaf=40,\n",
       "                       n_estimators=6, n_jobs=-1, random_state=42)</pre></div></div></div></div></div>"
      ],
      "text/plain": [
       "RandomForestClassifier(max_depth=4, max_features=13, min_samples_leaf=40,\n",
       "                       n_estimators=6, n_jobs=-1, random_state=42)"
      ]
     },
     "execution_count": 33,
     "metadata": {},
     "output_type": "execute_result"
    }
   ],
   "source": [
    "rf_best = grid_search.best_estimator_\n",
    "rf_best"
   ]
  },
  {
   "cell_type": "code",
   "execution_count": 34,
   "id": "786ca822",
   "metadata": {},
   "outputs": [
    {
     "data": {
      "text/plain": [
       "0.756468797564688"
      ]
     },
     "execution_count": 34,
     "metadata": {},
     "output_type": "execute_result"
    }
   ],
   "source": [
    "y_pred = rf_best.predict(X_test)\n",
    "rf_best_acc = accuracy_score(y_pred, y_test)\n",
    "rf_best_acc"
   ]
  },
  {
   "cell_type": "markdown",
   "id": "7b2cdf1d",
   "metadata": {},
   "source": [
    "accuracy is approx 75.6%"
   ]
  },
  {
   "cell_type": "markdown",
   "id": "06e56b16",
   "metadata": {},
   "source": [
    "### Using XGBoost"
   ]
  },
  {
   "cell_type": "code",
   "execution_count": 35,
   "id": "cb8834a6",
   "metadata": {},
   "outputs": [
    {
     "data": {
      "text/plain": [
       "0.680365296803653"
      ]
     },
     "execution_count": 35,
     "metadata": {},
     "output_type": "execute_result"
    }
   ],
   "source": [
    "xgb_cl = xgb.XGBClassifier(n_jobs=-1, objective='binary:logistic')\n",
    "xgb_cl.fit(X_train, y_train)\n",
    "y_pred = xgb_cl.predict(X_test)\n",
    "accuracy_score(y_pred, y_test)"
   ]
  },
  {
   "cell_type": "markdown",
   "id": "b61ec18d",
   "metadata": {},
   "source": [
    "### Hyper-parameter tuning for XGBoost (Tuned Hyperparameters)"
   ]
  },
  {
   "cell_type": "code",
   "execution_count": null,
   "id": "0c6dff2f",
   "metadata": {},
   "outputs": [
    {
     "name": "stdout",
     "output_type": "stream",
     "text": [
      "Fitting 5 folds for each of 50 candidates, totalling 250 fits\n"
     ]
    }
   ],
   "source": [
    "param_grid = {\n",
    "    'learning_rate': [0.02,0.03,0.04],\n",
    "    'n_estimators': [80,90,100],\n",
    "    'max_depth': [3,4,5],\n",
    "    'min_child_weight': [0.3,0.4,0.5],\n",
    "    'gamma': [0.1,0.2],\n",
    "    'subsample': [0.4,0.5,0.6],\n",
    "    'colsample_bytree': [0.5,0.7,0.8],\n",
    "    'reg_alpha': [ 0.1,0.3, 0.5],\n",
    "    'reg_lambda': [0.0, 0.1]\n",
    "}\n",
    "\n",
    "xgb_cl_hyp = xgb.XGBClassifier(n_jobs=-1, objective='binary:logistic')\n",
    "random_search = RandomizedSearchCV(estimator=xgb_cl_hyp, param_distributions=param_grid, \n",
    "                                   n_iter=50, scoring='accuracy', cv=5, verbose=1, n_jobs=-1)\n",
    "\n",
    "random_search.fit(X_train, y_train)\n",
    "best_params = random_search.best_params_\n",
    "best_params"
   ]
  },
  {
   "cell_type": "code",
   "execution_count": null,
   "id": "78ad0b03",
   "metadata": {},
   "outputs": [],
   "source": [
    "random_search.best_score_"
   ]
  },
  {
   "cell_type": "code",
   "execution_count": null,
   "id": "0f350f2d",
   "metadata": {},
   "outputs": [],
   "source": [
    "xgb_cl_best = random_search.best_estimator_\n",
    "y_pred = xgb_cl_best.predict(X_test)\n",
    "xgb_best_acc = accuracy_score(y_pred, y_test)\n",
    "xgb_best_acc"
   ]
  },
  {
   "cell_type": "markdown",
   "id": "69fc9c3d",
   "metadata": {},
   "source": [
    "xgboosting give us accuracy of approx 76.1%."
   ]
  },
  {
   "cell_type": "markdown",
   "id": "fdd346e7",
   "metadata": {},
   "source": [
    "  "
   ]
  },
  {
   "cell_type": "markdown",
   "id": "0e355c9b",
   "metadata": {},
   "source": [
    "### Plotting all results"
   ]
  },
  {
   "cell_type": "code",
   "execution_count": null,
   "id": "af381058",
   "metadata": {},
   "outputs": [],
   "source": [
    "plt.figure(figsize=(7, 6))\n",
    "\n",
    "plt.barh(['Decision Tree','Random Forest', 'XGBoost'], [dt_best_acc,rf_best_acc,xgb_best_acc])\n",
    "plt.xlim(0.75, 0.78)\n",
    "plt.xlabel('Accuracy')\n",
    "plt.title('Accuracy by Model')\n",
    "\n",
    "plt.show()"
   ]
  },
  {
   "cell_type": "markdown",
   "id": "10148528",
   "metadata": {},
   "source": [
    "All models are performing approximatly same, however Decision tree performed best with 76.2% accuracy"
   ]
  },
  {
   "cell_type": "markdown",
   "id": "952f4867",
   "metadata": {},
   "source": [
    "## Using Random Forest (hyper tunned) to predict value of test dataset"
   ]
  },
  {
   "cell_type": "code",
   "execution_count": null,
   "id": "a5cf6e5c",
   "metadata": {},
   "outputs": [],
   "source": [
    "#performing all feature cleanup which was performed during model building\n",
    "telecom_test = pd.read_csv(\"test_data.csv\")\n",
    "tel_df =telecom_test.drop(['CustomerID','Surname'],axis=1)\n",
    "tel_df.isnull().sum()"
   ]
  },
  {
   "cell_type": "markdown",
   "id": "b9f0a69d",
   "metadata": {},
   "source": [
    "treating null values (we can not drop rows, as we need to predict for all)"
   ]
  },
  {
   "cell_type": "code",
   "execution_count": null,
   "id": "a69df71a",
   "metadata": {},
   "outputs": [],
   "source": [
    "tel_df['NetworkScore'].fillna(tel_df['NetworkScore'].mean(), inplace=True)\n",
    "tel_df['Age'].fillna(tel_df['Age'].mean(), inplace=True)\n",
    "tel_df['EstimatedMonthlyUsage'].fillna(tel_df['EstimatedMonthlyUsage'].mean(), inplace=True)\n",
    "tel_df.drop(['IsActiveMember'],axis=1,inplace=True)\n",
    "tel_df.head()"
   ]
  },
  {
   "cell_type": "code",
   "execution_count": null,
   "id": "67e3f37e",
   "metadata": {},
   "outputs": [],
   "source": [
    "tel_df.isnull().sum()"
   ]
  },
  {
   "cell_type": "code",
   "execution_count": null,
   "id": "42c3dd5e",
   "metadata": {},
   "outputs": [],
   "source": [
    "tel_df = pd.concat([tel_df,pd.get_dummies(tel_df[['Region', 'Gender']], drop_first=True).astype(int)], axis=1)\n",
    "tel_df.drop(['Region', 'Gender'],axis=1, inplace=True)\n",
    "tel_df.head()"
   ]
  },
  {
   "cell_type": "code",
   "execution_count": null,
   "id": "aa8905e4",
   "metadata": {},
   "outputs": [],
   "source": [
    "scaler = MinMaxScaler()\n",
    "num_vars = ['NetworkScore', 'Age',\"Tenure\",'MonthlyCharge','NumOfProducts','EstimatedMonthlyUsage']\n",
    "tel_df[num_vars]=scaler.fit_transform(tel_df[num_vars])\n",
    "tel_df.describe().T"
   ]
  },
  {
   "cell_type": "code",
   "execution_count": null,
   "id": "c45b1761",
   "metadata": {},
   "outputs": [],
   "source": [
    "X_test = tel_df.drop(['Exited'],axis=1)\n",
    "X_test.head()"
   ]
  },
  {
   "cell_type": "code",
   "execution_count": null,
   "id": "17b4efa9",
   "metadata": {},
   "outputs": [],
   "source": [
    "y_pred = dt_best.predict(X_test)\n",
    "y_pred"
   ]
  },
  {
   "cell_type": "code",
   "execution_count": null,
   "id": "a843cd7a",
   "metadata": {},
   "outputs": [],
   "source": [
    "summary = pd.read_csv(\"sample_submission.csv\")\n",
    "summary['Exited']=y_pred"
   ]
  },
  {
   "cell_type": "code",
   "execution_count": null,
   "id": "65a394a4",
   "metadata": {},
   "outputs": [],
   "source": [
    "summary.to_csv('sample_submission.csv', index=False)"
   ]
  },
  {
   "cell_type": "code",
   "execution_count": null,
   "id": "0969792e",
   "metadata": {},
   "outputs": [],
   "source": []
  }
 ],
 "metadata": {
  "kernelspec": {
   "display_name": "Python 3 (ipykernel)",
   "language": "python",
   "name": "python3"
  },
  "language_info": {
   "codemirror_mode": {
    "name": "ipython",
    "version": 3
   },
   "file_extension": ".py",
   "mimetype": "text/x-python",
   "name": "python",
   "nbconvert_exporter": "python",
   "pygments_lexer": "ipython3",
   "version": "3.11.5"
  }
 },
 "nbformat": 4,
 "nbformat_minor": 5
}
